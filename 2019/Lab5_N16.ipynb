{
 "cells": [
  {
   "cell_type": "code",
   "execution_count": 1,
   "metadata": {},
   "outputs": [],
   "source": [
    "import pandas as pd\n",
    "import numpy as np\n",
    "import seaborn as sns\n",
    "from sklearn import preprocessing\n",
    "import theano as th\n",
    "import theano.tensor as T\n",
    "from sklearn.feature_selection import SelectKBest, chi2\n",
    "from sklearn.ensemble import ExtraTreesClassifier\n",
    "from sklearn.linear_model import SGDClassifier\n",
    "from sklearn.model_selection import cross_val_score\n",
    "import matplotlib.pyplot as plt\n",
    "import time"
   ]
  },
  {
   "cell_type": "code",
   "execution_count": 2,
   "metadata": {},
   "outputs": [],
   "source": [
    "# Read the data and create DataFrame from it\n",
    "data = pd.read_csv('16.csv', sep=';').replace(['DZN', 'Makula', 'SoftExudates', 'Vessels'], [0, 1, 2, 3])"
   ]
  },
  {
   "cell_type": "code",
   "execution_count": 3,
   "metadata": {},
   "outputs": [
    {
     "data": {
      "text/html": [
       "<div>\n",
       "<style scoped>\n",
       "    .dataframe tbody tr th:only-of-type {\n",
       "        vertical-align: middle;\n",
       "    }\n",
       "\n",
       "    .dataframe tbody tr th {\n",
       "        vertical-align: top;\n",
       "    }\n",
       "\n",
       "    .dataframe thead th {\n",
       "        text-align: right;\n",
       "    }\n",
       "</style>\n",
       "<table border=\"1\" class=\"dataframe\">\n",
       "  <thead>\n",
       "    <tr style=\"text-align: right;\">\n",
       "      <th></th>\n",
       "      <th>Unnamed: 0</th>\n",
       "      <th>name</th>\n",
       "      <th>area</th>\n",
       "      <th>class</th>\n",
       "      <th>gray_Mean</th>\n",
       "      <th>gray_Variance</th>\n",
       "      <th>gray_Skewness</th>\n",
       "      <th>gray_Kurtosis</th>\n",
       "      <th>gray_Perc.01%</th>\n",
       "      <th>gray_Perc.10%</th>\n",
       "      <th>...</th>\n",
       "      <th>b_S(5,-5)SumVarnc</th>\n",
       "      <th>b_S(5,-5)SumEntrp</th>\n",
       "      <th>b_S(5,-5)Entropy</th>\n",
       "      <th>b_S(5,-5)DifVarnc</th>\n",
       "      <th>b_S(5,-5)DifEntrp</th>\n",
       "      <th>b_GrMean</th>\n",
       "      <th>b_GrVariance</th>\n",
       "      <th>b_GrSkewness</th>\n",
       "      <th>b_GrKurtosis</th>\n",
       "      <th>b_GrNonZeros</th>\n",
       "    </tr>\n",
       "  </thead>\n",
       "  <tbody>\n",
       "    <tr>\n",
       "      <th>0</th>\n",
       "      <td>504914</td>\n",
       "      <td>25-May-2012 12-44-02</td>\n",
       "      <td>100</td>\n",
       "      <td>0</td>\n",
       "      <td>162,87</td>\n",
       "      <td>25,6731</td>\n",
       "      <td>0,0556933442808038</td>\n",
       "      <td>-0,847312470433456</td>\n",
       "      <td>153,0</td>\n",
       "      <td>156,0</td>\n",
       "      <td>...</td>\n",
       "      <td>19020,2920239063</td>\n",
       "      <td>1,0185245113550199</td>\n",
       "      <td>1,59059920589699</td>\n",
       "      <td>37,6861925522195</td>\n",
       "      <td>1,00034500883477</td>\n",
       "      <td>4,04366697163015</td>\n",
       "      <td>4,68000742254742</td>\n",
       "      <td>0,469840716855728</td>\n",
       "      <td>-0,739006133152813</td>\n",
       "      <td>1,0</td>\n",
       "    </tr>\n",
       "    <tr>\n",
       "      <th>1</th>\n",
       "      <td>504915</td>\n",
       "      <td>25-May-2012 12-44-02</td>\n",
       "      <td>100</td>\n",
       "      <td>0</td>\n",
       "      <td>163,22</td>\n",
       "      <td>34,0916</td>\n",
       "      <td>-0,184628743255271</td>\n",
       "      <td>-1,17512428138866</td>\n",
       "      <td>152,0</td>\n",
       "      <td>155,0</td>\n",
       "      <td>...</td>\n",
       "      <td>18872,185673506498</td>\n",
       "      <td>1,12394386122761</td>\n",
       "      <td>1,62672280537666</td>\n",
       "      <td>27,945501012950896</td>\n",
       "      <td>0,861753508048933</td>\n",
       "      <td>4,51488268129824</td>\n",
       "      <td>4,38145937411324</td>\n",
       "      <td>0,139565167526377</td>\n",
       "      <td>-0,8441575745042179</td>\n",
       "      <td>1,0</td>\n",
       "    </tr>\n",
       "    <tr>\n",
       "      <th>2</th>\n",
       "      <td>504916</td>\n",
       "      <td>25-May-2012 12-44-02</td>\n",
       "      <td>100</td>\n",
       "      <td>0</td>\n",
       "      <td>166,02</td>\n",
       "      <td>36,3396</td>\n",
       "      <td>-0,213090557717068</td>\n",
       "      <td>-1,34859723534067</td>\n",
       "      <td>155,0</td>\n",
       "      <td>158,0</td>\n",
       "      <td>...</td>\n",
       "      <td>18936,2296403973</td>\n",
       "      <td>0,9450748123142929</td>\n",
       "      <td>1,50017250441739</td>\n",
       "      <td>34,9389659370051</td>\n",
       "      <td>0,9521802095285329</td>\n",
       "      <td>3,42635982214587</td>\n",
       "      <td>2,77568336918453</td>\n",
       "      <td>0,258781983309002</td>\n",
       "      <td>-0,45019100421053404</td>\n",
       "      <td>0,96875</td>\n",
       "    </tr>\n",
       "    <tr>\n",
       "      <th>3</th>\n",
       "      <td>504917</td>\n",
       "      <td>25-May-2012 12-44-02</td>\n",
       "      <td>100</td>\n",
       "      <td>0</td>\n",
       "      <td>163,57</td>\n",
       "      <td>32,7051</td>\n",
       "      <td>-0,23953206151099998</td>\n",
       "      <td>-0,7412659193903579</td>\n",
       "      <td>151,0</td>\n",
       "      <td>155,0</td>\n",
       "      <td>...</td>\n",
       "      <td>19341,6490470399</td>\n",
       "      <td>1,0185245113550199</td>\n",
       "      <td>1,5694682548103003</td>\n",
       "      <td>21,2180474577127</td>\n",
       "      <td>0,793004206059718</td>\n",
       "      <td>3,5684615219362903</td>\n",
       "      <td>3,68795736646017</td>\n",
       "      <td>0,44332061765059905</td>\n",
       "      <td>0,0231065255473104</td>\n",
       "      <td>0,953125</td>\n",
       "    </tr>\n",
       "    <tr>\n",
       "      <th>4</th>\n",
       "      <td>504918</td>\n",
       "      <td>25-May-2012 12-44-02</td>\n",
       "      <td>100</td>\n",
       "      <td>0</td>\n",
       "      <td>162,73</td>\n",
       "      <td>35,4571</td>\n",
       "      <td>-0,0356651425692793</td>\n",
       "      <td>-1,45781568758918</td>\n",
       "      <td>153,0</td>\n",
       "      <td>155,0</td>\n",
       "      <td>...</td>\n",
       "      <td>18475,989997983</td>\n",
       "      <td>0,9944421117018969</td>\n",
       "      <td>1,63876400520322</td>\n",
       "      <td>45,426724314094706</td>\n",
       "      <td>0,9944421117018969</td>\n",
       "      <td>4,28622945998813</td>\n",
       "      <td>4,92511201632983</td>\n",
       "      <td>-0,0128182902511431</td>\n",
       "      <td>-1,1049856517508898</td>\n",
       "      <td>1,0</td>\n",
       "    </tr>\n",
       "  </tbody>\n",
       "</table>\n",
       "<p>5 rows × 940 columns</p>\n",
       "</div>"
      ],
      "text/plain": [
       "   Unnamed: 0                  name  area  class gray_Mean gray_Variance  \\\n",
       "0      504914  25-May-2012 12-44-02   100      0    162,87       25,6731   \n",
       "1      504915  25-May-2012 12-44-02   100      0    163,22       34,0916   \n",
       "2      504916  25-May-2012 12-44-02   100      0    166,02       36,3396   \n",
       "3      504917  25-May-2012 12-44-02   100      0    163,57       32,7051   \n",
       "4      504918  25-May-2012 12-44-02   100      0    162,73       35,4571   \n",
       "\n",
       "          gray_Skewness        gray_Kurtosis gray_Perc.01% gray_Perc.10%  \\\n",
       "0    0,0556933442808038   -0,847312470433456         153,0         156,0   \n",
       "1    -0,184628743255271    -1,17512428138866         152,0         155,0   \n",
       "2    -0,213090557717068    -1,34859723534067         155,0         158,0   \n",
       "3  -0,23953206151099998  -0,7412659193903579         151,0         155,0   \n",
       "4   -0,0356651425692793    -1,45781568758918         153,0         155,0   \n",
       "\n",
       "      ...        b_S(5,-5)SumVarnc   b_S(5,-5)SumEntrp    b_S(5,-5)Entropy  \\\n",
       "0     ...         19020,2920239063  1,0185245113550199    1,59059920589699   \n",
       "1     ...       18872,185673506498    1,12394386122761    1,62672280537666   \n",
       "2     ...         18936,2296403973  0,9450748123142929    1,50017250441739   \n",
       "3     ...         19341,6490470399  1,0185245113550199  1,5694682548103003   \n",
       "4     ...          18475,989997983  0,9944421117018969    1,63876400520322   \n",
       "\n",
       "    b_S(5,-5)DifVarnc   b_S(5,-5)DifEntrp            b_GrMean  \\\n",
       "0    37,6861925522195    1,00034500883477    4,04366697163015   \n",
       "1  27,945501012950896   0,861753508048933    4,51488268129824   \n",
       "2    34,9389659370051  0,9521802095285329    3,42635982214587   \n",
       "3    21,2180474577127   0,793004206059718  3,5684615219362903   \n",
       "4  45,426724314094706  0,9944421117018969    4,28622945998813   \n",
       "\n",
       "       b_GrVariance         b_GrSkewness          b_GrKurtosis b_GrNonZeros  \n",
       "0  4,68000742254742    0,469840716855728    -0,739006133152813          1,0  \n",
       "1  4,38145937411324    0,139565167526377   -0,8441575745042179          1,0  \n",
       "2  2,77568336918453    0,258781983309002  -0,45019100421053404      0,96875  \n",
       "3  3,68795736646017  0,44332061765059905    0,0231065255473104     0,953125  \n",
       "4  4,92511201632983  -0,0128182902511431   -1,1049856517508898          1,0  \n",
       "\n",
       "[5 rows x 940 columns]"
      ]
     },
     "execution_count": 3,
     "metadata": {},
     "output_type": "execute_result"
    }
   ],
   "source": [
    "# Check a few rows of the table\n",
    "data.head()"
   ]
  },
  {
   "cell_type": "code",
   "execution_count": 4,
   "metadata": {},
   "outputs": [
    {
     "name": "stdout",
     "output_type": "stream",
     "text": [
      "0    6004\n",
      "1    3517\n",
      "2    2454\n",
      "3    1079\n",
      "Name: class, dtype: int64\n"
     ]
    }
   ],
   "source": [
    "y = data['class']\n",
    "print(y.value_counts())"
   ]
  },
  {
   "cell_type": "code",
   "execution_count": 5,
   "metadata": {},
   "outputs": [],
   "source": [
    "y = data.pop('class')\n",
    "#даже если переводить всё это дело в таймстамп, получается так себе\n",
    "data.pop('name')\n",
    "x = data"
   ]
  },
  {
   "cell_type": "code",
   "execution_count": 6,
   "metadata": {},
   "outputs": [],
   "source": [
    "#форматируем всю х***ю\n",
    "#datePattern = '%d-%B-%Y %H-%M-%S'\n",
    "cols = x.columns\n",
    "#for index, row in x.head().iterrows():\n",
    "for index, row in x.iterrows():\n",
    "    #мутирущий код зло, но мне лень -_-\n",
    "    #if (isinstance(x.at[index, 'name'], str)):\n",
    "    #    trueDate = datetime.strptime(x.at[index, 'name'], datePattern)\n",
    "    #    x.at[index, 'name'] = datetime.timestamp(trueDate)\n",
    "    \n",
    "    for col in cols:\n",
    "        if (isinstance(x.at[index, col], str)):\n",
    "            x.at[index, col] = x.at[index, col].replace(',', '.', 1)"
   ]
  },
  {
   "cell_type": "code",
   "execution_count": 7,
   "metadata": {},
   "outputs": [],
   "source": [
    "#меням тип\n",
    "for col in cols:\n",
    "    x[col] = pd.to_numeric(x[col])"
   ]
  },
  {
   "cell_type": "code",
   "execution_count": 8,
   "metadata": {},
   "outputs": [],
   "source": [
    "#сдвигаем отрицательные\n",
    "for col in cols:\n",
    "    minColVal = x[col].min()\n",
    "    if (minColVal < 0):\n",
    "        for index, row in x.iterrows():\n",
    "            x.at[index, col] -= minColVal"
   ]
  },
  {
   "cell_type": "code",
   "execution_count": 9,
   "metadata": {},
   "outputs": [
    {
     "data": {
      "text/plain": [
       "Unnamed: 0               int64\n",
       "area                     int64\n",
       "gray_Mean              float64\n",
       "gray_Variance          float64\n",
       "gray_Skewness          float64\n",
       "gray_Kurtosis          float64\n",
       "gray_Perc.01%          float64\n",
       "gray_Perc.10%          float64\n",
       "gray_Perc.50%          float64\n",
       "gray_Perc.90%          float64\n",
       "gray_Perc.99%          float64\n",
       "gray_S(1,0)AngScMom    float64\n",
       "gray_S(1,0)Contrast    float64\n",
       "gray_S(1,0)Correlat    float64\n",
       "gray_S(1,0)SumOfSqs    float64\n",
       "gray_S(1,0)InvDfMom    float64\n",
       "gray_S(1,0)SumAverg    float64\n",
       "gray_S(1,0)SumVarnc    float64\n",
       "gray_S(1,0)SumEntrp    float64\n",
       "gray_S(1,0)Entropy     float64\n",
       "gray_S(1,0)DifVarnc    float64\n",
       "gray_S(1,0)DifEntrp    float64\n",
       "gray_S(0,1)AngScMom    float64\n",
       "gray_S(0,1)Contrast    float64\n",
       "gray_S(0,1)Correlat    float64\n",
       "gray_S(0,1)SumOfSqs    float64\n",
       "gray_S(0,1)InvDfMom    float64\n",
       "gray_S(0,1)SumAverg    float64\n",
       "gray_S(0,1)SumVarnc    float64\n",
       "gray_S(0,1)SumEntrp    float64\n",
       "                        ...   \n",
       "b_S(0,5)Entropy        float64\n",
       "b_S(0,5)DifVarnc       float64\n",
       "b_S(0,5)DifEntrp       float64\n",
       "b_S(5,5)AngScMom       float64\n",
       "b_S(5,5)Contrast       float64\n",
       "b_S(5,5)Correlat       float64\n",
       "b_S(5,5)SumOfSqs       float64\n",
       "b_S(5,5)InvDfMom       float64\n",
       "b_S(5,5)SumAverg       float64\n",
       "b_S(5,5)SumVarnc       float64\n",
       "b_S(5,5)SumEntrp       float64\n",
       "b_S(5,5)Entropy        float64\n",
       "b_S(5,5)DifVarnc       float64\n",
       "b_S(5,5)DifEntrp       float64\n",
       "b_S(5,-5)AngScMom      float64\n",
       "b_S(5,-5)Contrast      float64\n",
       "b_S(5,-5)Correlat      float64\n",
       "b_S(5,-5)SumOfSqs      float64\n",
       "b_S(5,-5)InvDfMom      float64\n",
       "b_S(5,-5)SumAverg      float64\n",
       "b_S(5,-5)SumVarnc      float64\n",
       "b_S(5,-5)SumEntrp      float64\n",
       "b_S(5,-5)Entropy       float64\n",
       "b_S(5,-5)DifVarnc      float64\n",
       "b_S(5,-5)DifEntrp      float64\n",
       "b_GrMean               float64\n",
       "b_GrVariance           float64\n",
       "b_GrSkewness           float64\n",
       "b_GrKurtosis           float64\n",
       "b_GrNonZeros           float64\n",
       "Length: 938, dtype: object"
      ]
     },
     "execution_count": 9,
     "metadata": {},
     "output_type": "execute_result"
    }
   ],
   "source": [
    "x.dtypes"
   ]
  },
  {
   "cell_type": "code",
   "execution_count": 10,
   "metadata": {},
   "outputs": [],
   "source": [
    "N = 4\n",
    "K = 17"
   ]
  },
  {
   "cell_type": "code",
   "execution_count": 11,
   "metadata": {},
   "outputs": [
    {
     "name": "stderr",
     "output_type": "stream",
     "text": [
      "/home/akakyi/anaconda3/lib/python3.7/site-packages/ipykernel_launcher.py:1: DataConversionWarning: Data with input dtype int64, float64 were all converted to float64 by the scale function.\n",
      "  \"\"\"Entry point for launching an IPython kernel.\n"
     ]
    },
    {
     "name": "stdout",
     "output_type": "stream",
     "text": [
      "[[0.00000000e+00 0.00000000e+00 6.72184017e-01 ... 4.42243172e-01\n",
      "  6.29448677e-02 1.00000000e+00]\n",
      " [7.66107408e-05 0.00000000e+00 6.73843965e-01 ... 3.44791273e-01\n",
      "  5.49957911e-02 1.00000000e+00]\n",
      " [1.53221482e-04 0.00000000e+00 6.87123548e-01 ... 3.79967674e-01\n",
      "  8.47782687e-02 9.09090909e-01]\n",
      " ...\n",
      " [9.99846779e-01 1.00000000e+00 2.83886649e-01 ... 4.89072869e-01\n",
      "  1.43858074e-01 9.37149270e-01]\n",
      " [9.99923389e-01 1.00000000e+00 2.52157932e-01 ... 4.62395601e-01\n",
      "  1.43714671e-01 8.92255892e-01]\n",
      " [1.00000000e+00 1.00000000e+00 2.66492767e-01 ... 4.95572304e-01\n",
      "  1.42125996e-01 8.83277217e-01]]\n"
     ]
    }
   ],
   "source": [
    "stand_X = preprocessing.scale(x)\n",
    "norm_X = preprocessing.MinMaxScaler().fit_transform(stand_X)\n",
    "print(norm_X)"
   ]
  },
  {
   "cell_type": "code",
   "execution_count": 12,
   "metadata": {},
   "outputs": [],
   "source": [
    "best_features = SelectKBest(score_func=chi2, k= N + K)\n",
    "fit_k = best_features.fit(norm_X, y)"
   ]
  },
  {
   "cell_type": "code",
   "execution_count": 13,
   "metadata": {},
   "outputs": [
    {
     "name": "stderr",
     "output_type": "stream",
     "text": [
      "/home/akakyi/anaconda3/lib/python3.7/site-packages/sklearn/ensemble/forest.py:246: FutureWarning: The default value of n_estimators will change from 10 in version 0.20 to 100 in 0.22.\n",
      "  \"10 in version 0.20 to 100 in 0.22.\", FutureWarning)\n"
     ]
    }
   ],
   "source": [
    "accuracy_Kbest = []\n",
    "model_norm = SGDClassifier(loss='log', penalty='l1', l1_ratio=1.)\n",
    "best_features = pd.DataFrame(data=fit_k.scores_, index=x.columns, columns=['chi2_score'])\n",
    "accuracy_trees = []\n",
    "model_tree = ExtraTreesClassifier().fit(norm_X, y)\n",
    "importance_features = pd.DataFrame(data=model_tree.feature_importances_, index=x.columns, columns=['feature_importance'])"
   ]
  },
  {
   "cell_type": "code",
   "execution_count": 14,
   "metadata": {},
   "outputs": [
    {
     "name": "stdout",
     "output_type": "stream",
     "text": [
      "4 features: \n",
      "\t Kbest: Index(['r_S(3,-3)SumVarnc', 'r_S(3,3)SumVarnc', 'r_S(2,2)SumVarnc',\n",
      "       'r_S(2,-2)SumVarnc'],\n",
      "      dtype='object')\n"
     ]
    },
    {
     "name": "stderr",
     "output_type": "stream",
     "text": [
      "/home/akakyi/anaconda3/lib/python3.7/site-packages/sklearn/linear_model/stochastic_gradient.py:166: FutureWarning: max_iter and tol parameters have been added in SGDClassifier in 0.19. If both are left unset, they default to max_iter=5 and tol=None. If tol is not None, max_iter defaults to max_iter=1000. From 0.21, default max_iter will be 1000, and default tol will be 1e-3.\n",
      "  FutureWarning)\n",
      "/home/akakyi/anaconda3/lib/python3.7/site-packages/sklearn/linear_model/stochastic_gradient.py:166: FutureWarning: max_iter and tol parameters have been added in SGDClassifier in 0.19. If both are left unset, they default to max_iter=5 and tol=None. If tol is not None, max_iter defaults to max_iter=1000. From 0.21, default max_iter will be 1000, and default tol will be 1e-3.\n",
      "  FutureWarning)\n",
      "/home/akakyi/anaconda3/lib/python3.7/site-packages/sklearn/linear_model/stochastic_gradient.py:166: FutureWarning: max_iter and tol parameters have been added in SGDClassifier in 0.19. If both are left unset, they default to max_iter=5 and tol=None. If tol is not None, max_iter defaults to max_iter=1000. From 0.21, default max_iter will be 1000, and default tol will be 1e-3.\n",
      "  FutureWarning)\n",
      "/home/akakyi/anaconda3/lib/python3.7/site-packages/sklearn/linear_model/stochastic_gradient.py:166: FutureWarning: max_iter and tol parameters have been added in SGDClassifier in 0.19. If both are left unset, they default to max_iter=5 and tol=None. If tol is not None, max_iter defaults to max_iter=1000. From 0.21, default max_iter will be 1000, and default tol will be 1e-3.\n",
      "  FutureWarning)\n",
      "/home/akakyi/anaconda3/lib/python3.7/site-packages/sklearn/linear_model/stochastic_gradient.py:166: FutureWarning: max_iter and tol parameters have been added in SGDClassifier in 0.19. If both are left unset, they default to max_iter=5 and tol=None. If tol is not None, max_iter defaults to max_iter=1000. From 0.21, default max_iter will be 1000, and default tol will be 1e-3.\n",
      "  FutureWarning)\n",
      "/home/akakyi/anaconda3/lib/python3.7/site-packages/sklearn/linear_model/stochastic_gradient.py:166: FutureWarning: max_iter and tol parameters have been added in SGDClassifier in 0.19. If both are left unset, they default to max_iter=5 and tol=None. If tol is not None, max_iter defaults to max_iter=1000. From 0.21, default max_iter will be 1000, and default tol will be 1e-3.\n",
      "  FutureWarning)\n"
     ]
    },
    {
     "name": "stdout",
     "output_type": "stream",
     "text": [
      "\t Trees: Index(['r_S(1,0)SumAverg', 'r_S(4,4)SumVarnc', 'b_S(0,1)SumAverg',\n",
      "       'r_S(0,3)SumVarnc'],\n",
      "      dtype='object')\n"
     ]
    },
    {
     "name": "stderr",
     "output_type": "stream",
     "text": [
      "/home/akakyi/anaconda3/lib/python3.7/site-packages/sklearn/linear_model/stochastic_gradient.py:166: FutureWarning: max_iter and tol parameters have been added in SGDClassifier in 0.19. If both are left unset, they default to max_iter=5 and tol=None. If tol is not None, max_iter defaults to max_iter=1000. From 0.21, default max_iter will be 1000, and default tol will be 1e-3.\n",
      "  FutureWarning)\n",
      "/home/akakyi/anaconda3/lib/python3.7/site-packages/sklearn/linear_model/stochastic_gradient.py:166: FutureWarning: max_iter and tol parameters have been added in SGDClassifier in 0.19. If both are left unset, they default to max_iter=5 and tol=None. If tol is not None, max_iter defaults to max_iter=1000. From 0.21, default max_iter will be 1000, and default tol will be 1e-3.\n",
      "  FutureWarning)\n",
      "/home/akakyi/anaconda3/lib/python3.7/site-packages/sklearn/linear_model/stochastic_gradient.py:166: FutureWarning: max_iter and tol parameters have been added in SGDClassifier in 0.19. If both are left unset, they default to max_iter=5 and tol=None. If tol is not None, max_iter defaults to max_iter=1000. From 0.21, default max_iter will be 1000, and default tol will be 1e-3.\n",
      "  FutureWarning)\n",
      "/home/akakyi/anaconda3/lib/python3.7/site-packages/sklearn/linear_model/stochastic_gradient.py:166: FutureWarning: max_iter and tol parameters have been added in SGDClassifier in 0.19. If both are left unset, they default to max_iter=5 and tol=None. If tol is not None, max_iter defaults to max_iter=1000. From 0.21, default max_iter will be 1000, and default tol will be 1e-3.\n",
      "  FutureWarning)\n",
      "/home/akakyi/anaconda3/lib/python3.7/site-packages/sklearn/linear_model/stochastic_gradient.py:166: FutureWarning: max_iter and tol parameters have been added in SGDClassifier in 0.19. If both are left unset, they default to max_iter=5 and tol=None. If tol is not None, max_iter defaults to max_iter=1000. From 0.21, default max_iter will be 1000, and default tol will be 1e-3.\n",
      "  FutureWarning)\n"
     ]
    },
    {
     "name": "stdout",
     "output_type": "stream",
     "text": [
      "5 features: \n",
      "\t Kbest: Index(['r_S(3,-3)SumVarnc', 'r_S(3,3)SumVarnc', 'r_S(2,2)SumVarnc',\n",
      "       'r_S(2,-2)SumVarnc', 'r_S(4,-4)SumVarnc'],\n",
      "      dtype='object')\n"
     ]
    },
    {
     "name": "stderr",
     "output_type": "stream",
     "text": [
      "/home/akakyi/anaconda3/lib/python3.7/site-packages/sklearn/linear_model/stochastic_gradient.py:166: FutureWarning: max_iter and tol parameters have been added in SGDClassifier in 0.19. If both are left unset, they default to max_iter=5 and tol=None. If tol is not None, max_iter defaults to max_iter=1000. From 0.21, default max_iter will be 1000, and default tol will be 1e-3.\n",
      "  FutureWarning)\n",
      "/home/akakyi/anaconda3/lib/python3.7/site-packages/sklearn/linear_model/stochastic_gradient.py:166: FutureWarning: max_iter and tol parameters have been added in SGDClassifier in 0.19. If both are left unset, they default to max_iter=5 and tol=None. If tol is not None, max_iter defaults to max_iter=1000. From 0.21, default max_iter will be 1000, and default tol will be 1e-3.\n",
      "  FutureWarning)\n",
      "/home/akakyi/anaconda3/lib/python3.7/site-packages/sklearn/linear_model/stochastic_gradient.py:166: FutureWarning: max_iter and tol parameters have been added in SGDClassifier in 0.19. If both are left unset, they default to max_iter=5 and tol=None. If tol is not None, max_iter defaults to max_iter=1000. From 0.21, default max_iter will be 1000, and default tol will be 1e-3.\n",
      "  FutureWarning)\n",
      "/home/akakyi/anaconda3/lib/python3.7/site-packages/sklearn/linear_model/stochastic_gradient.py:166: FutureWarning: max_iter and tol parameters have been added in SGDClassifier in 0.19. If both are left unset, they default to max_iter=5 and tol=None. If tol is not None, max_iter defaults to max_iter=1000. From 0.21, default max_iter will be 1000, and default tol will be 1e-3.\n",
      "  FutureWarning)\n",
      "/home/akakyi/anaconda3/lib/python3.7/site-packages/sklearn/linear_model/stochastic_gradient.py:166: FutureWarning: max_iter and tol parameters have been added in SGDClassifier in 0.19. If both are left unset, they default to max_iter=5 and tol=None. If tol is not None, max_iter defaults to max_iter=1000. From 0.21, default max_iter will be 1000, and default tol will be 1e-3.\n",
      "  FutureWarning)\n",
      "/home/akakyi/anaconda3/lib/python3.7/site-packages/sklearn/linear_model/stochastic_gradient.py:166: FutureWarning: max_iter and tol parameters have been added in SGDClassifier in 0.19. If both are left unset, they default to max_iter=5 and tol=None. If tol is not None, max_iter defaults to max_iter=1000. From 0.21, default max_iter will be 1000, and default tol will be 1e-3.\n",
      "  FutureWarning)\n"
     ]
    },
    {
     "name": "stdout",
     "output_type": "stream",
     "text": [
      "\t Trees: Index(['r_S(1,0)SumAverg', 'r_S(4,4)SumVarnc', 'b_S(0,1)SumAverg',\n",
      "       'r_S(0,3)SumVarnc', 'g_S(4,4)SumAverg'],\n",
      "      dtype='object')\n"
     ]
    },
    {
     "name": "stderr",
     "output_type": "stream",
     "text": [
      "/home/akakyi/anaconda3/lib/python3.7/site-packages/sklearn/linear_model/stochastic_gradient.py:166: FutureWarning: max_iter and tol parameters have been added in SGDClassifier in 0.19. If both are left unset, they default to max_iter=5 and tol=None. If tol is not None, max_iter defaults to max_iter=1000. From 0.21, default max_iter will be 1000, and default tol will be 1e-3.\n",
      "  FutureWarning)\n",
      "/home/akakyi/anaconda3/lib/python3.7/site-packages/sklearn/linear_model/stochastic_gradient.py:166: FutureWarning: max_iter and tol parameters have been added in SGDClassifier in 0.19. If both are left unset, they default to max_iter=5 and tol=None. If tol is not None, max_iter defaults to max_iter=1000. From 0.21, default max_iter will be 1000, and default tol will be 1e-3.\n",
      "  FutureWarning)\n",
      "/home/akakyi/anaconda3/lib/python3.7/site-packages/sklearn/linear_model/stochastic_gradient.py:166: FutureWarning: max_iter and tol parameters have been added in SGDClassifier in 0.19. If both are left unset, they default to max_iter=5 and tol=None. If tol is not None, max_iter defaults to max_iter=1000. From 0.21, default max_iter will be 1000, and default tol will be 1e-3.\n",
      "  FutureWarning)\n"
     ]
    },
    {
     "name": "stdout",
     "output_type": "stream",
     "text": [
      "6 features: \n",
      "\t Kbest: Index(['r_S(3,-3)SumVarnc', 'r_S(3,3)SumVarnc', 'r_S(2,2)SumVarnc',\n",
      "       'r_S(2,-2)SumVarnc', 'r_S(4,-4)SumVarnc', 'r_S(0,3)SumVarnc'],\n",
      "      dtype='object')\n"
     ]
    },
    {
     "name": "stderr",
     "output_type": "stream",
     "text": [
      "/home/akakyi/anaconda3/lib/python3.7/site-packages/sklearn/linear_model/stochastic_gradient.py:166: FutureWarning: max_iter and tol parameters have been added in SGDClassifier in 0.19. If both are left unset, they default to max_iter=5 and tol=None. If tol is not None, max_iter defaults to max_iter=1000. From 0.21, default max_iter will be 1000, and default tol will be 1e-3.\n",
      "  FutureWarning)\n",
      "/home/akakyi/anaconda3/lib/python3.7/site-packages/sklearn/linear_model/stochastic_gradient.py:166: FutureWarning: max_iter and tol parameters have been added in SGDClassifier in 0.19. If both are left unset, they default to max_iter=5 and tol=None. If tol is not None, max_iter defaults to max_iter=1000. From 0.21, default max_iter will be 1000, and default tol will be 1e-3.\n",
      "  FutureWarning)\n",
      "/home/akakyi/anaconda3/lib/python3.7/site-packages/sklearn/linear_model/stochastic_gradient.py:166: FutureWarning: max_iter and tol parameters have been added in SGDClassifier in 0.19. If both are left unset, they default to max_iter=5 and tol=None. If tol is not None, max_iter defaults to max_iter=1000. From 0.21, default max_iter will be 1000, and default tol will be 1e-3.\n",
      "  FutureWarning)\n",
      "/home/akakyi/anaconda3/lib/python3.7/site-packages/sklearn/linear_model/stochastic_gradient.py:166: FutureWarning: max_iter and tol parameters have been added in SGDClassifier in 0.19. If both are left unset, they default to max_iter=5 and tol=None. If tol is not None, max_iter defaults to max_iter=1000. From 0.21, default max_iter will be 1000, and default tol will be 1e-3.\n",
      "  FutureWarning)\n",
      "/home/akakyi/anaconda3/lib/python3.7/site-packages/sklearn/linear_model/stochastic_gradient.py:166: FutureWarning: max_iter and tol parameters have been added in SGDClassifier in 0.19. If both are left unset, they default to max_iter=5 and tol=None. If tol is not None, max_iter defaults to max_iter=1000. From 0.21, default max_iter will be 1000, and default tol will be 1e-3.\n",
      "  FutureWarning)\n"
     ]
    },
    {
     "name": "stdout",
     "output_type": "stream",
     "text": [
      "\t Trees: Index(['r_S(1,0)SumAverg', 'r_S(4,4)SumVarnc', 'b_S(0,1)SumAverg',\n",
      "       'r_S(0,3)SumVarnc', 'g_S(4,4)SumAverg', 'g_S(1,1)SumAverg'],\n",
      "      dtype='object')\n"
     ]
    },
    {
     "name": "stderr",
     "output_type": "stream",
     "text": [
      "/home/akakyi/anaconda3/lib/python3.7/site-packages/sklearn/linear_model/stochastic_gradient.py:166: FutureWarning: max_iter and tol parameters have been added in SGDClassifier in 0.19. If both are left unset, they default to max_iter=5 and tol=None. If tol is not None, max_iter defaults to max_iter=1000. From 0.21, default max_iter will be 1000, and default tol will be 1e-3.\n",
      "  FutureWarning)\n",
      "/home/akakyi/anaconda3/lib/python3.7/site-packages/sklearn/linear_model/stochastic_gradient.py:166: FutureWarning: max_iter and tol parameters have been added in SGDClassifier in 0.19. If both are left unset, they default to max_iter=5 and tol=None. If tol is not None, max_iter defaults to max_iter=1000. From 0.21, default max_iter will be 1000, and default tol will be 1e-3.\n",
      "  FutureWarning)\n",
      "/home/akakyi/anaconda3/lib/python3.7/site-packages/sklearn/linear_model/stochastic_gradient.py:166: FutureWarning: max_iter and tol parameters have been added in SGDClassifier in 0.19. If both are left unset, they default to max_iter=5 and tol=None. If tol is not None, max_iter defaults to max_iter=1000. From 0.21, default max_iter will be 1000, and default tol will be 1e-3.\n",
      "  FutureWarning)\n",
      "/home/akakyi/anaconda3/lib/python3.7/site-packages/sklearn/linear_model/stochastic_gradient.py:166: FutureWarning: max_iter and tol parameters have been added in SGDClassifier in 0.19. If both are left unset, they default to max_iter=5 and tol=None. If tol is not None, max_iter defaults to max_iter=1000. From 0.21, default max_iter will be 1000, and default tol will be 1e-3.\n",
      "  FutureWarning)\n",
      "/home/akakyi/anaconda3/lib/python3.7/site-packages/sklearn/linear_model/stochastic_gradient.py:166: FutureWarning: max_iter and tol parameters have been added in SGDClassifier in 0.19. If both are left unset, they default to max_iter=5 and tol=None. If tol is not None, max_iter defaults to max_iter=1000. From 0.21, default max_iter will be 1000, and default tol will be 1e-3.\n",
      "  FutureWarning)\n"
     ]
    },
    {
     "name": "stdout",
     "output_type": "stream",
     "text": [
      "7 features: \n",
      "\t Kbest: Index(['r_S(3,-3)SumVarnc', 'r_S(3,3)SumVarnc', 'r_S(2,2)SumVarnc',\n",
      "       'r_S(2,-2)SumVarnc', 'r_S(4,-4)SumVarnc', 'r_S(0,3)SumVarnc',\n",
      "       'r_S(4,4)SumVarnc'],\n",
      "      dtype='object')\n"
     ]
    },
    {
     "name": "stderr",
     "output_type": "stream",
     "text": [
      "/home/akakyi/anaconda3/lib/python3.7/site-packages/sklearn/linear_model/stochastic_gradient.py:166: FutureWarning: max_iter and tol parameters have been added in SGDClassifier in 0.19. If both are left unset, they default to max_iter=5 and tol=None. If tol is not None, max_iter defaults to max_iter=1000. From 0.21, default max_iter will be 1000, and default tol will be 1e-3.\n",
      "  FutureWarning)\n",
      "/home/akakyi/anaconda3/lib/python3.7/site-packages/sklearn/linear_model/stochastic_gradient.py:166: FutureWarning: max_iter and tol parameters have been added in SGDClassifier in 0.19. If both are left unset, they default to max_iter=5 and tol=None. If tol is not None, max_iter defaults to max_iter=1000. From 0.21, default max_iter will be 1000, and default tol will be 1e-3.\n",
      "  FutureWarning)\n",
      "/home/akakyi/anaconda3/lib/python3.7/site-packages/sklearn/linear_model/stochastic_gradient.py:166: FutureWarning: max_iter and tol parameters have been added in SGDClassifier in 0.19. If both are left unset, they default to max_iter=5 and tol=None. If tol is not None, max_iter defaults to max_iter=1000. From 0.21, default max_iter will be 1000, and default tol will be 1e-3.\n",
      "  FutureWarning)\n",
      "/home/akakyi/anaconda3/lib/python3.7/site-packages/sklearn/linear_model/stochastic_gradient.py:166: FutureWarning: max_iter and tol parameters have been added in SGDClassifier in 0.19. If both are left unset, they default to max_iter=5 and tol=None. If tol is not None, max_iter defaults to max_iter=1000. From 0.21, default max_iter will be 1000, and default tol will be 1e-3.\n",
      "  FutureWarning)\n",
      "/home/akakyi/anaconda3/lib/python3.7/site-packages/sklearn/linear_model/stochastic_gradient.py:166: FutureWarning: max_iter and tol parameters have been added in SGDClassifier in 0.19. If both are left unset, they default to max_iter=5 and tol=None. If tol is not None, max_iter defaults to max_iter=1000. From 0.21, default max_iter will be 1000, and default tol will be 1e-3.\n",
      "  FutureWarning)\n"
     ]
    },
    {
     "name": "stdout",
     "output_type": "stream",
     "text": [
      "\t Trees: Index(['r_S(1,0)SumAverg', 'r_S(4,4)SumVarnc', 'b_S(0,1)SumAverg',\n",
      "       'r_S(0,3)SumVarnc', 'g_S(4,4)SumAverg', 'g_S(1,1)SumAverg',\n",
      "       'g_S(1,-1)SumAverg'],\n",
      "      dtype='object')\n"
     ]
    },
    {
     "name": "stderr",
     "output_type": "stream",
     "text": [
      "/home/akakyi/anaconda3/lib/python3.7/site-packages/sklearn/linear_model/stochastic_gradient.py:166: FutureWarning: max_iter and tol parameters have been added in SGDClassifier in 0.19. If both are left unset, they default to max_iter=5 and tol=None. If tol is not None, max_iter defaults to max_iter=1000. From 0.21, default max_iter will be 1000, and default tol will be 1e-3.\n",
      "  FutureWarning)\n",
      "/home/akakyi/anaconda3/lib/python3.7/site-packages/sklearn/linear_model/stochastic_gradient.py:166: FutureWarning: max_iter and tol parameters have been added in SGDClassifier in 0.19. If both are left unset, they default to max_iter=5 and tol=None. If tol is not None, max_iter defaults to max_iter=1000. From 0.21, default max_iter will be 1000, and default tol will be 1e-3.\n",
      "  FutureWarning)\n",
      "/home/akakyi/anaconda3/lib/python3.7/site-packages/sklearn/linear_model/stochastic_gradient.py:166: FutureWarning: max_iter and tol parameters have been added in SGDClassifier in 0.19. If both are left unset, they default to max_iter=5 and tol=None. If tol is not None, max_iter defaults to max_iter=1000. From 0.21, default max_iter will be 1000, and default tol will be 1e-3.\n",
      "  FutureWarning)\n",
      "/home/akakyi/anaconda3/lib/python3.7/site-packages/sklearn/linear_model/stochastic_gradient.py:166: FutureWarning: max_iter and tol parameters have been added in SGDClassifier in 0.19. If both are left unset, they default to max_iter=5 and tol=None. If tol is not None, max_iter defaults to max_iter=1000. From 0.21, default max_iter will be 1000, and default tol will be 1e-3.\n",
      "  FutureWarning)\n",
      "/home/akakyi/anaconda3/lib/python3.7/site-packages/sklearn/linear_model/stochastic_gradient.py:166: FutureWarning: max_iter and tol parameters have been added in SGDClassifier in 0.19. If both are left unset, they default to max_iter=5 and tol=None. If tol is not None, max_iter defaults to max_iter=1000. From 0.21, default max_iter will be 1000, and default tol will be 1e-3.\n",
      "  FutureWarning)\n",
      "/home/akakyi/anaconda3/lib/python3.7/site-packages/sklearn/linear_model/stochastic_gradient.py:166: FutureWarning: max_iter and tol parameters have been added in SGDClassifier in 0.19. If both are left unset, they default to max_iter=5 and tol=None. If tol is not None, max_iter defaults to max_iter=1000. From 0.21, default max_iter will be 1000, and default tol will be 1e-3.\n",
      "  FutureWarning)\n"
     ]
    },
    {
     "name": "stdout",
     "output_type": "stream",
     "text": [
      "8 features: \n",
      "\t Kbest: Index(['r_S(3,-3)SumVarnc', 'r_S(3,3)SumVarnc', 'r_S(2,2)SumVarnc',\n",
      "       'r_S(2,-2)SumVarnc', 'r_S(4,-4)SumVarnc', 'r_S(0,3)SumVarnc',\n",
      "       'r_S(4,4)SumVarnc', 'r_S(1,-1)SumVarnc'],\n",
      "      dtype='object')\n"
     ]
    },
    {
     "name": "stderr",
     "output_type": "stream",
     "text": [
      "/home/akakyi/anaconda3/lib/python3.7/site-packages/sklearn/linear_model/stochastic_gradient.py:166: FutureWarning: max_iter and tol parameters have been added in SGDClassifier in 0.19. If both are left unset, they default to max_iter=5 and tol=None. If tol is not None, max_iter defaults to max_iter=1000. From 0.21, default max_iter will be 1000, and default tol will be 1e-3.\n",
      "  FutureWarning)\n",
      "/home/akakyi/anaconda3/lib/python3.7/site-packages/sklearn/linear_model/stochastic_gradient.py:166: FutureWarning: max_iter and tol parameters have been added in SGDClassifier in 0.19. If both are left unset, they default to max_iter=5 and tol=None. If tol is not None, max_iter defaults to max_iter=1000. From 0.21, default max_iter will be 1000, and default tol will be 1e-3.\n",
      "  FutureWarning)\n",
      "/home/akakyi/anaconda3/lib/python3.7/site-packages/sklearn/linear_model/stochastic_gradient.py:166: FutureWarning: max_iter and tol parameters have been added in SGDClassifier in 0.19. If both are left unset, they default to max_iter=5 and tol=None. If tol is not None, max_iter defaults to max_iter=1000. From 0.21, default max_iter will be 1000, and default tol will be 1e-3.\n",
      "  FutureWarning)\n",
      "/home/akakyi/anaconda3/lib/python3.7/site-packages/sklearn/linear_model/stochastic_gradient.py:166: FutureWarning: max_iter and tol parameters have been added in SGDClassifier in 0.19. If both are left unset, they default to max_iter=5 and tol=None. If tol is not None, max_iter defaults to max_iter=1000. From 0.21, default max_iter will be 1000, and default tol will be 1e-3.\n",
      "  FutureWarning)\n",
      "/home/akakyi/anaconda3/lib/python3.7/site-packages/sklearn/linear_model/stochastic_gradient.py:166: FutureWarning: max_iter and tol parameters have been added in SGDClassifier in 0.19. If both are left unset, they default to max_iter=5 and tol=None. If tol is not None, max_iter defaults to max_iter=1000. From 0.21, default max_iter will be 1000, and default tol will be 1e-3.\n",
      "  FutureWarning)\n"
     ]
    },
    {
     "name": "stdout",
     "output_type": "stream",
     "text": [
      "\t Trees: Index(['r_S(1,0)SumAverg', 'r_S(4,4)SumVarnc', 'b_S(0,1)SumAverg',\n",
      "       'r_S(0,3)SumVarnc', 'g_S(4,4)SumAverg', 'g_S(1,1)SumAverg',\n",
      "       'g_S(1,-1)SumAverg', 'gray_S(3,3)SumAverg'],\n",
      "      dtype='object')\n"
     ]
    },
    {
     "name": "stderr",
     "output_type": "stream",
     "text": [
      "/home/akakyi/anaconda3/lib/python3.7/site-packages/sklearn/linear_model/stochastic_gradient.py:166: FutureWarning: max_iter and tol parameters have been added in SGDClassifier in 0.19. If both are left unset, they default to max_iter=5 and tol=None. If tol is not None, max_iter defaults to max_iter=1000. From 0.21, default max_iter will be 1000, and default tol will be 1e-3.\n",
      "  FutureWarning)\n",
      "/home/akakyi/anaconda3/lib/python3.7/site-packages/sklearn/linear_model/stochastic_gradient.py:166: FutureWarning: max_iter and tol parameters have been added in SGDClassifier in 0.19. If both are left unset, they default to max_iter=5 and tol=None. If tol is not None, max_iter defaults to max_iter=1000. From 0.21, default max_iter will be 1000, and default tol will be 1e-3.\n",
      "  FutureWarning)\n",
      "/home/akakyi/anaconda3/lib/python3.7/site-packages/sklearn/linear_model/stochastic_gradient.py:166: FutureWarning: max_iter and tol parameters have been added in SGDClassifier in 0.19. If both are left unset, they default to max_iter=5 and tol=None. If tol is not None, max_iter defaults to max_iter=1000. From 0.21, default max_iter will be 1000, and default tol will be 1e-3.\n",
      "  FutureWarning)\n",
      "/home/akakyi/anaconda3/lib/python3.7/site-packages/sklearn/linear_model/stochastic_gradient.py:166: FutureWarning: max_iter and tol parameters have been added in SGDClassifier in 0.19. If both are left unset, they default to max_iter=5 and tol=None. If tol is not None, max_iter defaults to max_iter=1000. From 0.21, default max_iter will be 1000, and default tol will be 1e-3.\n",
      "  FutureWarning)\n",
      "/home/akakyi/anaconda3/lib/python3.7/site-packages/sklearn/linear_model/stochastic_gradient.py:166: FutureWarning: max_iter and tol parameters have been added in SGDClassifier in 0.19. If both are left unset, they default to max_iter=5 and tol=None. If tol is not None, max_iter defaults to max_iter=1000. From 0.21, default max_iter will be 1000, and default tol will be 1e-3.\n",
      "  FutureWarning)\n"
     ]
    },
    {
     "name": "stdout",
     "output_type": "stream",
     "text": [
      "9 features: \n",
      "\t Kbest: Index(['r_S(3,-3)SumVarnc', 'r_S(3,3)SumVarnc', 'r_S(2,2)SumVarnc',\n",
      "       'r_S(2,-2)SumVarnc', 'r_S(4,-4)SumVarnc', 'r_S(0,3)SumVarnc',\n",
      "       'r_S(4,4)SumVarnc', 'r_S(1,-1)SumVarnc', 'r_S(0,2)SumVarnc'],\n",
      "      dtype='object')\n"
     ]
    },
    {
     "name": "stderr",
     "output_type": "stream",
     "text": [
      "/home/akakyi/anaconda3/lib/python3.7/site-packages/sklearn/linear_model/stochastic_gradient.py:166: FutureWarning: max_iter and tol parameters have been added in SGDClassifier in 0.19. If both are left unset, they default to max_iter=5 and tol=None. If tol is not None, max_iter defaults to max_iter=1000. From 0.21, default max_iter will be 1000, and default tol will be 1e-3.\n",
      "  FutureWarning)\n",
      "/home/akakyi/anaconda3/lib/python3.7/site-packages/sklearn/linear_model/stochastic_gradient.py:166: FutureWarning: max_iter and tol parameters have been added in SGDClassifier in 0.19. If both are left unset, they default to max_iter=5 and tol=None. If tol is not None, max_iter defaults to max_iter=1000. From 0.21, default max_iter will be 1000, and default tol will be 1e-3.\n",
      "  FutureWarning)\n",
      "/home/akakyi/anaconda3/lib/python3.7/site-packages/sklearn/linear_model/stochastic_gradient.py:166: FutureWarning: max_iter and tol parameters have been added in SGDClassifier in 0.19. If both are left unset, they default to max_iter=5 and tol=None. If tol is not None, max_iter defaults to max_iter=1000. From 0.21, default max_iter will be 1000, and default tol will be 1e-3.\n",
      "  FutureWarning)\n",
      "/home/akakyi/anaconda3/lib/python3.7/site-packages/sklearn/linear_model/stochastic_gradient.py:166: FutureWarning: max_iter and tol parameters have been added in SGDClassifier in 0.19. If both are left unset, they default to max_iter=5 and tol=None. If tol is not None, max_iter defaults to max_iter=1000. From 0.21, default max_iter will be 1000, and default tol will be 1e-3.\n",
      "  FutureWarning)\n"
     ]
    },
    {
     "name": "stdout",
     "output_type": "stream",
     "text": [
      "\t Trees: Index(['r_S(1,0)SumAverg', 'r_S(4,4)SumVarnc', 'b_S(0,1)SumAverg',\n",
      "       'r_S(0,3)SumVarnc', 'g_S(4,4)SumAverg', 'g_S(1,1)SumAverg',\n",
      "       'g_S(1,-1)SumAverg', 'gray_S(3,3)SumAverg', 'r_Perc.50%'],\n",
      "      dtype='object')\n"
     ]
    },
    {
     "name": "stderr",
     "output_type": "stream",
     "text": [
      "/home/akakyi/anaconda3/lib/python3.7/site-packages/sklearn/linear_model/stochastic_gradient.py:166: FutureWarning: max_iter and tol parameters have been added in SGDClassifier in 0.19. If both are left unset, they default to max_iter=5 and tol=None. If tol is not None, max_iter defaults to max_iter=1000. From 0.21, default max_iter will be 1000, and default tol will be 1e-3.\n",
      "  FutureWarning)\n",
      "/home/akakyi/anaconda3/lib/python3.7/site-packages/sklearn/linear_model/stochastic_gradient.py:166: FutureWarning: max_iter and tol parameters have been added in SGDClassifier in 0.19. If both are left unset, they default to max_iter=5 and tol=None. If tol is not None, max_iter defaults to max_iter=1000. From 0.21, default max_iter will be 1000, and default tol will be 1e-3.\n",
      "  FutureWarning)\n",
      "/home/akakyi/anaconda3/lib/python3.7/site-packages/sklearn/linear_model/stochastic_gradient.py:166: FutureWarning: max_iter and tol parameters have been added in SGDClassifier in 0.19. If both are left unset, they default to max_iter=5 and tol=None. If tol is not None, max_iter defaults to max_iter=1000. From 0.21, default max_iter will be 1000, and default tol will be 1e-3.\n",
      "  FutureWarning)\n",
      "/home/akakyi/anaconda3/lib/python3.7/site-packages/sklearn/linear_model/stochastic_gradient.py:166: FutureWarning: max_iter and tol parameters have been added in SGDClassifier in 0.19. If both are left unset, they default to max_iter=5 and tol=None. If tol is not None, max_iter defaults to max_iter=1000. From 0.21, default max_iter will be 1000, and default tol will be 1e-3.\n",
      "  FutureWarning)\n",
      "/home/akakyi/anaconda3/lib/python3.7/site-packages/sklearn/linear_model/stochastic_gradient.py:166: FutureWarning: max_iter and tol parameters have been added in SGDClassifier in 0.19. If both are left unset, they default to max_iter=5 and tol=None. If tol is not None, max_iter defaults to max_iter=1000. From 0.21, default max_iter will be 1000, and default tol will be 1e-3.\n",
      "  FutureWarning)\n"
     ]
    },
    {
     "name": "stdout",
     "output_type": "stream",
     "text": [
      "10 features: \n",
      "\t Kbest: Index(['r_S(3,-3)SumVarnc', 'r_S(3,3)SumVarnc', 'r_S(2,2)SumVarnc',\n",
      "       'r_S(2,-2)SumVarnc', 'r_S(4,-4)SumVarnc', 'r_S(0,3)SumVarnc',\n",
      "       'r_S(4,4)SumVarnc', 'r_S(1,-1)SumVarnc', 'r_S(0,2)SumVarnc',\n",
      "       'r_S(0,4)SumVarnc'],\n",
      "      dtype='object')\n"
     ]
    },
    {
     "name": "stderr",
     "output_type": "stream",
     "text": [
      "/home/akakyi/anaconda3/lib/python3.7/site-packages/sklearn/linear_model/stochastic_gradient.py:166: FutureWarning: max_iter and tol parameters have been added in SGDClassifier in 0.19. If both are left unset, they default to max_iter=5 and tol=None. If tol is not None, max_iter defaults to max_iter=1000. From 0.21, default max_iter will be 1000, and default tol will be 1e-3.\n",
      "  FutureWarning)\n",
      "/home/akakyi/anaconda3/lib/python3.7/site-packages/sklearn/linear_model/stochastic_gradient.py:166: FutureWarning: max_iter and tol parameters have been added in SGDClassifier in 0.19. If both are left unset, they default to max_iter=5 and tol=None. If tol is not None, max_iter defaults to max_iter=1000. From 0.21, default max_iter will be 1000, and default tol will be 1e-3.\n",
      "  FutureWarning)\n",
      "/home/akakyi/anaconda3/lib/python3.7/site-packages/sklearn/linear_model/stochastic_gradient.py:166: FutureWarning: max_iter and tol parameters have been added in SGDClassifier in 0.19. If both are left unset, they default to max_iter=5 and tol=None. If tol is not None, max_iter defaults to max_iter=1000. From 0.21, default max_iter will be 1000, and default tol will be 1e-3.\n",
      "  FutureWarning)\n",
      "/home/akakyi/anaconda3/lib/python3.7/site-packages/sklearn/linear_model/stochastic_gradient.py:166: FutureWarning: max_iter and tol parameters have been added in SGDClassifier in 0.19. If both are left unset, they default to max_iter=5 and tol=None. If tol is not None, max_iter defaults to max_iter=1000. From 0.21, default max_iter will be 1000, and default tol will be 1e-3.\n",
      "  FutureWarning)\n",
      "/home/akakyi/anaconda3/lib/python3.7/site-packages/sklearn/linear_model/stochastic_gradient.py:166: FutureWarning: max_iter and tol parameters have been added in SGDClassifier in 0.19. If both are left unset, they default to max_iter=5 and tol=None. If tol is not None, max_iter defaults to max_iter=1000. From 0.21, default max_iter will be 1000, and default tol will be 1e-3.\n",
      "  FutureWarning)\n",
      "/home/akakyi/anaconda3/lib/python3.7/site-packages/sklearn/linear_model/stochastic_gradient.py:166: FutureWarning: max_iter and tol parameters have been added in SGDClassifier in 0.19. If both are left unset, they default to max_iter=5 and tol=None. If tol is not None, max_iter defaults to max_iter=1000. From 0.21, default max_iter will be 1000, and default tol will be 1e-3.\n",
      "  FutureWarning)\n"
     ]
    },
    {
     "name": "stdout",
     "output_type": "stream",
     "text": [
      "\t Trees: Index(['r_S(1,0)SumAverg', 'r_S(4,4)SumVarnc', 'b_S(0,1)SumAverg',\n",
      "       'r_S(0,3)SumVarnc', 'g_S(4,4)SumAverg', 'g_S(1,1)SumAverg',\n",
      "       'g_S(1,-1)SumAverg', 'gray_S(3,3)SumAverg', 'r_Perc.50%',\n",
      "       'r_S(0,1)SumAverg'],\n",
      "      dtype='object')\n"
     ]
    },
    {
     "name": "stderr",
     "output_type": "stream",
     "text": [
      "/home/akakyi/anaconda3/lib/python3.7/site-packages/sklearn/linear_model/stochastic_gradient.py:166: FutureWarning: max_iter and tol parameters have been added in SGDClassifier in 0.19. If both are left unset, they default to max_iter=5 and tol=None. If tol is not None, max_iter defaults to max_iter=1000. From 0.21, default max_iter will be 1000, and default tol will be 1e-3.\n",
      "  FutureWarning)\n",
      "/home/akakyi/anaconda3/lib/python3.7/site-packages/sklearn/linear_model/stochastic_gradient.py:166: FutureWarning: max_iter and tol parameters have been added in SGDClassifier in 0.19. If both are left unset, they default to max_iter=5 and tol=None. If tol is not None, max_iter defaults to max_iter=1000. From 0.21, default max_iter will be 1000, and default tol will be 1e-3.\n",
      "  FutureWarning)\n",
      "/home/akakyi/anaconda3/lib/python3.7/site-packages/sklearn/linear_model/stochastic_gradient.py:166: FutureWarning: max_iter and tol parameters have been added in SGDClassifier in 0.19. If both are left unset, they default to max_iter=5 and tol=None. If tol is not None, max_iter defaults to max_iter=1000. From 0.21, default max_iter will be 1000, and default tol will be 1e-3.\n",
      "  FutureWarning)\n",
      "/home/akakyi/anaconda3/lib/python3.7/site-packages/sklearn/linear_model/stochastic_gradient.py:166: FutureWarning: max_iter and tol parameters have been added in SGDClassifier in 0.19. If both are left unset, they default to max_iter=5 and tol=None. If tol is not None, max_iter defaults to max_iter=1000. From 0.21, default max_iter will be 1000, and default tol will be 1e-3.\n",
      "  FutureWarning)\n",
      "/home/akakyi/anaconda3/lib/python3.7/site-packages/sklearn/linear_model/stochastic_gradient.py:166: FutureWarning: max_iter and tol parameters have been added in SGDClassifier in 0.19. If both are left unset, they default to max_iter=5 and tol=None. If tol is not None, max_iter defaults to max_iter=1000. From 0.21, default max_iter will be 1000, and default tol will be 1e-3.\n",
      "  FutureWarning)\n"
     ]
    },
    {
     "name": "stdout",
     "output_type": "stream",
     "text": [
      "11 features: \n",
      "\t Kbest: Index(['r_S(3,-3)SumVarnc', 'r_S(3,3)SumVarnc', 'r_S(2,2)SumVarnc',\n",
      "       'r_S(2,-2)SumVarnc', 'r_S(4,-4)SumVarnc', 'r_S(0,3)SumVarnc',\n",
      "       'r_S(4,4)SumVarnc', 'r_S(1,-1)SumVarnc', 'r_S(0,2)SumVarnc',\n",
      "       'r_S(0,4)SumVarnc', 'r_S(3,0)SumVarnc'],\n",
      "      dtype='object')\n"
     ]
    },
    {
     "name": "stderr",
     "output_type": "stream",
     "text": [
      "/home/akakyi/anaconda3/lib/python3.7/site-packages/sklearn/linear_model/stochastic_gradient.py:166: FutureWarning: max_iter and tol parameters have been added in SGDClassifier in 0.19. If both are left unset, they default to max_iter=5 and tol=None. If tol is not None, max_iter defaults to max_iter=1000. From 0.21, default max_iter will be 1000, and default tol will be 1e-3.\n",
      "  FutureWarning)\n",
      "/home/akakyi/anaconda3/lib/python3.7/site-packages/sklearn/linear_model/stochastic_gradient.py:166: FutureWarning: max_iter and tol parameters have been added in SGDClassifier in 0.19. If both are left unset, they default to max_iter=5 and tol=None. If tol is not None, max_iter defaults to max_iter=1000. From 0.21, default max_iter will be 1000, and default tol will be 1e-3.\n",
      "  FutureWarning)\n",
      "/home/akakyi/anaconda3/lib/python3.7/site-packages/sklearn/linear_model/stochastic_gradient.py:166: FutureWarning: max_iter and tol parameters have been added in SGDClassifier in 0.19. If both are left unset, they default to max_iter=5 and tol=None. If tol is not None, max_iter defaults to max_iter=1000. From 0.21, default max_iter will be 1000, and default tol will be 1e-3.\n",
      "  FutureWarning)\n",
      "/home/akakyi/anaconda3/lib/python3.7/site-packages/sklearn/linear_model/stochastic_gradient.py:166: FutureWarning: max_iter and tol parameters have been added in SGDClassifier in 0.19. If both are left unset, they default to max_iter=5 and tol=None. If tol is not None, max_iter defaults to max_iter=1000. From 0.21, default max_iter will be 1000, and default tol will be 1e-3.\n",
      "  FutureWarning)\n"
     ]
    },
    {
     "name": "stdout",
     "output_type": "stream",
     "text": [
      "\t Trees: Index(['r_S(1,0)SumAverg', 'r_S(4,4)SumVarnc', 'b_S(0,1)SumAverg',\n",
      "       'r_S(0,3)SumVarnc', 'g_S(4,4)SumAverg', 'g_S(1,1)SumAverg',\n",
      "       'g_S(1,-1)SumAverg', 'gray_S(3,3)SumAverg', 'r_Perc.50%',\n",
      "       'r_S(0,1)SumAverg', 'r_S(5,-5)SumAverg'],\n",
      "      dtype='object')\n"
     ]
    },
    {
     "name": "stderr",
     "output_type": "stream",
     "text": [
      "/home/akakyi/anaconda3/lib/python3.7/site-packages/sklearn/linear_model/stochastic_gradient.py:166: FutureWarning: max_iter and tol parameters have been added in SGDClassifier in 0.19. If both are left unset, they default to max_iter=5 and tol=None. If tol is not None, max_iter defaults to max_iter=1000. From 0.21, default max_iter will be 1000, and default tol will be 1e-3.\n",
      "  FutureWarning)\n",
      "/home/akakyi/anaconda3/lib/python3.7/site-packages/sklearn/linear_model/stochastic_gradient.py:166: FutureWarning: max_iter and tol parameters have been added in SGDClassifier in 0.19. If both are left unset, they default to max_iter=5 and tol=None. If tol is not None, max_iter defaults to max_iter=1000. From 0.21, default max_iter will be 1000, and default tol will be 1e-3.\n",
      "  FutureWarning)\n",
      "/home/akakyi/anaconda3/lib/python3.7/site-packages/sklearn/linear_model/stochastic_gradient.py:166: FutureWarning: max_iter and tol parameters have been added in SGDClassifier in 0.19. If both are left unset, they default to max_iter=5 and tol=None. If tol is not None, max_iter defaults to max_iter=1000. From 0.21, default max_iter will be 1000, and default tol will be 1e-3.\n",
      "  FutureWarning)\n",
      "/home/akakyi/anaconda3/lib/python3.7/site-packages/sklearn/linear_model/stochastic_gradient.py:166: FutureWarning: max_iter and tol parameters have been added in SGDClassifier in 0.19. If both are left unset, they default to max_iter=5 and tol=None. If tol is not None, max_iter defaults to max_iter=1000. From 0.21, default max_iter will be 1000, and default tol will be 1e-3.\n",
      "  FutureWarning)\n",
      "/home/akakyi/anaconda3/lib/python3.7/site-packages/sklearn/linear_model/stochastic_gradient.py:166: FutureWarning: max_iter and tol parameters have been added in SGDClassifier in 0.19. If both are left unset, they default to max_iter=5 and tol=None. If tol is not None, max_iter defaults to max_iter=1000. From 0.21, default max_iter will be 1000, and default tol will be 1e-3.\n",
      "  FutureWarning)\n",
      "/home/akakyi/anaconda3/lib/python3.7/site-packages/sklearn/linear_model/stochastic_gradient.py:166: FutureWarning: max_iter and tol parameters have been added in SGDClassifier in 0.19. If both are left unset, they default to max_iter=5 and tol=None. If tol is not None, max_iter defaults to max_iter=1000. From 0.21, default max_iter will be 1000, and default tol will be 1e-3.\n",
      "  FutureWarning)\n"
     ]
    },
    {
     "name": "stdout",
     "output_type": "stream",
     "text": [
      "12 features: \n",
      "\t Kbest: Index(['r_S(3,-3)SumVarnc', 'r_S(3,3)SumVarnc', 'r_S(2,2)SumVarnc',\n",
      "       'r_S(2,-2)SumVarnc', 'r_S(4,-4)SumVarnc', 'r_S(0,3)SumVarnc',\n",
      "       'r_S(4,4)SumVarnc', 'r_S(1,-1)SumVarnc', 'r_S(0,2)SumVarnc',\n",
      "       'r_S(0,4)SumVarnc', 'r_S(3,0)SumVarnc', 'r_S(1,1)SumVarnc'],\n",
      "      dtype='object')\n"
     ]
    },
    {
     "name": "stderr",
     "output_type": "stream",
     "text": [
      "/home/akakyi/anaconda3/lib/python3.7/site-packages/sklearn/linear_model/stochastic_gradient.py:166: FutureWarning: max_iter and tol parameters have been added in SGDClassifier in 0.19. If both are left unset, they default to max_iter=5 and tol=None. If tol is not None, max_iter defaults to max_iter=1000. From 0.21, default max_iter will be 1000, and default tol will be 1e-3.\n",
      "  FutureWarning)\n",
      "/home/akakyi/anaconda3/lib/python3.7/site-packages/sklearn/linear_model/stochastic_gradient.py:166: FutureWarning: max_iter and tol parameters have been added in SGDClassifier in 0.19. If both are left unset, they default to max_iter=5 and tol=None. If tol is not None, max_iter defaults to max_iter=1000. From 0.21, default max_iter will be 1000, and default tol will be 1e-3.\n",
      "  FutureWarning)\n",
      "/home/akakyi/anaconda3/lib/python3.7/site-packages/sklearn/linear_model/stochastic_gradient.py:166: FutureWarning: max_iter and tol parameters have been added in SGDClassifier in 0.19. If both are left unset, they default to max_iter=5 and tol=None. If tol is not None, max_iter defaults to max_iter=1000. From 0.21, default max_iter will be 1000, and default tol will be 1e-3.\n",
      "  FutureWarning)\n",
      "/home/akakyi/anaconda3/lib/python3.7/site-packages/sklearn/linear_model/stochastic_gradient.py:166: FutureWarning: max_iter and tol parameters have been added in SGDClassifier in 0.19. If both are left unset, they default to max_iter=5 and tol=None. If tol is not None, max_iter defaults to max_iter=1000. From 0.21, default max_iter will be 1000, and default tol will be 1e-3.\n",
      "  FutureWarning)\n"
     ]
    },
    {
     "name": "stdout",
     "output_type": "stream",
     "text": [
      "\t Trees: Index(['r_S(1,0)SumAverg', 'r_S(4,4)SumVarnc', 'b_S(0,1)SumAverg',\n",
      "       'r_S(0,3)SumVarnc', 'g_S(4,4)SumAverg', 'g_S(1,1)SumAverg',\n",
      "       'g_S(1,-1)SumAverg', 'gray_S(3,3)SumAverg', 'r_Perc.50%',\n",
      "       'r_S(0,1)SumAverg', 'r_S(5,-5)SumAverg', 'gray_S(0,1)SumVarnc'],\n",
      "      dtype='object')\n"
     ]
    },
    {
     "name": "stderr",
     "output_type": "stream",
     "text": [
      "/home/akakyi/anaconda3/lib/python3.7/site-packages/sklearn/linear_model/stochastic_gradient.py:166: FutureWarning: max_iter and tol parameters have been added in SGDClassifier in 0.19. If both are left unset, they default to max_iter=5 and tol=None. If tol is not None, max_iter defaults to max_iter=1000. From 0.21, default max_iter will be 1000, and default tol will be 1e-3.\n",
      "  FutureWarning)\n",
      "/home/akakyi/anaconda3/lib/python3.7/site-packages/sklearn/linear_model/stochastic_gradient.py:166: FutureWarning: max_iter and tol parameters have been added in SGDClassifier in 0.19. If both are left unset, they default to max_iter=5 and tol=None. If tol is not None, max_iter defaults to max_iter=1000. From 0.21, default max_iter will be 1000, and default tol will be 1e-3.\n",
      "  FutureWarning)\n",
      "/home/akakyi/anaconda3/lib/python3.7/site-packages/sklearn/linear_model/stochastic_gradient.py:166: FutureWarning: max_iter and tol parameters have been added in SGDClassifier in 0.19. If both are left unset, they default to max_iter=5 and tol=None. If tol is not None, max_iter defaults to max_iter=1000. From 0.21, default max_iter will be 1000, and default tol will be 1e-3.\n",
      "  FutureWarning)\n",
      "/home/akakyi/anaconda3/lib/python3.7/site-packages/sklearn/linear_model/stochastic_gradient.py:166: FutureWarning: max_iter and tol parameters have been added in SGDClassifier in 0.19. If both are left unset, they default to max_iter=5 and tol=None. If tol is not None, max_iter defaults to max_iter=1000. From 0.21, default max_iter will be 1000, and default tol will be 1e-3.\n",
      "  FutureWarning)\n",
      "/home/akakyi/anaconda3/lib/python3.7/site-packages/sklearn/linear_model/stochastic_gradient.py:166: FutureWarning: max_iter and tol parameters have been added in SGDClassifier in 0.19. If both are left unset, they default to max_iter=5 and tol=None. If tol is not None, max_iter defaults to max_iter=1000. From 0.21, default max_iter will be 1000, and default tol will be 1e-3.\n",
      "  FutureWarning)\n"
     ]
    },
    {
     "name": "stdout",
     "output_type": "stream",
     "text": [
      "13 features: \n",
      "\t Kbest: Index(['r_S(3,-3)SumVarnc', 'r_S(3,3)SumVarnc', 'r_S(2,2)SumVarnc',\n",
      "       'r_S(2,-2)SumVarnc', 'r_S(4,-4)SumVarnc', 'r_S(0,3)SumVarnc',\n",
      "       'r_S(4,4)SumVarnc', 'r_S(1,-1)SumVarnc', 'r_S(0,2)SumVarnc',\n",
      "       'r_S(0,4)SumVarnc', 'r_S(3,0)SumVarnc', 'r_S(1,1)SumVarnc',\n",
      "       'r_S(5,-5)SumVarnc'],\n",
      "      dtype='object')\n"
     ]
    },
    {
     "name": "stderr",
     "output_type": "stream",
     "text": [
      "/home/akakyi/anaconda3/lib/python3.7/site-packages/sklearn/linear_model/stochastic_gradient.py:166: FutureWarning: max_iter and tol parameters have been added in SGDClassifier in 0.19. If both are left unset, they default to max_iter=5 and tol=None. If tol is not None, max_iter defaults to max_iter=1000. From 0.21, default max_iter will be 1000, and default tol will be 1e-3.\n",
      "  FutureWarning)\n",
      "/home/akakyi/anaconda3/lib/python3.7/site-packages/sklearn/linear_model/stochastic_gradient.py:166: FutureWarning: max_iter and tol parameters have been added in SGDClassifier in 0.19. If both are left unset, they default to max_iter=5 and tol=None. If tol is not None, max_iter defaults to max_iter=1000. From 0.21, default max_iter will be 1000, and default tol will be 1e-3.\n",
      "  FutureWarning)\n",
      "/home/akakyi/anaconda3/lib/python3.7/site-packages/sklearn/linear_model/stochastic_gradient.py:166: FutureWarning: max_iter and tol parameters have been added in SGDClassifier in 0.19. If both are left unset, they default to max_iter=5 and tol=None. If tol is not None, max_iter defaults to max_iter=1000. From 0.21, default max_iter will be 1000, and default tol will be 1e-3.\n",
      "  FutureWarning)\n",
      "/home/akakyi/anaconda3/lib/python3.7/site-packages/sklearn/linear_model/stochastic_gradient.py:166: FutureWarning: max_iter and tol parameters have been added in SGDClassifier in 0.19. If both are left unset, they default to max_iter=5 and tol=None. If tol is not None, max_iter defaults to max_iter=1000. From 0.21, default max_iter will be 1000, and default tol will be 1e-3.\n",
      "  FutureWarning)\n",
      "/home/akakyi/anaconda3/lib/python3.7/site-packages/sklearn/linear_model/stochastic_gradient.py:166: FutureWarning: max_iter and tol parameters have been added in SGDClassifier in 0.19. If both are left unset, they default to max_iter=5 and tol=None. If tol is not None, max_iter defaults to max_iter=1000. From 0.21, default max_iter will be 1000, and default tol will be 1e-3.\n",
      "  FutureWarning)\n",
      "/home/akakyi/anaconda3/lib/python3.7/site-packages/sklearn/linear_model/stochastic_gradient.py:166: FutureWarning: max_iter and tol parameters have been added in SGDClassifier in 0.19. If both are left unset, they default to max_iter=5 and tol=None. If tol is not None, max_iter defaults to max_iter=1000. From 0.21, default max_iter will be 1000, and default tol will be 1e-3.\n",
      "  FutureWarning)\n"
     ]
    },
    {
     "name": "stdout",
     "output_type": "stream",
     "text": [
      "\t Trees: Index(['r_S(1,0)SumAverg', 'r_S(4,4)SumVarnc', 'b_S(0,1)SumAverg',\n",
      "       'r_S(0,3)SumVarnc', 'g_S(4,4)SumAverg', 'g_S(1,1)SumAverg',\n",
      "       'g_S(1,-1)SumAverg', 'gray_S(3,3)SumAverg', 'r_Perc.50%',\n",
      "       'r_S(0,1)SumAverg', 'r_S(5,-5)SumAverg', 'gray_S(0,1)SumVarnc',\n",
      "       'b_S(3,3)DifEntrp'],\n",
      "      dtype='object')\n"
     ]
    },
    {
     "name": "stderr",
     "output_type": "stream",
     "text": [
      "/home/akakyi/anaconda3/lib/python3.7/site-packages/sklearn/linear_model/stochastic_gradient.py:166: FutureWarning: max_iter and tol parameters have been added in SGDClassifier in 0.19. If both are left unset, they default to max_iter=5 and tol=None. If tol is not None, max_iter defaults to max_iter=1000. From 0.21, default max_iter will be 1000, and default tol will be 1e-3.\n",
      "  FutureWarning)\n",
      "/home/akakyi/anaconda3/lib/python3.7/site-packages/sklearn/linear_model/stochastic_gradient.py:166: FutureWarning: max_iter and tol parameters have been added in SGDClassifier in 0.19. If both are left unset, they default to max_iter=5 and tol=None. If tol is not None, max_iter defaults to max_iter=1000. From 0.21, default max_iter will be 1000, and default tol will be 1e-3.\n",
      "  FutureWarning)\n",
      "/home/akakyi/anaconda3/lib/python3.7/site-packages/sklearn/linear_model/stochastic_gradient.py:166: FutureWarning: max_iter and tol parameters have been added in SGDClassifier in 0.19. If both are left unset, they default to max_iter=5 and tol=None. If tol is not None, max_iter defaults to max_iter=1000. From 0.21, default max_iter will be 1000, and default tol will be 1e-3.\n",
      "  FutureWarning)\n",
      "/home/akakyi/anaconda3/lib/python3.7/site-packages/sklearn/linear_model/stochastic_gradient.py:166: FutureWarning: max_iter and tol parameters have been added in SGDClassifier in 0.19. If both are left unset, they default to max_iter=5 and tol=None. If tol is not None, max_iter defaults to max_iter=1000. From 0.21, default max_iter will be 1000, and default tol will be 1e-3.\n",
      "  FutureWarning)\n",
      "/home/akakyi/anaconda3/lib/python3.7/site-packages/sklearn/linear_model/stochastic_gradient.py:166: FutureWarning: max_iter and tol parameters have been added in SGDClassifier in 0.19. If both are left unset, they default to max_iter=5 and tol=None. If tol is not None, max_iter defaults to max_iter=1000. From 0.21, default max_iter will be 1000, and default tol will be 1e-3.\n",
      "  FutureWarning)\n"
     ]
    },
    {
     "name": "stdout",
     "output_type": "stream",
     "text": [
      "14 features: \n",
      "\t Kbest: Index(['r_S(3,-3)SumVarnc', 'r_S(3,3)SumVarnc', 'r_S(2,2)SumVarnc',\n",
      "       'r_S(2,-2)SumVarnc', 'r_S(4,-4)SumVarnc', 'r_S(0,3)SumVarnc',\n",
      "       'r_S(4,4)SumVarnc', 'r_S(1,-1)SumVarnc', 'r_S(0,2)SumVarnc',\n",
      "       'r_S(0,4)SumVarnc', 'r_S(3,0)SumVarnc', 'r_S(1,1)SumVarnc',\n",
      "       'r_S(5,-5)SumVarnc', 'r_S(4,0)SumVarnc'],\n",
      "      dtype='object')\n"
     ]
    },
    {
     "name": "stderr",
     "output_type": "stream",
     "text": [
      "/home/akakyi/anaconda3/lib/python3.7/site-packages/sklearn/linear_model/stochastic_gradient.py:166: FutureWarning: max_iter and tol parameters have been added in SGDClassifier in 0.19. If both are left unset, they default to max_iter=5 and tol=None. If tol is not None, max_iter defaults to max_iter=1000. From 0.21, default max_iter will be 1000, and default tol will be 1e-3.\n",
      "  FutureWarning)\n",
      "/home/akakyi/anaconda3/lib/python3.7/site-packages/sklearn/linear_model/stochastic_gradient.py:166: FutureWarning: max_iter and tol parameters have been added in SGDClassifier in 0.19. If both are left unset, they default to max_iter=5 and tol=None. If tol is not None, max_iter defaults to max_iter=1000. From 0.21, default max_iter will be 1000, and default tol will be 1e-3.\n",
      "  FutureWarning)\n",
      "/home/akakyi/anaconda3/lib/python3.7/site-packages/sklearn/linear_model/stochastic_gradient.py:166: FutureWarning: max_iter and tol parameters have been added in SGDClassifier in 0.19. If both are left unset, they default to max_iter=5 and tol=None. If tol is not None, max_iter defaults to max_iter=1000. From 0.21, default max_iter will be 1000, and default tol will be 1e-3.\n",
      "  FutureWarning)\n",
      "/home/akakyi/anaconda3/lib/python3.7/site-packages/sklearn/linear_model/stochastic_gradient.py:166: FutureWarning: max_iter and tol parameters have been added in SGDClassifier in 0.19. If both are left unset, they default to max_iter=5 and tol=None. If tol is not None, max_iter defaults to max_iter=1000. From 0.21, default max_iter will be 1000, and default tol will be 1e-3.\n",
      "  FutureWarning)\n"
     ]
    },
    {
     "name": "stdout",
     "output_type": "stream",
     "text": [
      "\t Trees: Index(['r_S(1,0)SumAverg', 'r_S(4,4)SumVarnc', 'b_S(0,1)SumAverg',\n",
      "       'r_S(0,3)SumVarnc', 'g_S(4,4)SumAverg', 'g_S(1,1)SumAverg',\n",
      "       'g_S(1,-1)SumAverg', 'gray_S(3,3)SumAverg', 'r_Perc.50%',\n",
      "       'r_S(0,1)SumAverg', 'r_S(5,-5)SumAverg', 'gray_S(0,1)SumVarnc',\n",
      "       'b_S(3,3)DifEntrp', 'r_S(0,4)SumVarnc'],\n",
      "      dtype='object')\n"
     ]
    },
    {
     "name": "stderr",
     "output_type": "stream",
     "text": [
      "/home/akakyi/anaconda3/lib/python3.7/site-packages/sklearn/linear_model/stochastic_gradient.py:166: FutureWarning: max_iter and tol parameters have been added in SGDClassifier in 0.19. If both are left unset, they default to max_iter=5 and tol=None. If tol is not None, max_iter defaults to max_iter=1000. From 0.21, default max_iter will be 1000, and default tol will be 1e-3.\n",
      "  FutureWarning)\n",
      "/home/akakyi/anaconda3/lib/python3.7/site-packages/sklearn/linear_model/stochastic_gradient.py:166: FutureWarning: max_iter and tol parameters have been added in SGDClassifier in 0.19. If both are left unset, they default to max_iter=5 and tol=None. If tol is not None, max_iter defaults to max_iter=1000. From 0.21, default max_iter will be 1000, and default tol will be 1e-3.\n",
      "  FutureWarning)\n",
      "/home/akakyi/anaconda3/lib/python3.7/site-packages/sklearn/linear_model/stochastic_gradient.py:166: FutureWarning: max_iter and tol parameters have been added in SGDClassifier in 0.19. If both are left unset, they default to max_iter=5 and tol=None. If tol is not None, max_iter defaults to max_iter=1000. From 0.21, default max_iter will be 1000, and default tol will be 1e-3.\n",
      "  FutureWarning)\n",
      "/home/akakyi/anaconda3/lib/python3.7/site-packages/sklearn/linear_model/stochastic_gradient.py:166: FutureWarning: max_iter and tol parameters have been added in SGDClassifier in 0.19. If both are left unset, they default to max_iter=5 and tol=None. If tol is not None, max_iter defaults to max_iter=1000. From 0.21, default max_iter will be 1000, and default tol will be 1e-3.\n",
      "  FutureWarning)\n",
      "/home/akakyi/anaconda3/lib/python3.7/site-packages/sklearn/linear_model/stochastic_gradient.py:166: FutureWarning: max_iter and tol parameters have been added in SGDClassifier in 0.19. If both are left unset, they default to max_iter=5 and tol=None. If tol is not None, max_iter defaults to max_iter=1000. From 0.21, default max_iter will be 1000, and default tol will be 1e-3.\n",
      "  FutureWarning)\n",
      "/home/akakyi/anaconda3/lib/python3.7/site-packages/sklearn/linear_model/stochastic_gradient.py:166: FutureWarning: max_iter and tol parameters have been added in SGDClassifier in 0.19. If both are left unset, they default to max_iter=5 and tol=None. If tol is not None, max_iter defaults to max_iter=1000. From 0.21, default max_iter will be 1000, and default tol will be 1e-3.\n",
      "  FutureWarning)\n"
     ]
    },
    {
     "name": "stdout",
     "output_type": "stream",
     "text": [
      "15 features: \n",
      "\t Kbest: Index(['r_S(3,-3)SumVarnc', 'r_S(3,3)SumVarnc', 'r_S(2,2)SumVarnc',\n",
      "       'r_S(2,-2)SumVarnc', 'r_S(4,-4)SumVarnc', 'r_S(0,3)SumVarnc',\n",
      "       'r_S(4,4)SumVarnc', 'r_S(1,-1)SumVarnc', 'r_S(0,2)SumVarnc',\n",
      "       'r_S(0,4)SumVarnc', 'r_S(3,0)SumVarnc', 'r_S(1,1)SumVarnc',\n",
      "       'r_S(5,-5)SumVarnc', 'r_S(4,0)SumVarnc', 'r_S(5,0)SumVarnc'],\n",
      "      dtype='object')\n"
     ]
    },
    {
     "name": "stderr",
     "output_type": "stream",
     "text": [
      "/home/akakyi/anaconda3/lib/python3.7/site-packages/sklearn/linear_model/stochastic_gradient.py:166: FutureWarning: max_iter and tol parameters have been added in SGDClassifier in 0.19. If both are left unset, they default to max_iter=5 and tol=None. If tol is not None, max_iter defaults to max_iter=1000. From 0.21, default max_iter will be 1000, and default tol will be 1e-3.\n",
      "  FutureWarning)\n",
      "/home/akakyi/anaconda3/lib/python3.7/site-packages/sklearn/linear_model/stochastic_gradient.py:166: FutureWarning: max_iter and tol parameters have been added in SGDClassifier in 0.19. If both are left unset, they default to max_iter=5 and tol=None. If tol is not None, max_iter defaults to max_iter=1000. From 0.21, default max_iter will be 1000, and default tol will be 1e-3.\n",
      "  FutureWarning)\n",
      "/home/akakyi/anaconda3/lib/python3.7/site-packages/sklearn/linear_model/stochastic_gradient.py:166: FutureWarning: max_iter and tol parameters have been added in SGDClassifier in 0.19. If both are left unset, they default to max_iter=5 and tol=None. If tol is not None, max_iter defaults to max_iter=1000. From 0.21, default max_iter will be 1000, and default tol will be 1e-3.\n",
      "  FutureWarning)\n",
      "/home/akakyi/anaconda3/lib/python3.7/site-packages/sklearn/linear_model/stochastic_gradient.py:166: FutureWarning: max_iter and tol parameters have been added in SGDClassifier in 0.19. If both are left unset, they default to max_iter=5 and tol=None. If tol is not None, max_iter defaults to max_iter=1000. From 0.21, default max_iter will be 1000, and default tol will be 1e-3.\n",
      "  FutureWarning)\n"
     ]
    },
    {
     "name": "stdout",
     "output_type": "stream",
     "text": [
      "\t Trees: Index(['r_S(1,0)SumAverg', 'r_S(4,4)SumVarnc', 'b_S(0,1)SumAverg',\n",
      "       'r_S(0,3)SumVarnc', 'g_S(4,4)SumAverg', 'g_S(1,1)SumAverg',\n",
      "       'g_S(1,-1)SumAverg', 'gray_S(3,3)SumAverg', 'r_Perc.50%',\n",
      "       'r_S(0,1)SumAverg', 'r_S(5,-5)SumAverg', 'gray_S(0,1)SumVarnc',\n",
      "       'b_S(3,3)DifEntrp', 'r_S(0,4)SumVarnc', 'r_S(4,-4)SumVarnc'],\n",
      "      dtype='object')\n"
     ]
    },
    {
     "name": "stderr",
     "output_type": "stream",
     "text": [
      "/home/akakyi/anaconda3/lib/python3.7/site-packages/sklearn/linear_model/stochastic_gradient.py:166: FutureWarning: max_iter and tol parameters have been added in SGDClassifier in 0.19. If both are left unset, they default to max_iter=5 and tol=None. If tol is not None, max_iter defaults to max_iter=1000. From 0.21, default max_iter will be 1000, and default tol will be 1e-3.\n",
      "  FutureWarning)\n",
      "/home/akakyi/anaconda3/lib/python3.7/site-packages/sklearn/linear_model/stochastic_gradient.py:166: FutureWarning: max_iter and tol parameters have been added in SGDClassifier in 0.19. If both are left unset, they default to max_iter=5 and tol=None. If tol is not None, max_iter defaults to max_iter=1000. From 0.21, default max_iter will be 1000, and default tol will be 1e-3.\n",
      "  FutureWarning)\n",
      "/home/akakyi/anaconda3/lib/python3.7/site-packages/sklearn/linear_model/stochastic_gradient.py:166: FutureWarning: max_iter and tol parameters have been added in SGDClassifier in 0.19. If both are left unset, they default to max_iter=5 and tol=None. If tol is not None, max_iter defaults to max_iter=1000. From 0.21, default max_iter will be 1000, and default tol will be 1e-3.\n",
      "  FutureWarning)\n",
      "/home/akakyi/anaconda3/lib/python3.7/site-packages/sklearn/linear_model/stochastic_gradient.py:166: FutureWarning: max_iter and tol parameters have been added in SGDClassifier in 0.19. If both are left unset, they default to max_iter=5 and tol=None. If tol is not None, max_iter defaults to max_iter=1000. From 0.21, default max_iter will be 1000, and default tol will be 1e-3.\n",
      "  FutureWarning)\n",
      "/home/akakyi/anaconda3/lib/python3.7/site-packages/sklearn/linear_model/stochastic_gradient.py:166: FutureWarning: max_iter and tol parameters have been added in SGDClassifier in 0.19. If both are left unset, they default to max_iter=5 and tol=None. If tol is not None, max_iter defaults to max_iter=1000. From 0.21, default max_iter will be 1000, and default tol will be 1e-3.\n",
      "  FutureWarning)\n",
      "/home/akakyi/anaconda3/lib/python3.7/site-packages/sklearn/linear_model/stochastic_gradient.py:166: FutureWarning: max_iter and tol parameters have been added in SGDClassifier in 0.19. If both are left unset, they default to max_iter=5 and tol=None. If tol is not None, max_iter defaults to max_iter=1000. From 0.21, default max_iter will be 1000, and default tol will be 1e-3.\n",
      "  FutureWarning)\n"
     ]
    },
    {
     "name": "stdout",
     "output_type": "stream",
     "text": [
      "16 features: \n",
      "\t Kbest: Index(['r_S(3,-3)SumVarnc', 'r_S(3,3)SumVarnc', 'r_S(2,2)SumVarnc',\n",
      "       'r_S(2,-2)SumVarnc', 'r_S(4,-4)SumVarnc', 'r_S(0,3)SumVarnc',\n",
      "       'r_S(4,4)SumVarnc', 'r_S(1,-1)SumVarnc', 'r_S(0,2)SumVarnc',\n",
      "       'r_S(0,4)SumVarnc', 'r_S(3,0)SumVarnc', 'r_S(1,1)SumVarnc',\n",
      "       'r_S(5,-5)SumVarnc', 'r_S(4,0)SumVarnc', 'r_S(5,0)SumVarnc',\n",
      "       'r_S(2,0)SumVarnc'],\n",
      "      dtype='object')\n"
     ]
    },
    {
     "name": "stderr",
     "output_type": "stream",
     "text": [
      "/home/akakyi/anaconda3/lib/python3.7/site-packages/sklearn/linear_model/stochastic_gradient.py:166: FutureWarning: max_iter and tol parameters have been added in SGDClassifier in 0.19. If both are left unset, they default to max_iter=5 and tol=None. If tol is not None, max_iter defaults to max_iter=1000. From 0.21, default max_iter will be 1000, and default tol will be 1e-3.\n",
      "  FutureWarning)\n",
      "/home/akakyi/anaconda3/lib/python3.7/site-packages/sklearn/linear_model/stochastic_gradient.py:166: FutureWarning: max_iter and tol parameters have been added in SGDClassifier in 0.19. If both are left unset, they default to max_iter=5 and tol=None. If tol is not None, max_iter defaults to max_iter=1000. From 0.21, default max_iter will be 1000, and default tol will be 1e-3.\n",
      "  FutureWarning)\n",
      "/home/akakyi/anaconda3/lib/python3.7/site-packages/sklearn/linear_model/stochastic_gradient.py:166: FutureWarning: max_iter and tol parameters have been added in SGDClassifier in 0.19. If both are left unset, they default to max_iter=5 and tol=None. If tol is not None, max_iter defaults to max_iter=1000. From 0.21, default max_iter will be 1000, and default tol will be 1e-3.\n",
      "  FutureWarning)\n",
      "/home/akakyi/anaconda3/lib/python3.7/site-packages/sklearn/linear_model/stochastic_gradient.py:166: FutureWarning: max_iter and tol parameters have been added in SGDClassifier in 0.19. If both are left unset, they default to max_iter=5 and tol=None. If tol is not None, max_iter defaults to max_iter=1000. From 0.21, default max_iter will be 1000, and default tol will be 1e-3.\n",
      "  FutureWarning)\n"
     ]
    },
    {
     "name": "stdout",
     "output_type": "stream",
     "text": [
      "\t Trees: Index(['r_S(1,0)SumAverg', 'r_S(4,4)SumVarnc', 'b_S(0,1)SumAverg',\n",
      "       'r_S(0,3)SumVarnc', 'g_S(4,4)SumAverg', 'g_S(1,1)SumAverg',\n",
      "       'g_S(1,-1)SumAverg', 'gray_S(3,3)SumAverg', 'r_Perc.50%',\n",
      "       'r_S(0,1)SumAverg', 'r_S(5,-5)SumAverg', 'gray_S(0,1)SumVarnc',\n",
      "       'b_S(3,3)DifEntrp', 'r_S(0,4)SumVarnc', 'r_S(4,-4)SumVarnc',\n",
      "       'g_S(2,2)SumAverg'],\n",
      "      dtype='object')\n"
     ]
    },
    {
     "name": "stderr",
     "output_type": "stream",
     "text": [
      "/home/akakyi/anaconda3/lib/python3.7/site-packages/sklearn/linear_model/stochastic_gradient.py:166: FutureWarning: max_iter and tol parameters have been added in SGDClassifier in 0.19. If both are left unset, they default to max_iter=5 and tol=None. If tol is not None, max_iter defaults to max_iter=1000. From 0.21, default max_iter will be 1000, and default tol will be 1e-3.\n",
      "  FutureWarning)\n",
      "/home/akakyi/anaconda3/lib/python3.7/site-packages/sklearn/linear_model/stochastic_gradient.py:166: FutureWarning: max_iter and tol parameters have been added in SGDClassifier in 0.19. If both are left unset, they default to max_iter=5 and tol=None. If tol is not None, max_iter defaults to max_iter=1000. From 0.21, default max_iter will be 1000, and default tol will be 1e-3.\n",
      "  FutureWarning)\n",
      "/home/akakyi/anaconda3/lib/python3.7/site-packages/sklearn/linear_model/stochastic_gradient.py:166: FutureWarning: max_iter and tol parameters have been added in SGDClassifier in 0.19. If both are left unset, they default to max_iter=5 and tol=None. If tol is not None, max_iter defaults to max_iter=1000. From 0.21, default max_iter will be 1000, and default tol will be 1e-3.\n",
      "  FutureWarning)\n",
      "/home/akakyi/anaconda3/lib/python3.7/site-packages/sklearn/linear_model/stochastic_gradient.py:166: FutureWarning: max_iter and tol parameters have been added in SGDClassifier in 0.19. If both are left unset, they default to max_iter=5 and tol=None. If tol is not None, max_iter defaults to max_iter=1000. From 0.21, default max_iter will be 1000, and default tol will be 1e-3.\n",
      "  FutureWarning)\n",
      "/home/akakyi/anaconda3/lib/python3.7/site-packages/sklearn/linear_model/stochastic_gradient.py:166: FutureWarning: max_iter and tol parameters have been added in SGDClassifier in 0.19. If both are left unset, they default to max_iter=5 and tol=None. If tol is not None, max_iter defaults to max_iter=1000. From 0.21, default max_iter will be 1000, and default tol will be 1e-3.\n",
      "  FutureWarning)\n",
      "/home/akakyi/anaconda3/lib/python3.7/site-packages/sklearn/linear_model/stochastic_gradient.py:166: FutureWarning: max_iter and tol parameters have been added in SGDClassifier in 0.19. If both are left unset, they default to max_iter=5 and tol=None. If tol is not None, max_iter defaults to max_iter=1000. From 0.21, default max_iter will be 1000, and default tol will be 1e-3.\n",
      "  FutureWarning)\n"
     ]
    },
    {
     "name": "stdout",
     "output_type": "stream",
     "text": [
      "17 features: \n",
      "\t Kbest: Index(['r_S(3,-3)SumVarnc', 'r_S(3,3)SumVarnc', 'r_S(2,2)SumVarnc',\n",
      "       'r_S(2,-2)SumVarnc', 'r_S(4,-4)SumVarnc', 'r_S(0,3)SumVarnc',\n",
      "       'r_S(4,4)SumVarnc', 'r_S(1,-1)SumVarnc', 'r_S(0,2)SumVarnc',\n",
      "       'r_S(0,4)SumVarnc', 'r_S(3,0)SumVarnc', 'r_S(1,1)SumVarnc',\n",
      "       'r_S(5,-5)SumVarnc', 'r_S(4,0)SumVarnc', 'r_S(5,0)SumVarnc',\n",
      "       'r_S(2,0)SumVarnc', 'r_S(0,1)SumVarnc'],\n",
      "      dtype='object')\n"
     ]
    },
    {
     "name": "stderr",
     "output_type": "stream",
     "text": [
      "/home/akakyi/anaconda3/lib/python3.7/site-packages/sklearn/linear_model/stochastic_gradient.py:166: FutureWarning: max_iter and tol parameters have been added in SGDClassifier in 0.19. If both are left unset, they default to max_iter=5 and tol=None. If tol is not None, max_iter defaults to max_iter=1000. From 0.21, default max_iter will be 1000, and default tol will be 1e-3.\n",
      "  FutureWarning)\n",
      "/home/akakyi/anaconda3/lib/python3.7/site-packages/sklearn/linear_model/stochastic_gradient.py:166: FutureWarning: max_iter and tol parameters have been added in SGDClassifier in 0.19. If both are left unset, they default to max_iter=5 and tol=None. If tol is not None, max_iter defaults to max_iter=1000. From 0.21, default max_iter will be 1000, and default tol will be 1e-3.\n",
      "  FutureWarning)\n",
      "/home/akakyi/anaconda3/lib/python3.7/site-packages/sklearn/linear_model/stochastic_gradient.py:166: FutureWarning: max_iter and tol parameters have been added in SGDClassifier in 0.19. If both are left unset, they default to max_iter=5 and tol=None. If tol is not None, max_iter defaults to max_iter=1000. From 0.21, default max_iter will be 1000, and default tol will be 1e-3.\n",
      "  FutureWarning)\n",
      "/home/akakyi/anaconda3/lib/python3.7/site-packages/sklearn/linear_model/stochastic_gradient.py:166: FutureWarning: max_iter and tol parameters have been added in SGDClassifier in 0.19. If both are left unset, they default to max_iter=5 and tol=None. If tol is not None, max_iter defaults to max_iter=1000. From 0.21, default max_iter will be 1000, and default tol will be 1e-3.\n",
      "  FutureWarning)\n"
     ]
    },
    {
     "name": "stdout",
     "output_type": "stream",
     "text": [
      "\t Trees: Index(['r_S(1,0)SumAverg', 'r_S(4,4)SumVarnc', 'b_S(0,1)SumAverg',\n",
      "       'r_S(0,3)SumVarnc', 'g_S(4,4)SumAverg', 'g_S(1,1)SumAverg',\n",
      "       'g_S(1,-1)SumAverg', 'gray_S(3,3)SumAverg', 'r_Perc.50%',\n",
      "       'r_S(0,1)SumAverg', 'r_S(5,-5)SumAverg', 'gray_S(0,1)SumVarnc',\n",
      "       'b_S(3,3)DifEntrp', 'r_S(0,4)SumVarnc', 'r_S(4,-4)SumVarnc',\n",
      "       'g_S(2,2)SumAverg', 'gray_S(1,0)SumAverg'],\n",
      "      dtype='object')\n"
     ]
    },
    {
     "name": "stderr",
     "output_type": "stream",
     "text": [
      "/home/akakyi/anaconda3/lib/python3.7/site-packages/sklearn/linear_model/stochastic_gradient.py:166: FutureWarning: max_iter and tol parameters have been added in SGDClassifier in 0.19. If both are left unset, they default to max_iter=5 and tol=None. If tol is not None, max_iter defaults to max_iter=1000. From 0.21, default max_iter will be 1000, and default tol will be 1e-3.\n",
      "  FutureWarning)\n",
      "/home/akakyi/anaconda3/lib/python3.7/site-packages/sklearn/linear_model/stochastic_gradient.py:166: FutureWarning: max_iter and tol parameters have been added in SGDClassifier in 0.19. If both are left unset, they default to max_iter=5 and tol=None. If tol is not None, max_iter defaults to max_iter=1000. From 0.21, default max_iter will be 1000, and default tol will be 1e-3.\n",
      "  FutureWarning)\n",
      "/home/akakyi/anaconda3/lib/python3.7/site-packages/sklearn/linear_model/stochastic_gradient.py:166: FutureWarning: max_iter and tol parameters have been added in SGDClassifier in 0.19. If both are left unset, they default to max_iter=5 and tol=None. If tol is not None, max_iter defaults to max_iter=1000. From 0.21, default max_iter will be 1000, and default tol will be 1e-3.\n",
      "  FutureWarning)\n",
      "/home/akakyi/anaconda3/lib/python3.7/site-packages/sklearn/linear_model/stochastic_gradient.py:166: FutureWarning: max_iter and tol parameters have been added in SGDClassifier in 0.19. If both are left unset, they default to max_iter=5 and tol=None. If tol is not None, max_iter defaults to max_iter=1000. From 0.21, default max_iter will be 1000, and default tol will be 1e-3.\n",
      "  FutureWarning)\n",
      "/home/akakyi/anaconda3/lib/python3.7/site-packages/sklearn/linear_model/stochastic_gradient.py:166: FutureWarning: max_iter and tol parameters have been added in SGDClassifier in 0.19. If both are left unset, they default to max_iter=5 and tol=None. If tol is not None, max_iter defaults to max_iter=1000. From 0.21, default max_iter will be 1000, and default tol will be 1e-3.\n",
      "  FutureWarning)\n",
      "/home/akakyi/anaconda3/lib/python3.7/site-packages/sklearn/linear_model/stochastic_gradient.py:166: FutureWarning: max_iter and tol parameters have been added in SGDClassifier in 0.19. If both are left unset, they default to max_iter=5 and tol=None. If tol is not None, max_iter defaults to max_iter=1000. From 0.21, default max_iter will be 1000, and default tol will be 1e-3.\n",
      "  FutureWarning)\n"
     ]
    },
    {
     "name": "stdout",
     "output_type": "stream",
     "text": [
      "18 features: \n",
      "\t Kbest: Index(['r_S(3,-3)SumVarnc', 'r_S(3,3)SumVarnc', 'r_S(2,2)SumVarnc',\n",
      "       'r_S(2,-2)SumVarnc', 'r_S(4,-4)SumVarnc', 'r_S(0,3)SumVarnc',\n",
      "       'r_S(4,4)SumVarnc', 'r_S(1,-1)SumVarnc', 'r_S(0,2)SumVarnc',\n",
      "       'r_S(0,4)SumVarnc', 'r_S(3,0)SumVarnc', 'r_S(1,1)SumVarnc',\n",
      "       'r_S(5,-5)SumVarnc', 'r_S(4,0)SumVarnc', 'r_S(5,0)SumVarnc',\n",
      "       'r_S(2,0)SumVarnc', 'r_S(0,1)SumVarnc', 'r_S(0,5)SumVarnc'],\n",
      "      dtype='object')\n"
     ]
    },
    {
     "name": "stderr",
     "output_type": "stream",
     "text": [
      "/home/akakyi/anaconda3/lib/python3.7/site-packages/sklearn/linear_model/stochastic_gradient.py:166: FutureWarning: max_iter and tol parameters have been added in SGDClassifier in 0.19. If both are left unset, they default to max_iter=5 and tol=None. If tol is not None, max_iter defaults to max_iter=1000. From 0.21, default max_iter will be 1000, and default tol will be 1e-3.\n",
      "  FutureWarning)\n",
      "/home/akakyi/anaconda3/lib/python3.7/site-packages/sklearn/linear_model/stochastic_gradient.py:166: FutureWarning: max_iter and tol parameters have been added in SGDClassifier in 0.19. If both are left unset, they default to max_iter=5 and tol=None. If tol is not None, max_iter defaults to max_iter=1000. From 0.21, default max_iter will be 1000, and default tol will be 1e-3.\n",
      "  FutureWarning)\n",
      "/home/akakyi/anaconda3/lib/python3.7/site-packages/sklearn/linear_model/stochastic_gradient.py:166: FutureWarning: max_iter and tol parameters have been added in SGDClassifier in 0.19. If both are left unset, they default to max_iter=5 and tol=None. If tol is not None, max_iter defaults to max_iter=1000. From 0.21, default max_iter will be 1000, and default tol will be 1e-3.\n",
      "  FutureWarning)\n",
      "/home/akakyi/anaconda3/lib/python3.7/site-packages/sklearn/linear_model/stochastic_gradient.py:166: FutureWarning: max_iter and tol parameters have been added in SGDClassifier in 0.19. If both are left unset, they default to max_iter=5 and tol=None. If tol is not None, max_iter defaults to max_iter=1000. From 0.21, default max_iter will be 1000, and default tol will be 1e-3.\n",
      "  FutureWarning)\n",
      "/home/akakyi/anaconda3/lib/python3.7/site-packages/sklearn/linear_model/stochastic_gradient.py:166: FutureWarning: max_iter and tol parameters have been added in SGDClassifier in 0.19. If both are left unset, they default to max_iter=5 and tol=None. If tol is not None, max_iter defaults to max_iter=1000. From 0.21, default max_iter will be 1000, and default tol will be 1e-3.\n",
      "  FutureWarning)\n"
     ]
    },
    {
     "name": "stdout",
     "output_type": "stream",
     "text": [
      "\t Trees: Index(['r_S(1,0)SumAverg', 'r_S(4,4)SumVarnc', 'b_S(0,1)SumAverg',\n",
      "       'r_S(0,3)SumVarnc', 'g_S(4,4)SumAverg', 'g_S(1,1)SumAverg',\n",
      "       'g_S(1,-1)SumAverg', 'gray_S(3,3)SumAverg', 'r_Perc.50%',\n",
      "       'r_S(0,1)SumAverg', 'r_S(5,-5)SumAverg', 'gray_S(0,1)SumVarnc',\n",
      "       'b_S(3,3)DifEntrp', 'r_S(0,4)SumVarnc', 'r_S(4,-4)SumVarnc',\n",
      "       'g_S(2,2)SumAverg', 'gray_S(1,0)SumAverg', 'gray_Mean'],\n",
      "      dtype='object')\n"
     ]
    },
    {
     "name": "stderr",
     "output_type": "stream",
     "text": [
      "/home/akakyi/anaconda3/lib/python3.7/site-packages/sklearn/linear_model/stochastic_gradient.py:166: FutureWarning: max_iter and tol parameters have been added in SGDClassifier in 0.19. If both are left unset, they default to max_iter=5 and tol=None. If tol is not None, max_iter defaults to max_iter=1000. From 0.21, default max_iter will be 1000, and default tol will be 1e-3.\n",
      "  FutureWarning)\n",
      "/home/akakyi/anaconda3/lib/python3.7/site-packages/sklearn/linear_model/stochastic_gradient.py:166: FutureWarning: max_iter and tol parameters have been added in SGDClassifier in 0.19. If both are left unset, they default to max_iter=5 and tol=None. If tol is not None, max_iter defaults to max_iter=1000. From 0.21, default max_iter will be 1000, and default tol will be 1e-3.\n",
      "  FutureWarning)\n",
      "/home/akakyi/anaconda3/lib/python3.7/site-packages/sklearn/linear_model/stochastic_gradient.py:166: FutureWarning: max_iter and tol parameters have been added in SGDClassifier in 0.19. If both are left unset, they default to max_iter=5 and tol=None. If tol is not None, max_iter defaults to max_iter=1000. From 0.21, default max_iter will be 1000, and default tol will be 1e-3.\n",
      "  FutureWarning)\n",
      "/home/akakyi/anaconda3/lib/python3.7/site-packages/sklearn/linear_model/stochastic_gradient.py:166: FutureWarning: max_iter and tol parameters have been added in SGDClassifier in 0.19. If both are left unset, they default to max_iter=5 and tol=None. If tol is not None, max_iter defaults to max_iter=1000. From 0.21, default max_iter will be 1000, and default tol will be 1e-3.\n",
      "  FutureWarning)\n",
      "/home/akakyi/anaconda3/lib/python3.7/site-packages/sklearn/linear_model/stochastic_gradient.py:166: FutureWarning: max_iter and tol parameters have been added in SGDClassifier in 0.19. If both are left unset, they default to max_iter=5 and tol=None. If tol is not None, max_iter defaults to max_iter=1000. From 0.21, default max_iter will be 1000, and default tol will be 1e-3.\n",
      "  FutureWarning)\n",
      "/home/akakyi/anaconda3/lib/python3.7/site-packages/sklearn/linear_model/stochastic_gradient.py:166: FutureWarning: max_iter and tol parameters have been added in SGDClassifier in 0.19. If both are left unset, they default to max_iter=5 and tol=None. If tol is not None, max_iter defaults to max_iter=1000. From 0.21, default max_iter will be 1000, and default tol will be 1e-3.\n",
      "  FutureWarning)\n"
     ]
    },
    {
     "name": "stdout",
     "output_type": "stream",
     "text": [
      "19 features: \n",
      "\t Kbest: Index(['r_S(3,-3)SumVarnc', 'r_S(3,3)SumVarnc', 'r_S(2,2)SumVarnc',\n",
      "       'r_S(2,-2)SumVarnc', 'r_S(4,-4)SumVarnc', 'r_S(0,3)SumVarnc',\n",
      "       'r_S(4,4)SumVarnc', 'r_S(1,-1)SumVarnc', 'r_S(0,2)SumVarnc',\n",
      "       'r_S(0,4)SumVarnc', 'r_S(3,0)SumVarnc', 'r_S(1,1)SumVarnc',\n",
      "       'r_S(5,-5)SumVarnc', 'r_S(4,0)SumVarnc', 'r_S(5,0)SumVarnc',\n",
      "       'r_S(2,0)SumVarnc', 'r_S(0,1)SumVarnc', 'r_S(0,5)SumVarnc',\n",
      "       'r_S(1,0)SumVarnc'],\n",
      "      dtype='object')\n"
     ]
    },
    {
     "name": "stderr",
     "output_type": "stream",
     "text": [
      "/home/akakyi/anaconda3/lib/python3.7/site-packages/sklearn/linear_model/stochastic_gradient.py:166: FutureWarning: max_iter and tol parameters have been added in SGDClassifier in 0.19. If both are left unset, they default to max_iter=5 and tol=None. If tol is not None, max_iter defaults to max_iter=1000. From 0.21, default max_iter will be 1000, and default tol will be 1e-3.\n",
      "  FutureWarning)\n",
      "/home/akakyi/anaconda3/lib/python3.7/site-packages/sklearn/linear_model/stochastic_gradient.py:166: FutureWarning: max_iter and tol parameters have been added in SGDClassifier in 0.19. If both are left unset, they default to max_iter=5 and tol=None. If tol is not None, max_iter defaults to max_iter=1000. From 0.21, default max_iter will be 1000, and default tol will be 1e-3.\n",
      "  FutureWarning)\n",
      "/home/akakyi/anaconda3/lib/python3.7/site-packages/sklearn/linear_model/stochastic_gradient.py:166: FutureWarning: max_iter and tol parameters have been added in SGDClassifier in 0.19. If both are left unset, they default to max_iter=5 and tol=None. If tol is not None, max_iter defaults to max_iter=1000. From 0.21, default max_iter will be 1000, and default tol will be 1e-3.\n",
      "  FutureWarning)\n",
      "/home/akakyi/anaconda3/lib/python3.7/site-packages/sklearn/linear_model/stochastic_gradient.py:166: FutureWarning: max_iter and tol parameters have been added in SGDClassifier in 0.19. If both are left unset, they default to max_iter=5 and tol=None. If tol is not None, max_iter defaults to max_iter=1000. From 0.21, default max_iter will be 1000, and default tol will be 1e-3.\n",
      "  FutureWarning)\n",
      "/home/akakyi/anaconda3/lib/python3.7/site-packages/sklearn/linear_model/stochastic_gradient.py:166: FutureWarning: max_iter and tol parameters have been added in SGDClassifier in 0.19. If both are left unset, they default to max_iter=5 and tol=None. If tol is not None, max_iter defaults to max_iter=1000. From 0.21, default max_iter will be 1000, and default tol will be 1e-3.\n",
      "  FutureWarning)\n"
     ]
    },
    {
     "name": "stdout",
     "output_type": "stream",
     "text": [
      "\t Trees: Index(['r_S(1,0)SumAverg', 'r_S(4,4)SumVarnc', 'b_S(0,1)SumAverg',\n",
      "       'r_S(0,3)SumVarnc', 'g_S(4,4)SumAverg', 'g_S(1,1)SumAverg',\n",
      "       'g_S(1,-1)SumAverg', 'gray_S(3,3)SumAverg', 'r_Perc.50%',\n",
      "       'r_S(0,1)SumAverg', 'r_S(5,-5)SumAverg', 'gray_S(0,1)SumVarnc',\n",
      "       'b_S(3,3)DifEntrp', 'r_S(0,4)SumVarnc', 'r_S(4,-4)SumVarnc',\n",
      "       'g_S(2,2)SumAverg', 'gray_S(1,0)SumAverg', 'gray_Mean',\n",
      "       'r_S(5,0)DifEntrp'],\n",
      "      dtype='object')\n"
     ]
    },
    {
     "name": "stderr",
     "output_type": "stream",
     "text": [
      "/home/akakyi/anaconda3/lib/python3.7/site-packages/sklearn/linear_model/stochastic_gradient.py:166: FutureWarning: max_iter and tol parameters have been added in SGDClassifier in 0.19. If both are left unset, they default to max_iter=5 and tol=None. If tol is not None, max_iter defaults to max_iter=1000. From 0.21, default max_iter will be 1000, and default tol will be 1e-3.\n",
      "  FutureWarning)\n",
      "/home/akakyi/anaconda3/lib/python3.7/site-packages/sklearn/linear_model/stochastic_gradient.py:166: FutureWarning: max_iter and tol parameters have been added in SGDClassifier in 0.19. If both are left unset, they default to max_iter=5 and tol=None. If tol is not None, max_iter defaults to max_iter=1000. From 0.21, default max_iter will be 1000, and default tol will be 1e-3.\n",
      "  FutureWarning)\n",
      "/home/akakyi/anaconda3/lib/python3.7/site-packages/sklearn/linear_model/stochastic_gradient.py:166: FutureWarning: max_iter and tol parameters have been added in SGDClassifier in 0.19. If both are left unset, they default to max_iter=5 and tol=None. If tol is not None, max_iter defaults to max_iter=1000. From 0.21, default max_iter will be 1000, and default tol will be 1e-3.\n",
      "  FutureWarning)\n"
     ]
    },
    {
     "name": "stdout",
     "output_type": "stream",
     "text": [
      "20 features: \n",
      "\t Kbest: Index(['r_S(3,-3)SumVarnc', 'r_S(3,3)SumVarnc', 'r_S(2,2)SumVarnc',\n",
      "       'r_S(2,-2)SumVarnc', 'r_S(4,-4)SumVarnc', 'r_S(0,3)SumVarnc',\n",
      "       'r_S(4,4)SumVarnc', 'r_S(1,-1)SumVarnc', 'r_S(0,2)SumVarnc',\n",
      "       'r_S(0,4)SumVarnc', 'r_S(3,0)SumVarnc', 'r_S(1,1)SumVarnc',\n",
      "       'r_S(5,-5)SumVarnc', 'r_S(4,0)SumVarnc', 'r_S(5,0)SumVarnc',\n",
      "       'r_S(2,0)SumVarnc', 'r_S(0,1)SumVarnc', 'r_S(0,5)SumVarnc',\n",
      "       'r_S(1,0)SumVarnc', 'r_S(5,5)SumVarnc'],\n",
      "      dtype='object')\n"
     ]
    },
    {
     "name": "stderr",
     "output_type": "stream",
     "text": [
      "/home/akakyi/anaconda3/lib/python3.7/site-packages/sklearn/linear_model/stochastic_gradient.py:166: FutureWarning: max_iter and tol parameters have been added in SGDClassifier in 0.19. If both are left unset, they default to max_iter=5 and tol=None. If tol is not None, max_iter defaults to max_iter=1000. From 0.21, default max_iter will be 1000, and default tol will be 1e-3.\n",
      "  FutureWarning)\n",
      "/home/akakyi/anaconda3/lib/python3.7/site-packages/sklearn/linear_model/stochastic_gradient.py:166: FutureWarning: max_iter and tol parameters have been added in SGDClassifier in 0.19. If both are left unset, they default to max_iter=5 and tol=None. If tol is not None, max_iter defaults to max_iter=1000. From 0.21, default max_iter will be 1000, and default tol will be 1e-3.\n",
      "  FutureWarning)\n",
      "/home/akakyi/anaconda3/lib/python3.7/site-packages/sklearn/linear_model/stochastic_gradient.py:166: FutureWarning: max_iter and tol parameters have been added in SGDClassifier in 0.19. If both are left unset, they default to max_iter=5 and tol=None. If tol is not None, max_iter defaults to max_iter=1000. From 0.21, default max_iter will be 1000, and default tol will be 1e-3.\n",
      "  FutureWarning)\n",
      "/home/akakyi/anaconda3/lib/python3.7/site-packages/sklearn/linear_model/stochastic_gradient.py:166: FutureWarning: max_iter and tol parameters have been added in SGDClassifier in 0.19. If both are left unset, they default to max_iter=5 and tol=None. If tol is not None, max_iter defaults to max_iter=1000. From 0.21, default max_iter will be 1000, and default tol will be 1e-3.\n",
      "  FutureWarning)\n",
      "/home/akakyi/anaconda3/lib/python3.7/site-packages/sklearn/linear_model/stochastic_gradient.py:166: FutureWarning: max_iter and tol parameters have been added in SGDClassifier in 0.19. If both are left unset, they default to max_iter=5 and tol=None. If tol is not None, max_iter defaults to max_iter=1000. From 0.21, default max_iter will be 1000, and default tol will be 1e-3.\n",
      "  FutureWarning)\n"
     ]
    },
    {
     "name": "stdout",
     "output_type": "stream",
     "text": [
      "\t Trees: Index(['r_S(1,0)SumAverg', 'r_S(4,4)SumVarnc', 'b_S(0,1)SumAverg',\n",
      "       'r_S(0,3)SumVarnc', 'g_S(4,4)SumAverg', 'g_S(1,1)SumAverg',\n",
      "       'g_S(1,-1)SumAverg', 'gray_S(3,3)SumAverg', 'r_Perc.50%',\n",
      "       'r_S(0,1)SumAverg', 'r_S(5,-5)SumAverg', 'gray_S(0,1)SumVarnc',\n",
      "       'b_S(3,3)DifEntrp', 'r_S(0,4)SumVarnc', 'r_S(4,-4)SumVarnc',\n",
      "       'g_S(2,2)SumAverg', 'gray_S(1,0)SumAverg', 'gray_Mean',\n",
      "       'r_S(5,0)DifEntrp', 'r_S(0,1)SumVarnc'],\n",
      "      dtype='object')\n"
     ]
    },
    {
     "name": "stderr",
     "output_type": "stream",
     "text": [
      "/home/akakyi/anaconda3/lib/python3.7/site-packages/sklearn/linear_model/stochastic_gradient.py:166: FutureWarning: max_iter and tol parameters have been added in SGDClassifier in 0.19. If both are left unset, they default to max_iter=5 and tol=None. If tol is not None, max_iter defaults to max_iter=1000. From 0.21, default max_iter will be 1000, and default tol will be 1e-3.\n",
      "  FutureWarning)\n",
      "/home/akakyi/anaconda3/lib/python3.7/site-packages/sklearn/linear_model/stochastic_gradient.py:166: FutureWarning: max_iter and tol parameters have been added in SGDClassifier in 0.19. If both are left unset, they default to max_iter=5 and tol=None. If tol is not None, max_iter defaults to max_iter=1000. From 0.21, default max_iter will be 1000, and default tol will be 1e-3.\n",
      "  FutureWarning)\n",
      "/home/akakyi/anaconda3/lib/python3.7/site-packages/sklearn/linear_model/stochastic_gradient.py:166: FutureWarning: max_iter and tol parameters have been added in SGDClassifier in 0.19. If both are left unset, they default to max_iter=5 and tol=None. If tol is not None, max_iter defaults to max_iter=1000. From 0.21, default max_iter will be 1000, and default tol will be 1e-3.\n",
      "  FutureWarning)\n",
      "/home/akakyi/anaconda3/lib/python3.7/site-packages/sklearn/linear_model/stochastic_gradient.py:166: FutureWarning: max_iter and tol parameters have been added in SGDClassifier in 0.19. If both are left unset, they default to max_iter=5 and tol=None. If tol is not None, max_iter defaults to max_iter=1000. From 0.21, default max_iter will be 1000, and default tol will be 1e-3.\n",
      "  FutureWarning)\n"
     ]
    },
    {
     "name": "stdout",
     "output_type": "stream",
     "text": [
      " \n",
      " Accuracy Kbest:  [0.7787670465375598, 0.7883285053282056, 0.8068833529092382, 0.7949243268546488, 0.8005892794843511, 0.7790088531872412, 0.8167717518378798, 0.792395856436026, 0.8007515494217421, 0.8013629327372996, 0.803131846259993, 0.8112531052474843, 0.809711171571007, 0.7828239159187917, 0.798449617073166, 0.8238855675275089, 0.7966919495021574]\n",
      " \n",
      " Accuracy trees:  [0.9299136531519814, 0.9505173808850275, 0.9499823621021729, 0.9497514793600537, 0.9492927655137479, 0.9535055945217149, 0.9489079499988465, 0.9523571666488271, 0.9524334138783075, 0.9571828468818477, 0.9576404149977149, 0.9586376119850415, 0.9587145041123757, 0.9580247019734422, 0.9561086104634857, 0.9596326357592562, 0.9564933085402298]\n"
     ]
    },
    {
     "name": "stderr",
     "output_type": "stream",
     "text": [
      "/home/akakyi/anaconda3/lib/python3.7/site-packages/sklearn/linear_model/stochastic_gradient.py:166: FutureWarning: max_iter and tol parameters have been added in SGDClassifier in 0.19. If both are left unset, they default to max_iter=5 and tol=None. If tol is not None, max_iter defaults to max_iter=1000. From 0.21, default max_iter will be 1000, and default tol will be 1e-3.\n",
      "  FutureWarning)\n"
     ]
    }
   ],
   "source": [
    "for i in range(N, N + K):\n",
    "    print(i, 'features: ')\n",
    "    best = best_features.nlargest(i, 'chi2_score').index\n",
    "    print('\\t Kbest:', best)\n",
    "    kbest_x = x[best]\n",
    "    kbest_cvs = cross_val_score(model_norm, (kbest_x - kbest_x.mean(axis=0))/kbest_x.std(axis=0), y, cv = 5)\n",
    "    accuracy_Kbest.append(np.mean(kbest_cvs))\n",
    "    importance = importance_features.nlargest(i, 'feature_importance').index\n",
    "    print('\\t Trees:', importance)\n",
    "    tree_x = x[importance]\n",
    "    trees_cvs = cross_val_score(model_norm, (tree_x - tree_x.mean(axis=0))/tree_x.std(axis=0), y, cv = 5)\n",
    "    accuracy_trees.append(np.mean(trees_cvs))\n",
    "print(' \\n Accuracy Kbest: ' ,accuracy_Kbest)\n",
    "print(' \\n Accuracy trees: ' ,accuracy_trees)"
   ]
  },
  {
   "cell_type": "code",
   "execution_count": 15,
   "metadata": {},
   "outputs": [
    {
     "data": {
      "image/png": "[encoded data removed]",
      "text/plain": [
       "<Figure size 432x288 with 1 Axes>"
      ]
     },
     "metadata": {
      "needs_background": "light"
     },
     "output_type": "display_data"
    }
   ],
   "source": [
    "count = range(N, N+K)\n",
    "plt.plot(count, accuracy_Kbest, color='darkgreen', label='Kbest')\n",
    "plt.plot(count, accuracy_trees, color='m', label='Tree')\n",
    "plt.xlabel('Count features')\n",
    "plt.ylabel('Accuracy')\n",
    "plt.title('Top features')\n",
    "plt.legend()\n",
    "plt.grid()\n",
    "plt.show()"
   ]
  },
  {
   "cell_type": "code",
   "execution_count": 16,
   "metadata": {},
   "outputs": [],
   "source": [
    "best_features = preprocessing.scale(preprocessing.MinMaxScaler().fit_transform(x[['b_S(4,0)SumVarnc', 'b_Perc.01%', 'b_S(4,-4)SumVarnc',\n",
    "       'gray_S(0,3)SumAverg', 'b_S(0,2)SumAverg', 'gray_S(0,3)SumVarnc',\n",
    "       'g_Perc.99%', 'r_S(4,4)SumVarnc', 'g_S(2,-2)SumVarnc', 'gray_Perc.01%',\n",
    "       'b_Perc.90%', 'b_S(3,-3)SumVarnc', 'b_S(2,0)SumAverg',\n",
    "       'gray_S(5,0)SumVarnc', 'b_S(5,5)SumAverg']]))"
   ]
  },
  {
   "cell_type": "code",
   "execution_count": 17,
   "metadata": {},
   "outputs": [],
   "source": [
    "learning_rate=0.01\n",
    "\n",
    "def init_weights(D, H):\n",
    "    W = np.random.randn(D, H) / np.sqrt(D)\n",
    "    b = np.zeros(H)\n",
    "    \n",
    "    W = th.shared(W)\n",
    "    b = th.shared(b)\n",
    "    return W, b\n",
    "    \n",
    "\n",
    "def create_layer(x, W, b, activation=T.tanh):\n",
    "    x = T.dot(x, W) + b\n",
    "    if activation is not None:\n",
    "        x = activation(x)\n",
    "    return x"
   ]
  },
  {
   "cell_type": "code",
   "execution_count": 18,
   "metadata": {},
   "outputs": [],
   "source": [
    "def train(X, Y, count_neurons, epochs):\n",
    "    print('test')\n",
    "    x = T.vector('x')\n",
    "\n",
    "    W1, b1 = init_weights(D=15, H=count_neurons)\n",
    "    out_l1 = create_layer(x, W1, b1)\n",
    "\n",
    "    W2, b2 = init_weights(D=count_neurons, H=len(np.unique(Y)))\n",
    "    out_l2 = create_layer(out_l1, W2, b2, activation=None)\n",
    "    \n",
    "    classification_out = T.nnet.softmax(out_l2)\n",
    "\n",
    "    softmax_out = th.function(\n",
    "        inputs=[x],\n",
    "        outputs=classification_out\n",
    "    )\n",
    "    \n",
    "    loss = -T.log(classification_out + 1e-13)\n",
    "    \n",
    "    label = T.scalar('y', dtype=T.int32) \n",
    "\n",
    "    class_loss = loss[0, label]\n",
    "\n",
    "    loss_val = th.function(\n",
    "        inputs=[x, label],\n",
    "        outputs=class_loss\n",
    "    )\n",
    "    \n",
    "    W1_grad = T.grad(class_loss, W1)\n",
    "    b1_grad = T.grad(class_loss, b1)\n",
    "    W2_grad = T.grad(class_loss, W2)\n",
    "    b2_grad = T.grad(class_loss, b2)\n",
    "\n",
    "    update_W1 = W1 - learning_rate * W1_grad\n",
    "    update_b1 = b1 - learning_rate * b1_grad\n",
    "    update_W2 = W2 - learning_rate * W2_grad\n",
    "    update_b2 = b2 - learning_rate * b2_grad\n",
    "\n",
    "    updates = [\n",
    "        (W1, update_W1),\n",
    "        (b1, update_b1),\n",
    "        (W2, update_W2),\n",
    "        (b2, update_b2)\n",
    "    ]\n",
    "\n",
    "    train_op = th.function(\n",
    "        inputs=[x, label],\n",
    "        outputs=class_loss,\n",
    "        updates=updates\n",
    "    )\n",
    "    \n",
    "    accuracy = []\n",
    "    loss = []\n",
    "    time_train = 0\n",
    "    for i in range(epochs):\n",
    "        for j in range(len(X)):\n",
    "            label = Y[j]\n",
    "            x_in = X[j]\n",
    "            start = time.time()\n",
    "            #print(x_in)\n",
    "            #print(label)\n",
    "            _ = train_op(x_in, label)\n",
    "            end = time.time()\n",
    "            time_train += (end - start)\n",
    "        n_correct = 0\n",
    "        loss_values = []\n",
    "        for j in range(len(X)):\n",
    "            label = Y[j]\n",
    "            x_in = X[j]\n",
    "            loss_values += [loss_val(x_in, label)]\n",
    "            answer = softmax_out(x_in)\n",
    "\n",
    "            n_correct += np.argmax(answer[0]) == label\n",
    "        accuracy.append(n_correct / len(X))\n",
    "        loss.append(sum(loss_values) / len(X))\n",
    "        print('Accuracy:', accuracy[-1])\n",
    "        print('Mean loss:', loss[-1])\n",
    "        print(str(i+1)+'/'+str(epochs))\n",
    "    \n",
    "    return [accuracy, loss, time_train]"
   ]
  },
  {
   "cell_type": "code",
   "execution_count": 19,
   "metadata": {},
   "outputs": [],
   "source": [
    "#zzz = {'DZN': 0, 'Makula': 1, 'SoftExudates': 2, 'Vessels': 3}\n",
    "#for i in range(0, y.size):\n",
    "#    y[i] = zzz[y[i]]\n",
    "    \n",
    "#print(y)"
   ]
  },
  {
   "cell_type": "code",
   "execution_count": 21,
   "metadata": {},
   "outputs": [
    {
     "name": "stdout",
     "output_type": "stream",
     "text": [
      "Hidden neurons: 15\n",
      "test\n"
     ]
    },
    {
     "name": "stderr",
     "output_type": "stream",
     "text": [
      "/home/akakyi/anaconda3/lib/python3.7/site-packages/ipykernel_launcher.py:11: UserWarning: DEPRECATION: If x is a vector, Softmax will not automatically pad x anymore in next releases. If you need it, please do it manually. The vector case is gonna be supported soon and the output will be a vector.\n",
      "  # This is added back by InteractiveShellApp.init_path()\n"
     ]
    },
    {
     "name": "stdout",
     "output_type": "stream",
     "text": [
      "Accuracy: 0.7459016393442623\n",
      "Mean loss: 0.6989838038892336\n",
      "1/30\n",
      "Accuracy: 0.7571625555385323\n",
      "Mean loss: 0.625462033556095\n",
      "2/30\n",
      "Accuracy: 0.7787651294622338\n",
      "Mean loss: 0.5889986889746003\n",
      "3/30\n",
      "Accuracy: 0.7975333231193504\n",
      "Mean loss: 0.5627961971807837\n",
      "4/30\n",
      "Accuracy: 0.8148460242071396\n",
      "Mean loss: 0.5400688498295503\n",
      "5/30\n",
      "Accuracy: 0.8287115060517849\n",
      "Mean loss: 0.516102109406982\n",
      "6/30\n",
      "Accuracy: 0.8356825494101425\n",
      "Mean loss: 0.4938735407190659\n",
      "7/30\n",
      "Accuracy: 0.8412747050712426\n",
      "Mean loss: 0.4728086323963402\n",
      "8/30\n",
      "Accuracy: 0.8459476022675042\n",
      "Mean loss: 0.4524212850836021\n",
      "9/30\n",
      "Accuracy: 0.8503906848475563\n",
      "Mean loss: 0.43029474482180446\n",
      "10/30\n",
      "Accuracy: 0.8562892599969358\n",
      "Mean loss: 0.4092517933199203\n",
      "11/30\n",
      "Accuracy: 0.860119503600429\n",
      "Mean loss: 0.3944035374416775\n",
      "12/30\n",
      "Accuracy: 0.8639497472039221\n",
      "Mean loss: 0.38625044191798175\n",
      "13/30\n",
      "Accuracy: 0.8660946836218784\n",
      "Mean loss: 0.3856614857461653\n",
      "14/30\n",
      "Accuracy: 0.8689290638884634\n",
      "Mean loss: 0.3883255915585583\n",
      "15/30\n",
      "Accuracy: 0.8731423318523058\n",
      "Mean loss: 0.3840135109771301\n",
      "16/30\n",
      "Accuracy: 0.8772789949440785\n",
      "Mean loss: 0.382773978880636\n",
      "17/30\n",
      "Accuracy: 0.88762065267351\n",
      "Mean loss: 0.3702686883527592\n",
      "18/30\n",
      "Accuracy: 0.8929829937184005\n",
      "Mean loss: 0.36309117103946636\n",
      "19/30\n",
      "Accuracy: 0.8975026811705225\n",
      "Mean loss: 0.3578250236847101\n",
      "20/30\n",
      "Accuracy: 0.8994944078443389\n",
      "Mean loss: 0.3537822612677512\n",
      "21/30\n",
      "Accuracy: 0.9021755783667841\n",
      "Mean loss: 0.3479288602410001\n",
      "22/30\n",
      "Accuracy: 0.9050099586333691\n",
      "Mean loss: 0.3431818376111993\n",
      "23/30\n",
      "Accuracy: 0.9086103876206527\n",
      "Mean loss: 0.33638945672621523\n",
      "24/30\n",
      "Accuracy: 0.910678719166539\n",
      "Mean loss: 0.3302901366225409\n",
      "25/30\n",
      "Accuracy: 0.9137429140493335\n",
      "Mean loss: 0.32276522565279053\n",
      "26/30\n",
      "Accuracy: 0.9159644553393596\n",
      "Mean loss: 0.31529711516811704\n",
      "27/30\n",
      "Accuracy: 0.9195648843266432\n",
      "Mean loss: 0.3071857286122895\n",
      "28/30\n",
      "Accuracy: 0.9218630304887391\n",
      "Mean loss: 0.2988806636528224\n",
      "29/30\n",
      "Accuracy: 0.9244675961391144\n",
      "Mean loss: 0.29042524123682406\n",
      "30/30\n",
      "Hidden neurons: 50\n",
      "test\n"
     ]
    },
    {
     "name": "stderr",
     "output_type": "stream",
     "text": [
      "/home/akakyi/anaconda3/lib/python3.7/site-packages/ipykernel_launcher.py:11: UserWarning: DEPRECATION: If x is a vector, Softmax will not automatically pad x anymore in next releases. If you need it, please do it manually. The vector case is gonna be supported soon and the output will be a vector.\n",
      "  # This is added back by InteractiveShellApp.init_path()\n"
     ]
    },
    {
     "name": "stdout",
     "output_type": "stream",
     "text": [
      "Accuracy: 0.746667688064961\n",
      "Mean loss: 0.8034400680170665\n",
      "1/30\n",
      "Accuracy: 0.76405699402482\n",
      "Mean loss: 0.7250181946900658\n",
      "2/30\n",
      "Accuracy: 0.7829017925540064\n",
      "Mean loss: 0.6626442550769657\n",
      "3/30\n",
      "Accuracy: 0.7957714110617435\n",
      "Mean loss: 0.6323997304555607\n",
      "4/30\n",
      "Accuracy: 0.8072621418722231\n",
      "Mean loss: 0.6128216542761264\n",
      "5/30\n",
      "Accuracy: 0.8189060824268424\n",
      "Mean loss: 0.5868905535516415\n",
      "6/30\n",
      "Accuracy: 0.8289413206679945\n",
      "Mean loss: 0.551551890788601\n",
      "7/30\n",
      "Accuracy: 0.8357591542822124\n",
      "Mean loss: 0.5133571116919102\n",
      "8/30\n",
      "Accuracy: 0.840508656350544\n",
      "Mean loss: 0.47986101771692324\n",
      "9/30\n",
      "Accuracy: 0.8461008120116439\n",
      "Mean loss: 0.4527896877064869\n",
      "10/30\n",
      "Accuracy: 0.8517695725448139\n",
      "Mean loss: 0.4318561786814476\n",
      "11/30\n",
      "Accuracy: 0.8585874061590317\n",
      "Mean loss: 0.4166926362335098\n",
      "12/30\n",
      "Accuracy: 0.862953883867014\n",
      "Mean loss: 0.40593674270845476\n",
      "13/30\n",
      "Accuracy: 0.8667075225984373\n",
      "Mean loss: 0.3984527501457571\n",
      "14/30\n",
      "Accuracy: 0.8704611613298606\n",
      "Mean loss: 0.39343847837615664\n",
      "15/30\n",
      "Accuracy: 0.8745212195495633\n",
      "Mean loss: 0.390418301005714\n",
      "16/30\n",
      "Accuracy: 0.876972575455799\n",
      "Mean loss: 0.38867221728622736\n",
      "17/30\n",
      "Accuracy: 0.8809560288034319\n",
      "Mean loss: 0.3878228579145652\n",
      "18/30\n",
      "Accuracy: 0.8833307798375977\n",
      "Mean loss: 0.38744686807830814\n",
      "19/30\n",
      "Accuracy: 0.8857055308717634\n",
      "Mean loss: 0.3871841233269501\n",
      "20/30\n",
      "Accuracy: 0.8867779990807415\n",
      "Mean loss: 0.38638136723915323\n",
      "21/30\n",
      "Accuracy: 0.8883867013942087\n",
      "Mean loss: 0.3843720374543479\n",
      "22/30\n",
      "Accuracy: 0.8903784280680251\n",
      "Mean loss: 0.38125332356988706\n",
      "23/30\n",
      "Accuracy: 0.8916041060211429\n",
      "Mean loss: 0.37850092915080014\n",
      "24/30\n",
      "Accuracy: 0.8931362034625402\n",
      "Mean loss: 0.3775695736531205\n",
      "25/30\n",
      "Accuracy: 0.8942852765435881\n",
      "Mean loss: 0.3785016345603024\n",
      "26/30\n",
      "Accuracy: 0.8949747203922169\n",
      "Mean loss: 0.38030453113645074\n",
      "27/30\n",
      "Accuracy: 0.896047188601195\n",
      "Mean loss: 0.3821142265967284\n",
      "28/30\n",
      "Accuracy: 0.8968132373218937\n",
      "Mean loss: 0.3835635691385178\n",
      "29/30\n",
      "Accuracy: 0.8975026811705225\n",
      "Mean loss: 0.38441879678385166\n",
      "30/30\n",
      "Hidden neurons: 100\n",
      "test\n"
     ]
    },
    {
     "name": "stderr",
     "output_type": "stream",
     "text": [
      "/home/akakyi/anaconda3/lib/python3.7/site-packages/ipykernel_launcher.py:11: UserWarning: DEPRECATION: If x is a vector, Softmax will not automatically pad x anymore in next releases. If you need it, please do it manually. The vector case is gonna be supported soon and the output will be a vector.\n",
      "  # This is added back by InteractiveShellApp.init_path()\n"
     ]
    },
    {
     "name": "stdout",
     "output_type": "stream",
     "text": [
      "Accuracy: 0.7695725448138502\n",
      "Mean loss: 0.7685798055117273\n",
      "1/30\n",
      "Accuracy: 0.7920177723303202\n",
      "Mean loss: 0.6560422948166471\n",
      "2/30\n",
      "Accuracy: 0.8064194882794545\n",
      "Mean loss: 0.6060324301454203\n",
      "3/30\n",
      "Accuracy: 0.8165313313926765\n",
      "Mean loss: 0.578582298490033\n",
      "4/30\n",
      "Accuracy: 0.826413359889689\n",
      "Mean loss: 0.5516009668260011\n",
      "5/30\n",
      "Accuracy: 0.8326183545273479\n",
      "Mean loss: 0.5192654518623475\n",
      "6/30\n",
      "Accuracy: 0.8382105101884479\n",
      "Mean loss: 0.4862330268491847\n",
      "7/30\n",
      "Accuracy: 0.8428834073847097\n",
      "Mean loss: 0.4576216620483501\n",
      "8/30\n",
      "Accuracy: 0.8492416117665084\n",
      "Mean loss: 0.43479166200081887\n",
      "9/30\n",
      "Accuracy: 0.8548337674276084\n",
      "Mean loss: 0.4167148073061674\n",
      "10/30\n",
      "Accuracy: 0.8619580205301057\n",
      "Mean loss: 0.40211763224525\n",
      "11/30\n",
      "Accuracy: 0.8687758541443236\n",
      "Mean loss: 0.39048882831028653\n",
      "12/30\n",
      "Accuracy: 0.8738317757009346\n",
      "Mean loss: 0.38113472758666295\n",
      "13/30\n",
      "Accuracy: 0.878657882641336\n",
      "Mean loss: 0.3732651784003319\n",
      "14/30\n",
      "Accuracy: 0.8824881262448292\n",
      "Mean loss: 0.36641877321179\n",
      "15/30\n",
      "Accuracy: 0.8863949747203922\n",
      "Mean loss: 0.3603611124969163\n",
      "16/30\n",
      "Accuracy: 0.8913742914049334\n",
      "Mean loss: 0.35501259742284236\n",
      "17/30\n",
      "Accuracy: 0.8933660180787498\n",
      "Mean loss: 0.35043362675762246\n",
      "18/30\n",
      "Accuracy: 0.8959705837291252\n",
      "Mean loss: 0.3467583984525626\n",
      "19/30\n",
      "Accuracy: 0.8973494714263828\n",
      "Mean loss: 0.3440220731707472\n",
      "20/30\n",
      "Accuracy: 0.8987283591236402\n",
      "Mean loss: 0.342020858193511\n",
      "21/30\n",
      "Accuracy: 0.9001838516929677\n",
      "Mean loss: 0.3404219340897338\n",
      "22/30\n",
      "Accuracy: 0.9012563199019458\n",
      "Mean loss: 0.3389556046641517\n",
      "23/30\n",
      "Accuracy: 0.9021755783667841\n",
      "Mean loss: 0.3374653277918186\n",
      "24/30\n",
      "Accuracy: 0.9031714417036923\n",
      "Mean loss: 0.33588522577584545\n",
      "25/30\n",
      "Accuracy: 0.9044737245288801\n",
      "Mean loss: 0.33421325490717546\n",
      "26/30\n",
      "Accuracy: 0.9056994024819979\n",
      "Mean loss: 0.3324926945928423\n",
      "27/30\n",
      "Accuracy: 0.9065420560747663\n",
      "Mean loss: 0.33078448692604673\n",
      "28/30\n",
      "Accuracy: 0.9075379194116746\n",
      "Mean loss: 0.3291089469646988\n",
      "29/30\n",
      "Accuracy: 0.9085337827485828\n",
      "Mean loss: 0.32742019135812817\n",
      "30/30\n",
      "Hidden neurons: 200\n",
      "test\n"
     ]
    },
    {
     "name": "stderr",
     "output_type": "stream",
     "text": [
      "/home/akakyi/anaconda3/lib/python3.7/site-packages/ipykernel_launcher.py:11: UserWarning: DEPRECATION: If x is a vector, Softmax will not automatically pad x anymore in next releases. If you need it, please do it manually. The vector case is gonna be supported soon and the output will be a vector.\n",
      "  # This is added back by InteractiveShellApp.init_path()\n"
     ]
    },
    {
     "name": "stdout",
     "output_type": "stream",
     "text": [
      "Accuracy: 0.7925540064348092\n",
      "Mean loss: 0.8108746604043497\n",
      "1/30\n",
      "Accuracy: 0.816301516776467\n",
      "Mean loss: 0.6978823349268976\n",
      "2/30\n",
      "Accuracy: 0.829783974260763\n",
      "Mean loss: 0.6338391270934169\n",
      "3/30\n",
      "Accuracy: 0.8358357591542822\n",
      "Mean loss: 0.5829107261464945\n",
      "4/30\n",
      "Accuracy: 0.839895817373985\n",
      "Mean loss: 0.5337288173355714\n",
      "5/30\n",
      "Accuracy: 0.8430366171288494\n",
      "Mean loss: 0.48892111518550474\n",
      "6/30\n",
      "Accuracy: 0.8459476022675042\n",
      "Mean loss: 0.45250424641396064\n",
      "7/30\n",
      "Accuracy: 0.8497012409989275\n",
      "Mean loss: 0.4241532838679355\n",
      "8/30\n",
      "Accuracy: 0.8569020989734947\n",
      "Mean loss: 0.40201532583641353\n",
      "9/30\n",
      "Accuracy: 0.864026352075992\n",
      "Mean loss: 0.3845332337813825\n",
      "10/30\n",
      "Accuracy: 0.8709207905622798\n",
      "Mean loss: 0.3705944425793218\n",
      "11/30\n",
      "Accuracy: 0.87635973647924\n",
      "Mean loss: 0.35939924536936396\n",
      "12/30\n",
      "Accuracy: 0.8819518921403401\n",
      "Mean loss: 0.3503426657173135\n",
      "13/30\n",
      "Accuracy: 0.8857055308717634\n",
      "Mean loss: 0.3429689309722756\n",
      "14/30\n",
      "Accuracy: 0.8909912670445841\n",
      "Mean loss: 0.3369444880242043\n",
      "15/30\n",
      "Accuracy: 0.8942086716715183\n",
      "Mean loss: 0.332010768223325\n",
      "16/30\n",
      "Accuracy: 0.8965068178336142\n",
      "Mean loss: 0.3279444844946972\n",
      "17/30\n",
      "Accuracy: 0.8984219396353608\n",
      "Mean loss: 0.3245580006665931\n",
      "18/30\n",
      "Accuracy: 0.8997242224605485\n",
      "Mean loss: 0.32169646666400264\n",
      "19/30\n",
      "Accuracy: 0.9019457637505746\n",
      "Mean loss: 0.3192031299871049\n",
      "20/30\n",
      "Accuracy: 0.9041673050406006\n",
      "Mean loss: 0.3169103415221323\n",
      "21/30\n",
      "Accuracy: 0.9055461927378581\n",
      "Mean loss: 0.3146792418639644\n",
      "22/30\n",
      "Accuracy: 0.9070782901792555\n",
      "Mean loss: 0.31241565712735553\n",
      "23/30\n",
      "Accuracy: 0.9088402022368622\n",
      "Mean loss: 0.3100706801125053\n",
      "24/30\n",
      "Accuracy: 0.9100658801899801\n",
      "Mean loss: 0.30764293459758635\n",
      "25/30\n",
      "Accuracy: 0.9115213727593074\n",
      "Mean loss: 0.3051678045630203\n",
      "26/30\n",
      "Accuracy: 0.9133598896889842\n",
      "Mean loss: 0.30269684073248976\n",
      "27/30\n",
      "Accuracy: 0.9145089627700321\n",
      "Mean loss: 0.30027937207117356\n",
      "28/30\n",
      "Accuracy: 0.9156580358510801\n",
      "Mean loss: 0.2979377069318609\n",
      "29/30\n",
      "Accuracy: 0.9173433430366171\n",
      "Mean loss: 0.29564416875597316\n",
      "30/30\n",
      "[[0.7459016393442623, 0.7571625555385323, 0.7787651294622338, 0.7975333231193504, 0.8148460242071396, 0.8287115060517849, 0.8356825494101425, 0.8412747050712426, 0.8459476022675042, 0.8503906848475563, 0.8562892599969358, 0.860119503600429, 0.8639497472039221, 0.8660946836218784, 0.8689290638884634, 0.8731423318523058, 0.8772789949440785, 0.88762065267351, 0.8929829937184005, 0.8975026811705225, 0.8994944078443389, 0.9021755783667841, 0.9050099586333691, 0.9086103876206527, 0.910678719166539, 0.9137429140493335, 0.9159644553393596, 0.9195648843266432, 0.9218630304887391, 0.9244675961391144], [0.746667688064961, 0.76405699402482, 0.7829017925540064, 0.7957714110617435, 0.8072621418722231, 0.8189060824268424, 0.8289413206679945, 0.8357591542822124, 0.840508656350544, 0.8461008120116439, 0.8517695725448139, 0.8585874061590317, 0.862953883867014, 0.8667075225984373, 0.8704611613298606, 0.8745212195495633, 0.876972575455799, 0.8809560288034319, 0.8833307798375977, 0.8857055308717634, 0.8867779990807415, 0.8883867013942087, 0.8903784280680251, 0.8916041060211429, 0.8931362034625402, 0.8942852765435881, 0.8949747203922169, 0.896047188601195, 0.8968132373218937, 0.8975026811705225], [0.7695725448138502, 0.7920177723303202, 0.8064194882794545, 0.8165313313926765, 0.826413359889689, 0.8326183545273479, 0.8382105101884479, 0.8428834073847097, 0.8492416117665084, 0.8548337674276084, 0.8619580205301057, 0.8687758541443236, 0.8738317757009346, 0.878657882641336, 0.8824881262448292, 0.8863949747203922, 0.8913742914049334, 0.8933660180787498, 0.8959705837291252, 0.8973494714263828, 0.8987283591236402, 0.9001838516929677, 0.9012563199019458, 0.9021755783667841, 0.9031714417036923, 0.9044737245288801, 0.9056994024819979, 0.9065420560747663, 0.9075379194116746, 0.9085337827485828], [0.7925540064348092, 0.816301516776467, 0.829783974260763, 0.8358357591542822, 0.839895817373985, 0.8430366171288494, 0.8459476022675042, 0.8497012409989275, 0.8569020989734947, 0.864026352075992, 0.8709207905622798, 0.87635973647924, 0.8819518921403401, 0.8857055308717634, 0.8909912670445841, 0.8942086716715183, 0.8965068178336142, 0.8984219396353608, 0.8997242224605485, 0.9019457637505746, 0.9041673050406006, 0.9055461927378581, 0.9070782901792555, 0.9088402022368622, 0.9100658801899801, 0.9115213727593074, 0.9133598896889842, 0.9145089627700321, 0.9156580358510801, 0.9173433430366171]]\n"
     ]
    }
   ],
   "source": [
    "accuracy_all = []\n",
    "loss_all = []\n",
    "time_all = []\n",
    "# hidden_layer = [i for i in range(10, 20)]\n",
    "hidden_layer = [15, 50, 100, 200]\n",
    "\n",
    "epochs = 30\n",
    "\n",
    "for i in hidden_layer:\n",
    "    print('Hidden neurons:', i)\n",
    "    accuracy_i, loss_i, time_i = train(np.array(best_features), y, i, epochs)\n",
    "    accuracy_all.append(accuracy_i)\n",
    "    loss_all.append(loss_i)\n",
    "    time_all.append(time_i)\n",
    "    \n",
    "print(accuracy_all)"
   ]
  },
  {
   "cell_type": "markdown",
   "metadata": {},
   "source": [
    "## Лучшей нейронной сетью оказалась сеть с 15-ю скрытыми нейронами и точностью 0.9274551861498391"
   ]
  },
  {
   "cell_type": "code",
   "execution_count": null,
   "metadata": {},
   "outputs": [],
   "source": []
  }
 ],
 "metadata": {
  "kernelspec": {
   "display_name": "Python 3",
   "language": "python",
   "name": "python3"
  },
  "language_info": {
   "codemirror_mode": {
    "name": "ipython",
    "version": 3
   },
   "file_extension": ".py",
   "mimetype": "text/x-python",
   "name": "python",
   "nbconvert_exporter": "python",
   "pygments_lexer": "ipython3",
   "version": "3.7.6"
  }
 },
 "nbformat": 4,
 "nbformat_minor": 2
}
