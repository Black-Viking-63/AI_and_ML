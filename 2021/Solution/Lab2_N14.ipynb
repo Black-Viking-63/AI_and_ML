{
  "nbformat": 4,
  "nbformat_minor": 0,
  "metadata": {
    "colab": {
      "name": "Lab2_N14.ipynb",
      "provenance": [],
      "collapsed_sections": [
        "WUFUZ4o0fSmw"
      ],
      "toc_visible": true
    },
    "kernelspec": {
      "display_name": "Python 3",
      "name": "python3"
    },
    "language_info": {
      "name": "python"
    }
  },
  "cells": [
    {
      "cell_type": "markdown",
      "metadata": {
        "id": "WUFUZ4o0fSmw"
      },
      "source": [
        "#Лабораторная работа №2. Построение собственного байесовского классификатора."
      ]
    },
    {
      "cell_type": "markdown",
      "metadata": {
        "id": "HSubH5hzy1Ft"
      },
      "source": [
        "Задание на лабораторную работу<br/><br/>\n",
        "Разработайте собственную реализацию байесовского классификатора и сравните её с классификаторами из SciKit-Learn: Gaussian Naive Bayes, Multinomial Naive Bayes, Complement Naive Bayes, Bernoulli Naive Bayes. При обучении классификаторов использовать набор данных, полученный при выполнении лабораторной работы 1.<br/><br/>\n",
        "Замерьте прозводительность классификаторов - время, затраченное на классификацию одного экземпляра данных (одна точка) - и сравните производительность разработанного вами классификатора с классификаторами SciKit-Learn. Замерьте точность классификаторов и сравните точность разработанного вами классификатора с классификаторами SciKit-Learn.<br/><br/>\n",
        "По завершению выполнения работы необходимо (первые 4 пункта обязательны для выполнения):<br/><br/>\n",
        "Построить матрицы ошибок для каждого классификатора;<br/><br/>\n",
        "определить классификатор, имеющий наибольшую точность;<br/><br/>\n",
        "Построить гистограммы производительности для всех классификаторов, разместив их на одном графике;<br/><br/>\n",
        "Определить классификатор с наиболее стабильной производительностью.В качестве критерия стабильности использовать дисперсию времени, затраченного на классификацию одного экземпляра данных (одна точка);<br/><br/>"
      ]
    },
    {
      "cell_type": "markdown",
      "metadata": {
        "id": "THT0rLuxf-_P"
      },
      "source": [
        "# Генерация данных"
      ]
    },
    {
      "cell_type": "markdown",
      "metadata": {
        "id": "2C_NZZJpnvAR"
      },
      "source": [
        "Перед началом работы подключим библиотеки."
      ]
    },
    {
      "cell_type": "code",
      "metadata": {
        "id": "zH6pYrT6ntpS"
      },
      "source": [
        "import numpy as np\n",
        "import pandas as pd\n",
        "import matplotlib.pyplot as plt\n",
        "from collections import defaultdict\n",
        "from sklearn.model_selection import train_test_split\n",
        "from sklearn.metrics import accuracy_score\n",
        "from sklearn.utils import shuffle\n",
        "from sklearn.metrics import confusion_matrix\n",
        "from sklearn.datasets import make_blobs\n",
        "from scipy.stats import norm\n",
        "import time\n",
        "import seaborn as sns\n",
        "from sklearn.naive_bayes import GaussianNB, MultinomialNB, ComplementNB, BernoulliNB\n",
        "from sklearn.preprocessing import MinMaxScaler\n",
        "from sklearn.preprocessing import FunctionTransformer\n",
        "cmap = sns.diverging_palette(220, 10, as_cmap=True) # цветовая палитра для seaborn "
      ],
      "execution_count": 95,
      "outputs": []
    },
    {
      "cell_type": "markdown",
      "metadata": {
        "id": "-Yc8R2Ucoxmx"
      },
      "source": [
        "Создание датасета (Гауссовы облака)."
      ]
    },
    {
      "cell_type": "code",
      "metadata": {
        "id": "dskV6eXLpHRS"
      },
      "source": [
        "# параметры\n",
        "class_Count, elements_Count = 5, 546*5\n",
        "num_iterations = 10\n",
        "# Генерация пяти классов, каждый из которых представим в виде двух признаков\n",
        "X, y = make_blobs(n_samples=elements_Count, centers=class_Count, n_features=2, cluster_std = 1.85, random_state=42)\n",
        " \n",
        "# first_feature, second_feature - признаки; target_value - метка класса\n",
        "columns = {'first_feature': X[:, 0], 'second_feature': X[:, 1], 'target_value': y}\n",
        "data = pd.DataFrame(data = columns)\n",
        "accuracy = pd.DataFrame(columns=['accuracy'])"
      ],
      "execution_count": 138,
      "outputs": []
    },
    {
      "cell_type": "code",
      "metadata": {
        "id": "7WJmehNM5Kke"
      },
      "source": [
        "g = sns.pairplot(data, hue='target_value', palette='pastel')\n",
        "g.fig.set_size_inches(10,10)"
      ],
      "execution_count": null,
      "outputs": []
    },
    {
      "cell_type": "code",
      "metadata": {
        "id": "jsU5S_2g6YXe"
      },
      "source": [
        "import plotly.express as px\n",
        "\n",
        "fig = px.scatter_matrix(data, dimensions=['first_feature', 'second_feature'], color='target_value')\n",
        "fig.show()"
      ],
      "execution_count": null,
      "outputs": []
    },
    {
      "cell_type": "markdown",
      "metadata": {
        "id": "iaEIiHaaw3W6"
      },
      "source": [
        "Разбиение выборки на обучающую и тестовую."
      ]
    },
    {
      "cell_type": "code",
      "metadata": {
        "id": "S5llVHOFw3IF"
      },
      "source": [
        "X_train, X_test, y_train, y_test = train_test_split(data.drop(columns=['target_value']), data['target_value'], test_size = 0.25, random_state = 42)"
      ],
      "execution_count": 142,
      "outputs": []
    },
    {
      "cell_type": "markdown",
      "metadata": {
        "id": "-vAeYSC4ygb8"
      },
      "source": [
        "# Построение собственного Байесовского классификатора"
      ]
    },
    {
      "cell_type": "markdown",
      "metadata": {
        "id": "lHzGPInuAB_N"
      },
      "source": [
        ""
      ]
    },
    {
      "cell_type": "code",
      "metadata": {
        "id": "7kTkvhjX0-Hc"
      },
      "source": [
        "class NaiveBayesClassifier:\n",
        "\n",
        "  def fit(self, X_train, y_train):\n",
        "    self.means = X_train.groupby(y_train).mean()\n",
        "    self.stds = X_train.groupby(y_train).std()\n",
        "    # априорная вероятность классов (количество элементов класса, деленное на общее количество элементов в тренировочном наборе)\n",
        "    self.probs = X_train.groupby(y_train).apply(lambda x: len(x) / X_train.shape[0])\n",
        "  \n",
        "  def predict(self, X_test):\n",
        "    y_pred = []\n",
        "    for elem in range(X_test.shape[0]):\n",
        "      p = {}\n",
        "      for cl in np.unique(y_train):\n",
        "        # априорная вероятность для каждого класса\n",
        "        p[cl] = self.probs.iloc[cl]\n",
        "        for index, param in enumerate(X_test.iloc[elem]):\n",
        "          # вычисляется функция правдоподобия и сразу же умножается на полученную выше априорную вероятность класса\n",
        "          #  P(H|A) ~ P(H)P(A|H), апостериорная вероятность ~ априорная вероятность * функцию правдопободия\n",
        "          p[cl] *= norm.pdf(param, self.means.iloc[cl, index], self.stds.iloc[cl, index])\n",
        "      y_pred.append(pd.Series(p).values.argmax())\n",
        "    return y_pred"
      ],
      "execution_count": 143,
      "outputs": []
    },
    {
      "cell_type": "markdown",
      "metadata": {
        "id": "71J-2bwIxWje"
      },
      "source": [
        "# Задание №1.<br/> Построение матриц ошибок для каждого классификатора."
      ]
    },
    {
      "cell_type": "markdown",
      "metadata": {
        "id": "p4PGZhQUCYFR"
      },
      "source": [
        "## Собственный классификатор"
      ]
    },
    {
      "cell_type": "markdown",
      "metadata": {
        "id": "51jXBTtEBL22"
      },
      "source": [
        "Замеры времени работы построенного классификатора.<br/>\n",
        "Подсчет точности построенного классификатора."
      ]
    },
    {
      "cell_type": "code",
      "metadata": {
        "id": "YUpNCAxh6sFc"
      },
      "source": [
        "times, accuracys = [], []\n",
        "time_NB = []\n",
        "for iter in range(num_iterations):\n",
        "  start = time.time()\n",
        "  model = NaiveBayesClassifier()\n",
        "  model.fit(X_train, y_train)\n",
        "  y_pred = model.predict(X_test)\n",
        "  time_NB.append(float(time.time() - start))\n",
        "score = accuracy_score(y_test, y_pred)\n",
        "accuracy.at['реализованный НБ', 'accuracy'] = score * 100"
      ],
      "execution_count": 160,
      "outputs": []
    },
    {
      "cell_type": "markdown",
      "metadata": {
        "id": "ROOM4SD9xlUV"
      },
      "source": [
        "Матрица ошибок"
      ]
    },
    {
      "cell_type": "code",
      "metadata": {
        "colab": {
          "base_uri": "https://localhost:8080/",
          "height": 406
        },
        "id": "xkcIgfXSuX8m",
        "outputId": "af5f9cd1-0e3f-41b3-96e9-8d577ee4c715"
      },
      "source": [
        "conf_matrix = confusion_matrix(y_test, y_pred)\n",
        "print(conf_matrix)\n",
        "print('\\n')\n",
        "sns.heatmap(conf_matrix, cmap = cmap, annot=True)"
      ],
      "execution_count": 161,
      "outputs": [
        {
          "output_type": "stream",
          "name": "stdout",
          "text": [
            "[[136   0   0   3   3]\n",
            " [  0 126   0   0  25]\n",
            " [  0   0 133   0   0]\n",
            " [  4   0   0 119   0]\n",
            " [  3  26   0   0 105]]\n",
            "\n",
            "\n"
          ]
        },
        {
          "output_type": "execute_result",
          "data": {
            "text/plain": [
              "<matplotlib.axes._subplots.AxesSubplot at 0x7f74f3c9f950>"
            ]
          },
          "metadata": {},
          "execution_count": 161
        },
        {
          "output_type": "display_data",
          "data": {
            "image/png": "[encoded data removed]",
            "text/plain": [
              "<Figure size 432x288 with 2 Axes>"
            ]
          },
          "metadata": {
            "needs_background": "light"
          }
        }
      ]
    },
    {
      "cell_type": "markdown",
      "metadata": {
        "id": "oPlDjoakCqSZ"
      },
      "source": [
        "## Классификаторы из sklearn"
      ]
    },
    {
      "cell_type": "markdown",
      "metadata": {
        "id": "0AVoXlTx5mTg"
      },
      "source": [
        "### GaussianNB"
      ]
    },
    {
      "cell_type": "markdown",
      "metadata": {
        "id": "W6BisrX997Ov"
      },
      "source": [
        "Замеры времени работы Гауссовского классификатора<br/>\n",
        "Подсчет точности классификатора"
      ]
    },
    {
      "cell_type": "code",
      "metadata": {
        "id": "0-e5Svl36BFw"
      },
      "source": [
        "time_gaussian = []\n",
        "for iter in range(num_iterations):  \n",
        "  start = time.time()\n",
        "  model_gaussian = GaussianNB()\n",
        "  model_gaussian.fit(X_train, y_train)\n",
        "  pred_gaussian = model_gaussian.predict(X_test)\n",
        "  time_gaussian.append(float(time.time() - start))\n",
        "score = accuracy_score(y_test, pred_gaussian)\n",
        "accuracy.at['gaussianNB', 'accuracy'] = score * 100"
      ],
      "execution_count": 162,
      "outputs": []
    },
    {
      "cell_type": "markdown",
      "metadata": {
        "id": "SFxPFMYICCof"
      },
      "source": [
        "Матрица ошибок Гауссовского классификатора"
      ]
    },
    {
      "cell_type": "code",
      "metadata": {
        "colab": {
          "base_uri": "https://localhost:8080/",
          "height": 406
        },
        "id": "8tfVia9V_YUq",
        "outputId": "9f5897c0-446c-4078-d5c8-59bffe57c0ba"
      },
      "source": [
        "conf_matrix = confusion_matrix(y_test, pred_gaussian)\n",
        "print(conf_matrix)\n",
        "print('\\n')\n",
        "sns.heatmap(conf_matrix, cmap = cmap, annot=True)"
      ],
      "execution_count": 163,
      "outputs": [
        {
          "output_type": "stream",
          "name": "stdout",
          "text": [
            "[[136   0   0   3   3]\n",
            " [  0 126   0   0  25]\n",
            " [  0   0 133   0   0]\n",
            " [  4   0   0 119   0]\n",
            " [  3  26   0   0 105]]\n",
            "\n",
            "\n"
          ]
        },
        {
          "output_type": "execute_result",
          "data": {
            "text/plain": [
              "<matplotlib.axes._subplots.AxesSubplot at 0x7f74f3c173d0>"
            ]
          },
          "metadata": {},
          "execution_count": 163
        },
        {
          "output_type": "display_data",
          "data": {
            "image/png": "[encoded data removed]",
            "text/plain": [
              "<Figure size 432x288 with 2 Axes>"
            ]
          },
          "metadata": {
            "needs_background": "light"
          }
        }
      ]
    },
    {
      "cell_type": "markdown",
      "metadata": {
        "id": "EuYp0BohCIix"
      },
      "source": [
        "### Подготовка данных"
      ]
    },
    {
      "cell_type": "markdown",
      "metadata": {
        "id": "vAp-f34_FTPn"
      },
      "source": [
        "Произведем нормализацию, так как последующие классификаторы не работают с отрицательными значениями"
      ]
    },
    {
      "cell_type": "code",
      "metadata": {
        "id": "WaXjU-6IECpw"
      },
      "source": [
        "scaler = MinMaxScaler()\n",
        "X_train_scaled= scaler.fit_transform(X_train)\n",
        "X_test_scaled = scaler.transform(X_test)"
      ],
      "execution_count": 164,
      "outputs": []
    },
    {
      "cell_type": "markdown",
      "metadata": {
        "id": "Im2f_s9NELPp"
      },
      "source": [
        "### MultinomialNB"
      ]
    },
    {
      "cell_type": "markdown",
      "metadata": {
        "id": "a6GBdTqfFJ0Q"
      },
      "source": [
        "Замеры времени работы Байсовского классификатора с полиномальной моделью<br/>\n",
        "Подсчет точности классификатора"
      ]
    },
    {
      "cell_type": "code",
      "metadata": {
        "id": "3d0H16GkERTX"
      },
      "source": [
        "time_multinomail = []\n",
        "for iter in range(num_iterations):\n",
        "  start = time.time()\n",
        "  model_multinomail = MultinomialNB()\n",
        "  model_multinomail.fit(X_train_scaled, y_train)\n",
        "  pred_multinomail = model_multinomail.predict(X_test_scaled)\n",
        "  time_multinomail.append(float(time.time() - start))\n",
        "score = accuracy_score(y_test,  pred_multinomail)\n",
        "accuracy.at['multinomailNB', 'accuracy'] = score * 100"
      ],
      "execution_count": 165,
      "outputs": []
    },
    {
      "cell_type": "markdown",
      "metadata": {
        "id": "j-QXzkbRFhXf"
      },
      "source": [
        "Матрица ошибок Байсовского классификатора с полиномальной моделью"
      ]
    },
    {
      "cell_type": "code",
      "metadata": {
        "colab": {
          "base_uri": "https://localhost:8080/",
          "height": 406
        },
        "id": "4S_VhcanF-ZY",
        "outputId": "d77426fd-ed4c-449f-b8e8-4c6d997a2eb3"
      },
      "source": [
        "conf_matrix = confusion_matrix(y_test,  pred_multinomail)\n",
        "print(conf_matrix)\n",
        "print('\\n')\n",
        "sns.heatmap(conf_matrix, cmap = cmap, annot=True)"
      ],
      "execution_count": 166,
      "outputs": [
        {
          "output_type": "stream",
          "name": "stdout",
          "text": [
            "[[ 75   0   0  44  23]\n",
            " [  0   0 129   0  22]\n",
            " [  0   0  89   7  37]\n",
            " [  0   0   0 123   0]\n",
            " [  1   0  31   0 102]]\n",
            "\n",
            "\n"
          ]
        },
        {
          "output_type": "execute_result",
          "data": {
            "text/plain": [
              "<matplotlib.axes._subplots.AxesSubplot at 0x7f74f347ff90>"
            ]
          },
          "metadata": {},
          "execution_count": 166
        },
        {
          "output_type": "display_data",
          "data": {
            "image/png": "[encoded data removed]",
            "text/plain": [
              "<Figure size 432x288 with 2 Axes>"
            ]
          },
          "metadata": {
            "needs_background": "light"
          }
        }
      ]
    },
    {
      "cell_type": "markdown",
      "metadata": {
        "id": "YL9VeMiQHufp"
      },
      "source": [
        "### ComplementNB"
      ]
    },
    {
      "cell_type": "markdown",
      "metadata": {
        "id": "XIqLyXqLH2W5"
      },
      "source": [
        "Замеры времени работы Байесовского классификатора использующего алгоритм дополнения.<br/>\n",
        "Подсчет точности классификатора"
      ]
    },
    {
      "cell_type": "code",
      "metadata": {
        "id": "J_rq8j5cIXdY"
      },
      "source": [
        "# качество работы зависит от данных, ComplementNB, как правило, показывает лучший результат на несбалансированных данных \n",
        "# в нашем случае каждый класс имеет одинаковое количество элементов -> данные сбалансированны\n",
        "time_complement = []\n",
        "for iter in range(num_iterations):\n",
        "  \n",
        "  start = time.time()\n",
        "  model_complement = ComplementNB()\n",
        "  model_complement.fit(X_train_scaled, y_train)\n",
        "  pred_complement = model_complement.predict(X_test_scaled)\n",
        "  time_complement.append(float(time.time() - start))\n",
        "score = accuracy_score(y_test,  pred_complement)\n",
        "accuracy.at['complementNB', 'accuracy'] = score * 100"
      ],
      "execution_count": 167,
      "outputs": []
    },
    {
      "cell_type": "markdown",
      "metadata": {
        "id": "JXOqRfeNI3A5"
      },
      "source": [
        "Матрица ошибок Байесовского классификатора использующего алгоритм дополнения."
      ]
    },
    {
      "cell_type": "code",
      "metadata": {
        "colab": {
          "base_uri": "https://localhost:8080/",
          "height": 406
        },
        "id": "qj6ZiZM6I9vI",
        "outputId": "cd616a60-afce-4d22-be61-718a36252308"
      },
      "source": [
        "conf_matrix = confusion_matrix(y_test, pred_complement)\n",
        "print(conf_matrix)\n",
        "print('\\n')\n",
        "sns.heatmap(conf_matrix, cmap = cmap, annot=True)"
      ],
      "execution_count": 168,
      "outputs": [
        {
          "output_type": "stream",
          "name": "stdout",
          "text": [
            "[[  0   1   0 141   0]\n",
            " [  0 150   0   1   0]\n",
            " [  0 114   0  19   0]\n",
            " [  0   0   0 123   0]\n",
            " [  0 123   0  11   0]]\n",
            "\n",
            "\n"
          ]
        },
        {
          "output_type": "execute_result",
          "data": {
            "text/plain": [
              "<matplotlib.axes._subplots.AxesSubplot at 0x7f74f346d510>"
            ]
          },
          "metadata": {},
          "execution_count": 168
        },
        {
          "output_type": "display_data",
          "data": {
            "image/png": "[encoded data removed]",
            "text/plain": [
              "<Figure size 432x288 with 2 Axes>"
            ]
          },
          "metadata": {
            "needs_background": "light"
          }
        }
      ]
    },
    {
      "cell_type": "markdown",
      "metadata": {
        "id": "NG-l8ZDOJl2v"
      },
      "source": [
        "### BernoulliNB"
      ]
    },
    {
      "cell_type": "markdown",
      "metadata": {
        "id": "cPbOQ-rSJlrw"
      },
      "source": [
        "Замеры времени работы Байесовского классификатора для многомерных моделей Бернулли.<br/>\n",
        "Подсчет точности Байесовского классификатора для многомерных моделей Бернулли."
      ]
    },
    {
      "cell_type": "code",
      "metadata": {
        "id": "duxCnS4NJkww"
      },
      "source": [
        "# качество работы зависит от данных, BernoulliNB, как правило, показывает лучший результат на бинарных данных\n",
        "time_bernoulli = []\n",
        "for iter in range(num_iterations):\n",
        "  \n",
        "  start = time.time()\n",
        "  model_bernoulli = BernoulliNB()\n",
        "  model_bernoulli.fit(X_train_scaled, y_train)\n",
        "  pred_bernoulli = model_bernoulli.predict(X_test_scaled)\n",
        "  time_bernoulli.append(float(time.time() - start))\n",
        "score = accuracy_score(y_test,  pred_bernoulli)\n",
        "accuracy.at['bernoulliNB', 'accuracy'] = score * 100"
      ],
      "execution_count": 170,
      "outputs": []
    },
    {
      "cell_type": "markdown",
      "metadata": {
        "id": "97rX7BW8KBAb"
      },
      "source": [
        "Матрица ошибок Байесовского классификатора для многомерных моделей Бернулли"
      ]
    },
    {
      "cell_type": "code",
      "metadata": {
        "colab": {
          "base_uri": "https://localhost:8080/",
          "height": 406
        },
        "id": "-aOkcwARKBNP",
        "outputId": "0695b7b8-1d60-4d22-bfe2-1feee7ff4a4e"
      },
      "source": [
        "conf_matrix = confusion_matrix(y_test, pred_bernoulli)\n",
        "print(conf_matrix)\n",
        "print('\\n')\n",
        "sns.heatmap(conf_matrix, cmap = cmap, annot=True)"
      ],
      "execution_count": 171,
      "outputs": [
        {
          "output_type": "stream",
          "name": "stdout",
          "text": [
            "[[  0   0   0 142   0]\n",
            " [  0   0   0 151   0]\n",
            " [  0   0   0 133   0]\n",
            " [  0   0   0 123   0]\n",
            " [  0   0   0 134   0]]\n",
            "\n",
            "\n"
          ]
        },
        {
          "output_type": "execute_result",
          "data": {
            "text/plain": [
              "<matplotlib.axes._subplots.AxesSubplot at 0x7f74f33f6b10>"
            ]
          },
          "metadata": {},
          "execution_count": 171
        },
        {
          "output_type": "display_data",
          "data": {
            "image/png": "[encoded data removed]",
            "text/plain": [
              "<Figure size 432x288 with 2 Axes>"
            ]
          },
          "metadata": {
            "needs_background": "light"
          }
        }
      ]
    },
    {
      "cell_type": "markdown",
      "metadata": {
        "id": "E4kuNw2hKZW6"
      },
      "source": [
        "# Задание №2.<br/> Определить классификатор, имеющий наибольшую точность."
      ]
    },
    {
      "cell_type": "markdown",
      "metadata": {
        "id": "ojXftABHKzlo"
      },
      "source": [
        "Для определения классификатора с максимальной точностью обратимся к таблице со значениями точности классификаторов."
      ]
    },
    {
      "cell_type": "code",
      "metadata": {
        "colab": {
          "base_uri": "https://localhost:8080/",
          "height": 203
        },
        "id": "mSvWAH34LIYY",
        "outputId": "c94989e0-b69f-4b5e-c259-ef7c8ce04986"
      },
      "source": [
        "quality = accuracy.accuracy.sort_values(ascending=False).to_frame()\n",
        "quality"
      ],
      "execution_count": 172,
      "outputs": [
        {
          "output_type": "execute_result",
          "data": {
            "text/html": [
              "<div>\n",
              "<style scoped>\n",
              "    .dataframe tbody tr th:only-of-type {\n",
              "        vertical-align: middle;\n",
              "    }\n",
              "\n",
              "    .dataframe tbody tr th {\n",
              "        vertical-align: top;\n",
              "    }\n",
              "\n",
              "    .dataframe thead th {\n",
              "        text-align: right;\n",
              "    }\n",
              "</style>\n",
              "<table border=\"1\" class=\"dataframe\">\n",
              "  <thead>\n",
              "    <tr style=\"text-align: right;\">\n",
              "      <th></th>\n",
              "      <th>accuracy</th>\n",
              "    </tr>\n",
              "  </thead>\n",
              "  <tbody>\n",
              "    <tr>\n",
              "      <th>gaussianNB</th>\n",
              "      <td>90.6296</td>\n",
              "    </tr>\n",
              "    <tr>\n",
              "      <th>реализованный НБ</th>\n",
              "      <td>90.6296</td>\n",
              "    </tr>\n",
              "    <tr>\n",
              "      <th>multinomailNB</th>\n",
              "      <td>56.9546</td>\n",
              "    </tr>\n",
              "    <tr>\n",
              "      <th>complementNB</th>\n",
              "      <td>39.9707</td>\n",
              "    </tr>\n",
              "    <tr>\n",
              "      <th>bernoulliNB</th>\n",
              "      <td>18.0088</td>\n",
              "    </tr>\n",
              "  </tbody>\n",
              "</table>\n",
              "</div>"
            ],
            "text/plain": [
              "                 accuracy\n",
              "gaussianNB        90.6296\n",
              "реализованный НБ  90.6296\n",
              "multinomailNB     56.9546\n",
              "complementNB      39.9707\n",
              "bernoulliNB       18.0088"
            ]
          },
          "metadata": {},
          "execution_count": 172
        }
      ]
    },
    {
      "cell_type": "markdown",
      "metadata": {
        "id": "bFO6ffHePDw5"
      },
      "source": [
        "Построенные и Гауссовский калссификаторы показали одинаковую точность? Проверим это!"
      ]
    },
    {
      "cell_type": "code",
      "metadata": {
        "colab": {
          "base_uri": "https://localhost:8080/"
        },
        "id": "qKvKD7pjO286",
        "outputId": "3e296ed0-549c-477b-b95f-51715aeaf084"
      },
      "source": [
        "quality.accuracy[0] == quality.accuracy[1]"
      ],
      "execution_count": 173,
      "outputs": [
        {
          "output_type": "execute_result",
          "data": {
            "text/plain": [
              "True"
            ]
          },
          "metadata": {},
          "execution_count": 173
        }
      ]
    },
    {
      "cell_type": "markdown",
      "metadata": {
        "id": "VJHstXd5Nsx0"
      },
      "source": [
        "# Задание 3.<br/> Построение гистограммы производительности всех классификаторов на одном графике."
      ]
    },
    {
      "cell_type": "code",
      "metadata": {
        "colab": {
          "base_uri": "https://localhost:8080/",
          "height": 542
        },
        "id": "hHAjVM0eQKZ6",
        "outputId": "d2b05ea1-197d-4fea-e903-1c7188ef7fc8"
      },
      "source": [
        "times = pd.DataFrame({\n",
        "    'Реализация наивного байеса': time_NB,\n",
        "    'gaussianNB': time_gaussian,\n",
        "    'multinomailNB': time_multinomail,\n",
        "    'bernoulliNB': time_bernoulli,\n",
        "    'complementNB': time_complement\n",
        "})\n",
        "import plotly.graph_objects as go\n",
        "\n",
        "fig = go.Figure()\n",
        "fig.add_trace(go.Histogram(x=times['bernoulliNB'], name='bernouliNB'))\n",
        "fig.add_trace(go.Histogram(x=times['gaussianNB'], name='gaussianNB'))\n",
        "fig.add_trace(go.Histogram(x=times['multinomailNB'], name='multinomailNB'))\n",
        "fig.add_trace(go.Histogram(x=times['complementNB'], name='complenetNB'))\n",
        "fig.add_trace(go.Histogram(x=times['Реализация наивного байеса'], name='Реализация наивного байеса'))\n",
        "\n",
        "fig.update_layout(barmode='overlay')\n",
        "fig.update_traces(opacity=0.75)\n",
        "fig.show()"
      ],
      "execution_count": 192,
      "outputs": [
        {
          "output_type": "display_data",
          "data": {
            "text/html": [
              "<html>\n",
              "<head><meta charset=\"utf-8\" /></head>\n",
              "<body>\n",
              "    <div>\n",
              "            <script src=\"https://cdnjs.cloudflare.com/ajax/libs/mathjax/2.7.5/MathJax.js?config=TeX-AMS-MML_SVG\"></script><script type=\"text/javascript\">if (window.MathJax) {MathJax.Hub.Config({SVG: {font: \"STIX-Web\"}});}</script>\n",
              "                <script type=\"text/javascript\">window.PlotlyConfig = {MathJaxConfig: 'local'};</script>\n",
              "        <script src=\"https://cdn.plot.ly/plotly-latest.min.js\"></script>    \n",
              "            <div id=\"eb08f60f-3ce9-490b-9143-5751f3a1bc7c\" class=\"plotly-graph-div\" style=\"height:525px; width:100%;\"></div>\n",
              "            <script type=\"text/javascript\">\n",
              "                \n",
              "                    window.PLOTLYENV=window.PLOTLYENV || {};\n",
              "                    \n",
              "                if (document.getElementById(\"eb08f60f-3ce9-490b-9143-5751f3a1bc7c\")) {\n",
              "                    Plotly.newPlot(\n",
              "                        'eb08f60f-3ce9-490b-9143-5751f3a1bc7c',\n",
              "                        [{\"name\": \"bernouliNB\", \"opacity\": 0.75, \"type\": \"histogram\", \"x\": [0.0034422874450683594, 0.003701448440551758, 0.0027120113372802734, 0.001495361328125, 0.0014278888702392578, 0.0014557838439941406, 0.0014312267303466797, 0.0018417835235595703, 0.0017940998077392578, 0.0013957023620605469]}, {\"name\": \"gaussianNB\", \"opacity\": 0.75, \"type\": \"histogram\", \"x\": [0.006877422332763672, 0.0035157203674316406, 0.002161264419555664, 0.0021333694458007812, 0.0021173954010009766, 0.0021457672119140625, 0.002115964889526367, 0.002076387405395508, 0.0020766258239746094, 0.0020744800567626953]}, {\"name\": \"multinomailNB\", \"opacity\": 0.75, \"type\": \"histogram\", \"x\": [0.003997087478637695, 0.0045735836029052734, 0.0019936561584472656, 0.0015041828155517578, 0.0012826919555664062, 0.0012507438659667969, 0.0012333393096923828, 0.001241445541381836, 0.0012531280517578125, 0.0012116432189941406]}, {\"name\": \"complenetNB\", \"opacity\": 0.75, \"type\": \"histogram\", \"x\": [0.002765178680419922, 0.002019643783569336, 0.002410411834716797, 0.0020771026611328125, 0.0023224353790283203, 0.0014958381652832031, 0.0015168190002441406, 0.001314401626586914, 0.0012590885162353516, 0.0012362003326416016]}, {\"name\": \"\\u0420\\u0435\\u0430\\u043b\\u0438\\u0437\\u0430\\u0446\\u0438\\u044f \\u043d\\u0430\\u0438\\u0432\\u043d\\u043e\\u0433\\u043e \\u0431\\u0430\\u0439\\u0435\\u0441\\u0430\", \"opacity\": 0.75, \"type\": \"histogram\", \"x\": [2.329834461212158, 2.2234933376312256, 2.2341673374176025, 2.2343337535858154, 2.216808319091797, 2.1759746074676514, 2.172591209411621, 2.201420545578003, 2.1955435276031494, 2.1677005290985107]}],\n",
              "                        {\"barmode\": \"overlay\", \"template\": {\"data\": {\"bar\": [{\"error_x\": {\"color\": \"#2a3f5f\"}, \"error_y\": {\"color\": \"#2a3f5f\"}, \"marker\": {\"line\": {\"color\": \"#E5ECF6\", \"width\": 0.5}}, \"type\": \"bar\"}], \"barpolar\": [{\"marker\": {\"line\": {\"color\": \"#E5ECF6\", \"width\": 0.5}}, \"type\": \"barpolar\"}], \"carpet\": [{\"aaxis\": {\"endlinecolor\": \"#2a3f5f\", \"gridcolor\": \"white\", \"linecolor\": \"white\", \"minorgridcolor\": \"white\", \"startlinecolor\": \"#2a3f5f\"}, \"baxis\": {\"endlinecolor\": \"#2a3f5f\", \"gridcolor\": \"white\", \"linecolor\": \"white\", \"minorgridcolor\": \"white\", \"startlinecolor\": \"#2a3f5f\"}, \"type\": \"carpet\"}], \"choropleth\": [{\"colorbar\": {\"outlinewidth\": 0, \"ticks\": \"\"}, \"type\": \"choropleth\"}], \"contour\": [{\"colorbar\": {\"outlinewidth\": 0, \"ticks\": \"\"}, \"colorscale\": [[0.0, \"#0d0887\"], [0.1111111111111111, \"#46039f\"], [0.2222222222222222, \"#7201a8\"], [0.3333333333333333, \"#9c179e\"], [0.4444444444444444, \"#bd3786\"], [0.5555555555555556, \"#d8576b\"], [0.6666666666666666, \"#ed7953\"], [0.7777777777777778, \"#fb9f3a\"], [0.8888888888888888, \"#fdca26\"], [1.0, \"#f0f921\"]], \"type\": \"contour\"}], \"contourcarpet\": [{\"colorbar\": {\"outlinewidth\": 0, \"ticks\": \"\"}, \"type\": \"contourcarpet\"}], \"heatmap\": [{\"colorbar\": {\"outlinewidth\": 0, \"ticks\": \"\"}, \"colorscale\": [[0.0, \"#0d0887\"], [0.1111111111111111, \"#46039f\"], [0.2222222222222222, \"#7201a8\"], [0.3333333333333333, \"#9c179e\"], [0.4444444444444444, \"#bd3786\"], [0.5555555555555556, \"#d8576b\"], [0.6666666666666666, \"#ed7953\"], [0.7777777777777778, \"#fb9f3a\"], [0.8888888888888888, \"#fdca26\"], [1.0, \"#f0f921\"]], \"type\": \"heatmap\"}], \"heatmapgl\": [{\"colorbar\": {\"outlinewidth\": 0, \"ticks\": \"\"}, \"colorscale\": [[0.0, \"#0d0887\"], [0.1111111111111111, \"#46039f\"], [0.2222222222222222, \"#7201a8\"], [0.3333333333333333, \"#9c179e\"], [0.4444444444444444, \"#bd3786\"], [0.5555555555555556, \"#d8576b\"], [0.6666666666666666, \"#ed7953\"], [0.7777777777777778, \"#fb9f3a\"], [0.8888888888888888, \"#fdca26\"], [1.0, \"#f0f921\"]], \"type\": \"heatmapgl\"}], \"histogram\": [{\"marker\": {\"colorbar\": {\"outlinewidth\": 0, \"ticks\": \"\"}}, \"type\": \"histogram\"}], \"histogram2d\": [{\"colorbar\": {\"outlinewidth\": 0, \"ticks\": \"\"}, \"colorscale\": [[0.0, \"#0d0887\"], [0.1111111111111111, \"#46039f\"], [0.2222222222222222, \"#7201a8\"], [0.3333333333333333, \"#9c179e\"], [0.4444444444444444, \"#bd3786\"], [0.5555555555555556, \"#d8576b\"], [0.6666666666666666, \"#ed7953\"], [0.7777777777777778, \"#fb9f3a\"], [0.8888888888888888, \"#fdca26\"], [1.0, \"#f0f921\"]], \"type\": \"histogram2d\"}], \"histogram2dcontour\": [{\"colorbar\": {\"outlinewidth\": 0, \"ticks\": \"\"}, \"colorscale\": [[0.0, \"#0d0887\"], [0.1111111111111111, \"#46039f\"], [0.2222222222222222, \"#7201a8\"], [0.3333333333333333, \"#9c179e\"], [0.4444444444444444, \"#bd3786\"], [0.5555555555555556, \"#d8576b\"], [0.6666666666666666, \"#ed7953\"], [0.7777777777777778, \"#fb9f3a\"], [0.8888888888888888, \"#fdca26\"], [1.0, \"#f0f921\"]], \"type\": \"histogram2dcontour\"}], \"mesh3d\": [{\"colorbar\": {\"outlinewidth\": 0, \"ticks\": \"\"}, \"type\": \"mesh3d\"}], \"parcoords\": [{\"line\": {\"colorbar\": {\"outlinewidth\": 0, \"ticks\": \"\"}}, \"type\": \"parcoords\"}], \"pie\": [{\"automargin\": true, \"type\": \"pie\"}], \"scatter\": [{\"marker\": {\"colorbar\": {\"outlinewidth\": 0, \"ticks\": \"\"}}, \"type\": \"scatter\"}], \"scatter3d\": [{\"line\": {\"colorbar\": {\"outlinewidth\": 0, \"ticks\": \"\"}}, \"marker\": {\"colorbar\": {\"outlinewidth\": 0, \"ticks\": \"\"}}, \"type\": \"scatter3d\"}], \"scattercarpet\": [{\"marker\": {\"colorbar\": {\"outlinewidth\": 0, \"ticks\": \"\"}}, \"type\": \"scattercarpet\"}], \"scattergeo\": [{\"marker\": {\"colorbar\": {\"outlinewidth\": 0, \"ticks\": \"\"}}, \"type\": \"scattergeo\"}], \"scattergl\": [{\"marker\": {\"colorbar\": {\"outlinewidth\": 0, \"ticks\": \"\"}}, \"type\": \"scattergl\"}], \"scattermapbox\": [{\"marker\": {\"colorbar\": {\"outlinewidth\": 0, \"ticks\": \"\"}}, \"type\": \"scattermapbox\"}], \"scatterpolar\": [{\"marker\": {\"colorbar\": {\"outlinewidth\": 0, \"ticks\": \"\"}}, \"type\": \"scatterpolar\"}], \"scatterpolargl\": [{\"marker\": {\"colorbar\": {\"outlinewidth\": 0, \"ticks\": \"\"}}, \"type\": \"scatterpolargl\"}], \"scatterternary\": [{\"marker\": {\"colorbar\": {\"outlinewidth\": 0, \"ticks\": \"\"}}, \"type\": \"scatterternary\"}], \"surface\": [{\"colorbar\": {\"outlinewidth\": 0, \"ticks\": \"\"}, \"colorscale\": [[0.0, \"#0d0887\"], [0.1111111111111111, \"#46039f\"], [0.2222222222222222, \"#7201a8\"], [0.3333333333333333, \"#9c179e\"], [0.4444444444444444, \"#bd3786\"], [0.5555555555555556, \"#d8576b\"], [0.6666666666666666, \"#ed7953\"], [0.7777777777777778, \"#fb9f3a\"], [0.8888888888888888, \"#fdca26\"], [1.0, \"#f0f921\"]], \"type\": \"surface\"}], \"table\": [{\"cells\": {\"fill\": {\"color\": \"#EBF0F8\"}, \"line\": {\"color\": \"white\"}}, \"header\": {\"fill\": {\"color\": \"#C8D4E3\"}, \"line\": {\"color\": \"white\"}}, \"type\": \"table\"}]}, \"layout\": {\"annotationdefaults\": {\"arrowcolor\": \"#2a3f5f\", \"arrowhead\": 0, \"arrowwidth\": 1}, \"coloraxis\": {\"colorbar\": {\"outlinewidth\": 0, \"ticks\": \"\"}}, \"colorscale\": {\"diverging\": [[0, \"#8e0152\"], [0.1, \"#c51b7d\"], [0.2, \"#de77ae\"], [0.3, \"#f1b6da\"], [0.4, \"#fde0ef\"], [0.5, \"#f7f7f7\"], [0.6, \"#e6f5d0\"], [0.7, \"#b8e186\"], [0.8, \"#7fbc41\"], [0.9, \"#4d9221\"], [1, \"#276419\"]], \"sequential\": [[0.0, \"#0d0887\"], [0.1111111111111111, \"#46039f\"], [0.2222222222222222, \"#7201a8\"], [0.3333333333333333, \"#9c179e\"], [0.4444444444444444, \"#bd3786\"], [0.5555555555555556, \"#d8576b\"], [0.6666666666666666, \"#ed7953\"], [0.7777777777777778, \"#fb9f3a\"], [0.8888888888888888, \"#fdca26\"], [1.0, \"#f0f921\"]], \"sequentialminus\": [[0.0, \"#0d0887\"], [0.1111111111111111, \"#46039f\"], [0.2222222222222222, \"#7201a8\"], [0.3333333333333333, \"#9c179e\"], [0.4444444444444444, \"#bd3786\"], [0.5555555555555556, \"#d8576b\"], [0.6666666666666666, \"#ed7953\"], [0.7777777777777778, \"#fb9f3a\"], [0.8888888888888888, \"#fdca26\"], [1.0, \"#f0f921\"]]}, \"colorway\": [\"#636efa\", \"#EF553B\", \"#00cc96\", \"#ab63fa\", \"#FFA15A\", \"#19d3f3\", \"#FF6692\", \"#B6E880\", \"#FF97FF\", \"#FECB52\"], \"font\": {\"color\": \"#2a3f5f\"}, \"geo\": {\"bgcolor\": \"white\", \"lakecolor\": \"white\", \"landcolor\": \"#E5ECF6\", \"showlakes\": true, \"showland\": true, \"subunitcolor\": \"white\"}, \"hoverlabel\": {\"align\": \"left\"}, \"hovermode\": \"closest\", \"mapbox\": {\"style\": \"light\"}, \"paper_bgcolor\": \"white\", \"plot_bgcolor\": \"#E5ECF6\", \"polar\": {\"angularaxis\": {\"gridcolor\": \"white\", \"linecolor\": \"white\", \"ticks\": \"\"}, \"bgcolor\": \"#E5ECF6\", \"radialaxis\": {\"gridcolor\": \"white\", \"linecolor\": \"white\", \"ticks\": \"\"}}, \"scene\": {\"xaxis\": {\"backgroundcolor\": \"#E5ECF6\", \"gridcolor\": \"white\", \"gridwidth\": 2, \"linecolor\": \"white\", \"showbackground\": true, \"ticks\": \"\", \"zerolinecolor\": \"white\"}, \"yaxis\": {\"backgroundcolor\": \"#E5ECF6\", \"gridcolor\": \"white\", \"gridwidth\": 2, \"linecolor\": \"white\", \"showbackground\": true, \"ticks\": \"\", \"zerolinecolor\": \"white\"}, \"zaxis\": {\"backgroundcolor\": \"#E5ECF6\", \"gridcolor\": \"white\", \"gridwidth\": 2, \"linecolor\": \"white\", \"showbackground\": true, \"ticks\": \"\", \"zerolinecolor\": \"white\"}}, \"shapedefaults\": {\"line\": {\"color\": \"#2a3f5f\"}}, \"ternary\": {\"aaxis\": {\"gridcolor\": \"white\", \"linecolor\": \"white\", \"ticks\": \"\"}, \"baxis\": {\"gridcolor\": \"white\", \"linecolor\": \"white\", \"ticks\": \"\"}, \"bgcolor\": \"#E5ECF6\", \"caxis\": {\"gridcolor\": \"white\", \"linecolor\": \"white\", \"ticks\": \"\"}}, \"title\": {\"x\": 0.05}, \"xaxis\": {\"automargin\": true, \"gridcolor\": \"white\", \"linecolor\": \"white\", \"ticks\": \"\", \"title\": {\"standoff\": 15}, \"zerolinecolor\": \"white\", \"zerolinewidth\": 2}, \"yaxis\": {\"automargin\": true, \"gridcolor\": \"white\", \"linecolor\": \"white\", \"ticks\": \"\", \"title\": {\"standoff\": 15}, \"zerolinecolor\": \"white\", \"zerolinewidth\": 2}}}},\n",
              "                        {\"responsive\": true}\n",
              "                    ).then(function(){\n",
              "                            \n",
              "var gd = document.getElementById('eb08f60f-3ce9-490b-9143-5751f3a1bc7c');\n",
              "var x = new MutationObserver(function (mutations, observer) {{\n",
              "        var display = window.getComputedStyle(gd).display;\n",
              "        if (!display || display === 'none') {{\n",
              "            console.log([gd, 'removed!']);\n",
              "            Plotly.purge(gd);\n",
              "            observer.disconnect();\n",
              "        }}\n",
              "}});\n",
              "\n",
              "// Listen for the removal of the full notebook cells\n",
              "var notebookContainer = gd.closest('#notebook-container');\n",
              "if (notebookContainer) {{\n",
              "    x.observe(notebookContainer, {childList: true});\n",
              "}}\n",
              "\n",
              "// Listen for the clearing of the current output cell\n",
              "var outputEl = gd.closest('.output');\n",
              "if (outputEl) {{\n",
              "    x.observe(outputEl, {childList: true});\n",
              "}}\n",
              "\n",
              "                        })\n",
              "                };\n",
              "                \n",
              "            </script>\n",
              "        </div>\n",
              "</body>\n",
              "</html>"
            ]
          },
          "metadata": {}
        }
      ]
    },
    {
      "cell_type": "markdown",
      "metadata": {
        "id": "hUq212b8WiMW"
      },
      "source": [
        "# Задание №4.<br/> Определить классификатор с наиболее стабильной производительностью."
      ]
    },
    {
      "cell_type": "code",
      "metadata": {
        "id": "9hmouLnVa2jW"
      },
      "source": [
        "# я хочу рассмотреть и выбрать лучший алгоритм в контексте разных разбиок train-test\n",
        "# так как данные сбалансированны, то, скорее всего, наилучшую точность будут также обеспечивать реализованный наивный байес и gaussianNB\n",
        "\n",
        "test_sizes = [.1, .15, .2, .25, .3, .35, .4, .45, .5, .55 ]\n",
        "time_NB, time_gaussian, time_bernoulli, time_complement, time_multinomail = [], [], [], [], []\n",
        "accuracy_NB, accuracy_gaussian, accuracy_bernoulli, accuracy_complement, accuracy_multinomail = [], [], [], [], []\n",
        "\n",
        "for i, test_size in enumerate(test_sizes):\n",
        "  X_train, X_test, y_train, y_test = train_test_split(data.drop(columns=['target_value']), data['target_value'], test_size = test_size, random_state=42)\n",
        "\n",
        "  for iter in range(num_iterations):\n",
        "\n",
        "    # собственная реализация наивного байеса\n",
        "    start = time.time()\n",
        "    model = NaiveBayesClassifier()\n",
        "    model.fit(X_train, y_train)\n",
        "    y_pred = model.predict(X_test)\n",
        "    time_NB.append(float(time.time() - start))\n",
        "    score = accuracy_score(y_test, y_pred)\n",
        "    accuracy_NB.append(score)\n",
        "\n",
        "    # скилерн реализации\n",
        "    start = time.time()\n",
        "    model_gaussian = GaussianNB()\n",
        "    model_gaussian.fit(X_train, y_train)\n",
        "    pred_gaussian = model_gaussian.predict(X_test)\n",
        "    time_gaussian.append(float(time.time() - start))\n",
        "    score = accuracy_score(y_test, pred_gaussian)\n",
        "    accuracy_gaussian.append(score)\n",
        "\n",
        "    ## масштабирование признаков для решения проблемы с отрицательными числами\n",
        "    scaler = MinMaxScaler()\n",
        "    X_train_scaled= scaler.fit_transform(X_train)\n",
        "    X_test_scaled = scaler.transform(X_test)\n",
        "\n",
        "    start = time.time()\n",
        "    model_multinomail = MultinomialNB()\n",
        "    model_multinomail.fit(X_train_scaled, y_train)\n",
        "    pred_multinomail = model_multinomail.predict(X_test_scaled)\n",
        "    time_multinomail.append(float(time.time() - start))\n",
        "    score = accuracy_score(y_test, pred_multinomail)\n",
        "    accuracy_multinomail.append(score)\n",
        "\n",
        "    start = time.time()\n",
        "    model_complement = ComplementNB()\n",
        "    model_complement.fit(X_train_scaled, y_train)\n",
        "    pred_complement = model_complement.predict(X_test_scaled)\n",
        "    time_complement.append(float(time.time() - start))\n",
        "    score = accuracy_score(y_test, pred_complement)\n",
        "    accuracy_complement.append(score)\n",
        "\n",
        "    start = time.time()\n",
        "    model_bernoulli = BernoulliNB()\n",
        "    model_bernoulli.fit(X_train_scaled, y_train)\n",
        "    pred_bernoulli = model_bernoulli.predict(X_test_scaled)\n",
        "    time_bernoulli.append(float(time.time() - start))\n",
        "    score = accuracy_score(y_test, pred_bernoulli)\n",
        "    accuracy_bernoulli.append(score)"
      ],
      "execution_count": 193,
      "outputs": []
    },
    {
      "cell_type": "code",
      "metadata": {
        "id": "RnZOvqREa5gL"
      },
      "source": [
        "# графики время-точность для выбора лучшего и стабильного классификатора:\n",
        "\n",
        "# датафреймы с результатами\n",
        "results_NB = pd.DataFrame({'accuracy': accuracy_NB, 'time': time_NB})\n",
        "results_gaussian = pd.DataFrame({'accuracy': accuracy_gaussian, 'time': time_gaussian})\n",
        "results_multinomail = pd.DataFrame({'accuracy': accuracy_multinomail, 'time': time_multinomail})\n",
        "results_complement = pd.DataFrame({'accuracy': accuracy_complement, 'time': time_complement})\n",
        "results_bernoulli = pd.DataFrame({'accuracy': accuracy_bernoulli, 'time': time_bernoulli})"
      ],
      "execution_count": 194,
      "outputs": []
    },
    {
      "cell_type": "code",
      "metadata": {
        "colab": {
          "base_uri": "https://localhost:8080/",
          "height": 357
        },
        "id": "-xTD5VsUa7_7",
        "outputId": "09177b18-ced1-4e20-b738-93d333a6fcd5"
      },
      "source": [
        "fig_dims = (5, 5)\n",
        "fig, ax = plt.subplots(figsize=fig_dims)\n",
        "\n",
        "sns.lineplot(x = results_NB.accuracy, y=results_NB.time, data=results_NB,\n",
        "             palette='pastel', color='r', label='Реализация наивного байеса')\n",
        "sns.lineplot(x = results_gaussian.accuracy, y=results_gaussian.time, data=results_gaussian,\n",
        "             palette='pastel', color='b', label='GaussianNB')\n",
        "sns.lineplot(x = results_multinomail.accuracy, y=results_multinomail.time, data=results_multinomail,\n",
        "             palette='pastel', color='g', label='MultinomailNB')\n",
        "sns.lineplot(x = results_complement.accuracy, y=results_complement.time, data=results_complement,\n",
        "             palette='pastel', color='m', label='ComplementNB')\n",
        "sns.lineplot(x = results_bernoulli.accuracy, y=results_bernoulli.time, data=results_bernoulli,\n",
        "             palette='pastel', color='y', label='BernoulliNB')"
      ],
      "execution_count": 195,
      "outputs": [
        {
          "output_type": "execute_result",
          "data": {
            "text/plain": [
              "<matplotlib.axes._subplots.AxesSubplot at 0x7f74f2c2f0d0>"
            ]
          },
          "metadata": {},
          "execution_count": 195
        },
        {
          "output_type": "display_data",
          "data": {
            "image/png": "[encoded data removed]",
            "text/plain": [
              "<Figure size 360x360 with 1 Axes>"
            ]
          },
          "metadata": {}
        }
      ]
    },
    {
      "cell_type": "markdown",
      "metadata": {
        "id": "4JycTwZnnCJ8"
      },
      "source": [
        "Ввиду огромной разницы во времени работы для стандартных алгоритмов из склилерна и собственной реализации байесовского классификатора график выглядит не очень информативным, однако точно можно сказать, что в разрезе точность/время:\n",
        "-  лучший результат как у GaussianNB и у построенного классификатора, потому что он имеет маленький диапазон изменения точности и довольно быстрое исполнение.\n",
        "-  худший результат даёт MultinomailNB, так как несмотря на быстрое испольнение, он имеет большой разброс в точности.\n",
        "-  небольшой разброс в точности и быстрое выполнение есть у BernoulliNB и ComplementNB, но значения в диапазоне низкие, т.е. алгоритмы плохо справляются.\n",
        "\n",
        "Таким образом можно утверждать, что собствееный построенный классификатора, как и GaussianNB из пактеа скилерн являются алгоритмами, обеспечивающим стабильную производительность в разрезе точность/время."
      ]
    },
    {
      "cell_type": "code",
      "metadata": {
        "colab": {
          "base_uri": "https://localhost:8080/",
          "height": 286
        },
        "id": "CIkLWdrOk0zN",
        "outputId": "553486c5-b248-48dc-936f-d78a273cc716"
      },
      "source": [
        "# только точность для алгоритмов, дающих наилучший результат точности\n",
        "\n",
        "sns.lineplot(data=results_NB.accuracy,\n",
        "             palette='pastel', color='r', label='Реализация наивного байеса')\n",
        "sns.lineplot(data=results_gaussian.accuracy,\n",
        "             palette='pastel', color='b', label='GaussianNB')"
      ],
      "execution_count": 197,
      "outputs": [
        {
          "output_type": "execute_result",
          "data": {
            "text/plain": [
              "<matplotlib.axes._subplots.AxesSubplot at 0x7f74f2c0b810>"
            ]
          },
          "metadata": {},
          "execution_count": 197
        },
        {
          "output_type": "display_data",
          "data": {
            "image/png": "[encoded data removed]",
            "text/plain": [
              "<Figure size 432x288 with 1 Axes>"
            ]
          },
          "metadata": {}
        }
      ]
    },
    {
      "cell_type": "code",
      "metadata": {
        "colab": {
          "base_uri": "https://localhost:8080/"
        },
        "id": "uc_7xz7wpO_F",
        "outputId": "24086343-f421-4026-de3a-975859810571"
      },
      "source": [
        "print('Реализация: ', results_NB.accuracy.mean())\n",
        "print('Скилерн: ', results_gaussian.accuracy.mean())"
      ],
      "execution_count": 198,
      "outputs": [
        {
          "output_type": "stream",
          "name": "stdout",
          "text": [
            "Реализация:  0.910366315378474\n",
            "Скилерн:  0.910366315378474\n"
          ]
        }
      ]
    },
    {
      "cell_type": "markdown",
      "metadata": {
        "id": "O8bbMnznpVj1"
      },
      "source": [
        "Видно, что точность у собственной реализации наивного байеса и наивного байеса из скилерн совпадает.\n",
        "\n",
        "Таким образом, самую высокую точность обеспечивает как GaussianNB, так и собственная реализация."
      ]
    }
  ]
}