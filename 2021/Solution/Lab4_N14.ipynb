{
  "nbformat": 4,
  "nbformat_minor": 0,
  "metadata": {
    "colab": {
      "name": "Lab4_N14.ipynb",
      "provenance": [],
      "collapsed_sections": []
    },
    "kernelspec": {
      "name": "python3",
      "display_name": "Python 3"
    },
    "language_info": {
      "name": "python"
    }
  },
  "cells": [
    {
      "cell_type": "markdown",
      "source": [
        "# Лабораторная работа №4 по курсу<br>\"Искусственный Интеллект и Машинное Обучение\""
      ],
      "metadata": {
        "id": "ljkxgrHHe7ob"
      }
    },
    {
      "cell_type": "markdown",
      "source": [
        "# Задание"
      ],
      "metadata": {
        "id": "eciPVikSfQjz"
      }
    },
    {
      "cell_type": "markdown",
      "source": [
        "Найти наиболее информативные признаки для данных вашего варианта.<br>\n",
        "Произвести оценки зависимости точности модели и числа выбранных признаков.<br>\n",
        "Используйте полученные ранее знания, такие как разбиение наборов данных и кросс-валидация."
      ],
      "metadata": {
        "id": "rCx3qESIXAXQ"
      }
    },
    {
      "cell_type": "markdown",
      "source": [
        "## Результаты, которые необходимо получить в итоге:"
      ],
      "metadata": {
        "id": "pM-vRGaoXiVX"
      }
    },
    {
      "cell_type": "markdown",
      "source": [
        "1. DataFrame с признаками и их информативностью, отсортированный по убыванию.\n",
        "2. Графики, показывающие результат оценки зависимости точности модели и числа выбранных признаков.\n",
        "3. Таблица содержащая f1-score, precision, и recall полученные для лучшей модели, которую вы смогли обучить.\n",
        "4. Визуализируйте предсказания вашей лучшей модели.\n",
        "\n",
        "Данные доступны по следующей ссылке:\n",
        "https://beryl.ssau.ru/nextcloud/index.php/s/62ss9Pa9FdpECrt"
      ],
      "metadata": {
        "id": "3A6eA_TmXkq2"
      }
    },
    {
      "cell_type": "markdown",
      "source": [
        "# Подготовка данных"
      ],
      "metadata": {
        "id": "JTThGpl3fUjj"
      }
    },
    {
      "cell_type": "markdown",
      "source": [
        "Подключим необходимые библиотеки"
      ],
      "metadata": {
        "id": "7CgeZryifZlj"
      }
    },
    {
      "cell_type": "code",
      "execution_count": null,
      "metadata": {
        "id": "MvcAhJxEaUpk"
      },
      "outputs": [],
      "source": [
        "import pandas as pd\n",
        "import numpy as np\n",
        "from numpy import load\n",
        "import seaborn as sns\n",
        "import scipy as sp\n",
        "import matplotlib.pyplot as plt\n",
        "from sklearn.metrics import confusion_matrix, accuracy_score\n",
        "from sklearn.feature_selection import SelectKBest, chi2\n",
        "from sklearn.ensemble import ExtraTreesClassifier\n",
        "from sklearn.neural_network import MLPClassifier\n",
        "from sklearn.model_selection import train_test_split, GridSearchCV\n",
        "from sklearn.preprocessing import MinMaxScaler\n",
        "from sklearn.pipeline import Pipeline"
      ]
    },
    {
      "cell_type": "markdown",
      "source": [
        "Загрузим содержимое файлов, согласно варианта заданий.<br>\n",
        "Для упрощени и ускорения загрузки воспользуемся гугл диском.<br>\n",
        "Для для работы \"ноутбука\", необходимо чтобы файлы лежали в домашней директории гугл-диска."
      ],
      "metadata": {
        "id": "Kbx_vR9zfe1b"
      }
    },
    {
      "cell_type": "code",
      "source": [
        "from google.colab import drive\n",
        "drive.mount('/content/drive')\n",
        "specter = load('/content/drive/MyDrive/14.npy')\n",
        "mask = load('/content/drive/MyDrive/14_mask.npy')"
      ],
      "metadata": {
        "id": "vcVCG-3hakcz"
      },
      "execution_count": null,
      "outputs": []
    },
    {
      "cell_type": "markdown",
      "source": [
        "Проверим размерность данных"
      ],
      "metadata": {
        "id": "W-SxX3HCg-CS"
      }
    },
    {
      "cell_type": "code",
      "source": [
        "specter.shape, mask.shape"
      ],
      "metadata": {
        "id": "TzE0COm2g8R7"
      },
      "execution_count": null,
      "outputs": []
    },
    {
      "cell_type": "markdown",
      "source": [
        "Создадим список всех возможных позиций (y, x) для гиперспектра"
      ],
      "metadata": {
        "id": "qj8ysO9zhI9S"
      }
    },
    {
      "cell_type": "code",
      "source": [
        "height = specter.shape[0]\n",
        "width = specter.shape[1]\n",
        "ordered_positions = np.array(np.meshgrid(np.arange(height), np.arange(width))).T.reshape(-1, 2)"
      ],
      "metadata": {
        "id": "hDV1gRRLa8Yz"
      },
      "execution_count": null,
      "outputs": []
    },
    {
      "cell_type": "markdown",
      "source": [
        "Перемешаем и разделим эти позиции"
      ],
      "metadata": {
        "id": "QgbkUgcqVzZX"
      }
    },
    {
      "cell_type": "code",
      "source": [
        "train_indices, test_indices = train_test_split(ordered_positions, train_size=0.05, shuffle=True)"
      ],
      "metadata": {
        "id": "IbHtfU-BbFJ6"
      },
      "execution_count": null,
      "outputs": []
    },
    {
      "cell_type": "markdown",
      "source": [
        "Произведем разделение на выборки: тренировочные и тестовые"
      ],
      "metadata": {
        "id": "01qqEr_rV5Zw"
      }
    },
    {
      "cell_type": "code",
      "source": [
        "x_train = []\n",
        "y_train = []\n",
        "x_test = []\n",
        "y_test = []\n",
        "\n",
        "for idx in train_indices:\n",
        "    x_train.append(specter[idx[0], idx[1], ::])\n",
        "    y_train.append(mask[idx[0], idx[1]])    \n",
        "    \n",
        "for idx in test_indices:\n",
        "    x_test.append(specter[idx[0], idx[1], ::])\n",
        "    y_test.append(mask[idx[0], idx[1]])    \n",
        "    \n",
        "x_train = np.array(x_train, copy=False)\n",
        "y_train = np.array(y_train, copy=False)\n",
        "x_test = np.array(x_test, copy=False)\n",
        "y_test = np.array(y_test, copy=False)\n",
        "x_train.shape, y_train.shape, x_test.shape, y_test.shape"
      ],
      "metadata": {
        "id": "h5XwAG2AbJ4C"
      },
      "execution_count": null,
      "outputs": []
    },
    {
      "cell_type": "markdown",
      "source": [
        "Произведем масштабирование данных"
      ],
      "metadata": {
        "id": "1M3nHgpUW30X"
      }
    },
    {
      "cell_type": "code",
      "source": [
        "mms = MinMaxScaler(feature_range=(1, 10))\n",
        "x_test = mms.fit_transform(x_test,  y_test)\n",
        "x_train = mms.transform(x_train)"
      ],
      "metadata": {
        "id": "awa27ynlbOQy"
      },
      "execution_count": null,
      "outputs": []
    },
    {
      "cell_type": "markdown",
      "source": [
        "# <center> Результат 1. DataFrame с признаками и их информативностью, отсортированный по убыванию. </center>"
      ],
      "metadata": {
        "id": "01_vV0wZXxJo"
      }
    },
    {
      "cell_type": "markdown",
      "source": [
        "## kBest"
      ],
      "metadata": {
        "id": "fbrhh_WMcE4i"
      }
    },
    {
      "cell_type": "markdown",
      "source": [
        "Инициализируем и обучим модель kBest"
      ],
      "metadata": {
        "id": "3_8pwB-kBDRj"
      }
    },
    {
      "cell_type": "code",
      "source": [
        "modelKBest = SelectKBest(score_func=chi2, k=20)\n",
        "modelKBest = modelKBest.fit(x_train, y_train)"
      ],
      "metadata": {
        "id": "ooeQBgndcEFT"
      },
      "execution_count": null,
      "outputs": []
    },
    {
      "cell_type": "code",
      "source": [
        "best_featuresKBest = pd.DataFrame(data=modelKBest.scores_, columns=['chi2_score'])\n",
        "best_featuresKBest.nlargest(20, 'chi2_score')"
      ],
      "metadata": {
        "id": "PLQavOAPdHf6"
      },
      "execution_count": null,
      "outputs": []
    },
    {
      "cell_type": "markdown",
      "source": [
        "## ExtraTreesClassifier"
      ],
      "metadata": {
        "id": "m-EDIZBib5WK"
      }
    },
    {
      "cell_type": "markdown",
      "source": [
        "Инициализируем и обучим модель ExtraTreesClassifier"
      ],
      "metadata": {
        "id": "cR3YI9QNBKTi"
      }
    },
    {
      "cell_type": "code",
      "source": [
        "modelExtraTrees = ExtraTreesClassifier(random_state=1)\n",
        "modelExtraTrees = modelExtraTrees.fit(x_train, y_train)"
      ],
      "metadata": {
        "id": "2T2qiPzzbkrS"
      },
      "execution_count": null,
      "outputs": []
    },
    {
      "cell_type": "code",
      "source": [
        "best_featuresExtraTrees = pd.DataFrame(data=modelExtraTrees.feature_importances_, columns=['feature_importance'])\n",
        "best_featuresExtraTrees.nlargest(20, 'feature_importance')"
      ],
      "metadata": {
        "id": "i9Wxua48btAS"
      },
      "execution_count": null,
      "outputs": []
    },
    {
      "cell_type": "markdown",
      "source": [
        "# <center> Результат 2. Графики, показывающие результат оценки зависимости точности модели и числа выбранных признаков. </center>"
      ],
      "metadata": {
        "id": "cAoIxXNsYlew"
      }
    },
    {
      "cell_type": "markdown",
      "source": [
        "## kBest\n"
      ],
      "metadata": {
        "id": "AzizZ_o7Y7zW"
      }
    },
    {
      "cell_type": "markdown",
      "source": [
        "Произведем построение модели, на основе которой будем строить график"
      ],
      "metadata": {
        "id": "xJWrXMxzDEBr"
      }
    },
    {
      "cell_type": "code",
      "source": [
        "list_Number_features_kBest = list(range(1, 21))\n",
        "list_accuracy_kBest = []\n",
        "\n",
        "# произведем оценку точности для каждого признака\n",
        "for number in list_Number_features_kBest:\n",
        "  # произведем отбор определенного количества признаков для дальнейшей тренировки модели\n",
        "  features_kBest = list(best_featuresKBest.nlargest(number, 'chi2_score').index)\n",
        "  accuracy_kBest = 0\n",
        "  iter_count_kBest = 3\n",
        "\n",
        "  # произведем расчет средней точности по экспериментам на каждой итерации \n",
        "  for i in range(iter_count_kBest):\n",
        "    model = MLPClassifier(max_iter=400, random_state=(2*i+1)*10)\n",
        "    # обучим модель на только что выбранных объектах\n",
        "    model.fit(x_train[:,features_kBest], y_train)\n",
        "    # произведем предсказание на основе тестового набора данных для только что выбранных признаков\n",
        "    y_pred = model.predict(x_test[:,features_kBest])\n",
        "    # произведем оценку точности на текущей итерации\n",
        "    accuracy_kBest += accuracy_score(y_test, y_pred)\n",
        "\n",
        "  accuracy_kBest /= iter_count_kBest\n",
        "  list_accuracy_kBest.append(accuracy_kBest)"
      ],
      "metadata": {
        "id": "S9XcNazya_A3"
      },
      "execution_count": null,
      "outputs": []
    },
    {
      "cell_type": "markdown",
      "source": [
        "Построим график"
      ],
      "metadata": {
        "id": "-16hVJ2RDLj7"
      }
    },
    {
      "cell_type": "code",
      "source": [
        "plt.plot(list_Number_features_kBest, list_accuracy_kBest, 'o-')\n",
        "plt.grid()\n",
        "plt.xlabel('number of features k Best')\n",
        "plt.ylabel('accuracy k Best')\n",
        "plt.title('model k Best')\n",
        "plt.show()"
      ],
      "metadata": {
        "id": "eNssZmLvhBzQ"
      },
      "execution_count": null,
      "outputs": []
    },
    {
      "cell_type": "markdown",
      "source": [
        "## ExtraTreesClassifier"
      ],
      "metadata": {
        "id": "Yf2dLB5ZY-OW"
      }
    },
    {
      "cell_type": "markdown",
      "source": [
        "Произведем построение модели, на основе которой будем строить график"
      ],
      "metadata": {
        "id": "K72gTve6DN_r"
      }
    },
    {
      "cell_type": "code",
      "source": [
        "list_Number_features_ExtraTrees = list(range(1, 21))\n",
        "list_accuracy_ExtraTrees = []\n",
        "\n",
        "# произведем оценку точности для каждого признака\n",
        "for number in list_Number_features_ExtraTrees:\n",
        "  # произведем отбор определенного количества признаков для дальнейшей тренировки модели\n",
        "  features_ExtraTrees = list(best_featuresExtraTrees.nlargest(number, 'feature_importance').index)\n",
        "  accuracy_ExtraTrees = 0\n",
        "  iter_count_ExtraTrees = 3\n",
        "\n",
        "  # произведем расчет средней точности по экспериментам на каждой итерации \n",
        "  for i in range(iter_count_ExtraTrees):\n",
        "    model = MLPClassifier(max_iter=400, random_state=(2*i+1)*10)\n",
        "    # обучим модель на только что выбранных объектах\n",
        "    model.fit(x_train[:,features_ExtraTrees], y_train)\n",
        "    # произведем предсказание на основе тестового набора данных для только что выбранных признаков\n",
        "    y_pred = model.predict(x_test[:,features_ExtraTrees])\n",
        "    # произведем оценку точности на текущей итерации\n",
        "    accuracy_ExtraTrees += accuracy_score(y_test, y_pred)\n",
        "\n",
        "  accuracy_ExtraTrees /= iter_count_ExtraTrees\n",
        "  list_accuracy_ExtraTrees.append(accuracy_ExtraTrees)"
      ],
      "metadata": {
        "id": "KayU_sPLZxkY"
      },
      "execution_count": null,
      "outputs": []
    },
    {
      "cell_type": "markdown",
      "source": [
        "Построим график"
      ],
      "metadata": {
        "id": "n7WtibiQDO7S"
      }
    },
    {
      "cell_type": "code",
      "source": [
        "plt.plot(list_Number_features_ExtraTrees, list_accuracy_ExtraTrees, 'o-')\n",
        "plt.grid()\n",
        "plt.xlabel('number of features Extra Trees')\n",
        "plt.ylabel('accuracy Extra Trees')\n",
        "plt.title('model Extra Trees')\n",
        "plt.show()"
      ],
      "metadata": {
        "id": "_SiMYrAsbklg"
      },
      "execution_count": null,
      "outputs": []
    },
    {
      "cell_type": "markdown",
      "source": [
        "## Выбор лучшей модели"
      ],
      "metadata": {
        "id": "FsavIbffDTKS"
      }
    },
    {
      "cell_type": "markdown",
      "source": [
        "Рассматривая графики, соершенно точно можно сказать, что лучшей моделью будет являться<br>***ExtraTreesClassifier***<br>\n",
        "собственно с ней мы и продолжим работу."
      ],
      "metadata": {
        "id": "Lu9cMD_KDYKD"
      }
    },
    {
      "cell_type": "markdown",
      "source": [
        "# <center> Результат 3. Таблица содержащая f1-score, precision, и recall полученные для лучшей модели, которую вы смогли обучить. </center>"
      ],
      "metadata": {
        "id": "uL8cNF0dylVp"
      }
    },
    {
      "cell_type": "code",
      "source": [
        "best_model = MLPClassifier(max_iter=400, random_state=0)\n",
        "\n",
        "parameters = {\n",
        "    'hidden_layer_sizes': [(50,), (100,), (150,)]\n",
        "}\n",
        "\n",
        "metrics = ['precision_macro', 'recall_macro', 'f1_macro']\n",
        "\n",
        "search = GridSearchCV(\n",
        "    estimator=best_model,\n",
        "    param_grid=parameters,\n",
        "    scoring=metrics,\n",
        "    refit='precision_macro'\n",
        ")"
      ],
      "metadata": {
        "id": "RYK4kpJ56V_y"
      },
      "execution_count": null,
      "outputs": []
    },
    {
      "cell_type": "code",
      "source": [
        "tventy_best_featuresExtraTrees = list(best_featuresExtraTrees.nlargest(20, 'feature_importance').index)\n",
        "search.fit(x_train[:,tventy_best_featuresExtraTrees], y_train)"
      ],
      "metadata": {
        "id": "p-7TXjDx7rka"
      },
      "execution_count": null,
      "outputs": []
    },
    {
      "cell_type": "code",
      "source": [
        "results = search.cv_results_\n",
        "results_df = pd.DataFrame(results)\n",
        "results_df[['mean_test_precision_macro', 'mean_test_recall_macro', 'mean_test_f1_macro']]"
      ],
      "metadata": {
        "id": "lzOf8NY496GT"
      },
      "execution_count": null,
      "outputs": []
    },
    {
      "cell_type": "markdown",
      "source": [
        "# <center> Результат 4. Визуализируйте предсказания вашей лучшей модели. </center>"
      ],
      "metadata": {
        "id": "NmFxDUBe_11C"
      }
    },
    {
      "cell_type": "code",
      "source": [
        "best_model = search.best_estimator_"
      ],
      "metadata": {
        "id": "B09H4hMG-BYq"
      },
      "execution_count": null,
      "outputs": []
    },
    {
      "cell_type": "code",
      "source": [
        "train_preds = best_model.predict(x_train[:,tventy_best_featuresExtraTrees])\n",
        "test_preds = best_model.predict(x_test[:,tventy_best_featuresExtraTrees])"
      ],
      "metadata": {
        "id": "TG5BU0OE_bP7"
      },
      "execution_count": null,
      "outputs": []
    },
    {
      "cell_type": "code",
      "source": [
        "predictions_map = np.zeros_like(mask)"
      ],
      "metadata": {
        "id": "Tc9gvwBN_TLT"
      },
      "execution_count": null,
      "outputs": []
    },
    {
      "cell_type": "code",
      "source": [
        "for (y, x), pred in zip(train_indices, train_preds):\n",
        "    predictions_map[y, x] = pred\n",
        "    \n",
        "for (y, x), pred in zip(test_indices, test_preds):\n",
        "    predictions_map[y, x] = pred"
      ],
      "metadata": {
        "id": "lrAUKjOZ_gLi"
      },
      "execution_count": null,
      "outputs": []
    },
    {
      "cell_type": "code",
      "source": [
        "fig, (ax1, ax2) = plt.subplots(ncols=2, figsize=(15, 10))\n",
        "sns.heatmap(mask, ax=ax1)\n",
        "sns.heatmap(predictions_map, ax=ax2)\n",
        "ax1.set_title('Mask')\n",
        "ax2.set_title('Predictions')"
      ],
      "metadata": {
        "id": "Gb-6tZKA_kBB"
      },
      "execution_count": null,
      "outputs": []
    }
  ]
}